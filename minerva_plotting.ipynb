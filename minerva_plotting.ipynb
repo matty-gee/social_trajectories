{
 "cells": [
  {
   "cell_type": "code",
   "execution_count": 1,
   "metadata": {},
   "outputs": [
    {
     "name": "stderr",
     "output_type": "stream",
     "text": [
      "2023-04-04 16:30:00.560995: I tensorflow/core/platform/cpu_feature_guard.cc:193] This TensorFlow binary is optimized with oneAPI Deep Neural Network Library (oneDNN) to use the following CPU instructions in performance-critical operations:  AVX2 FMA\n",
      "To enable them in other operations, rebuild TensorFlow with the appropriate compiler flags.\n"
     ]
    },
    {
     "name": "stdout",
     "output_type": "stream",
     "text": [
      "Found 60 timeseries files\n",
      "Found 90 pca files\n",
      "Found 90 iso files\n",
      "Found 90 mds files\n",
      "Found 90 lle files\n",
      "Found 90 spec files\n",
      "Found 90 umap files\n",
      "Found 53 mask nifties\n"
     ]
    }
   ],
   "source": [
    "from utils_project import *\n",
    "from utils_timeseries import *\n",
    "from info import task"
   ]
  },
  {
   "cell_type": "code",
   "execution_count": 41,
   "metadata": {},
   "outputs": [
    {
     "name": "stdout",
     "output_type": "stream",
     "text": [
      "Found 2 total embeddings\n",
      "Found 2 lle embeddings\n",
      "Already exists: /Users/matty_gee/Desktop/plots/Decision-embedding_lle_L_HPC_thr25_3D-20nn_n2.pdf\n"
     ]
    },
    {
     "data": {
      "text/plain": [
       "<Figure size 2000x500 with 0 Axes>"
      ]
     },
     "metadata": {},
     "output_type": "display_data"
    }
   ],
   "source": [
    "main_dir = f'{base_dir}/Trajectory_analyses/timeseries'\n",
    "emb_dir = f'{main_dir}/embeddings'\n",
    "embs = glob.glob(os.path.join(emb_dir, '*.pkl'))\n",
    "print(f'Found {len(embs)} total embeddings')\n",
    "\n",
    "# what to plot\n",
    "rois_ = ['HPC-CA_thr25', 'HPC-DG_thr25', 'HPC-sub_thr25',\n",
    "        'HPC-ant_thr25', 'HPC-mid_thr25', 'HPC-post_thr25', 'HPC_thr25', \n",
    "        'M1-a_thr25', 'M1-p_thr25','V1_thr25', 'postcentral_thr25',\n",
    "        'ERC_thr25', 'amyg_thr25', 'mpfc_thr25']\n",
    "rois = [f'L_{r}' for r in rois_] + [f'R_{r}' for r in rois_]\n",
    "algos = ['lle' , 'spec', 'isomap'] \n",
    "nns = ['20', '50nn', '100nn']\n",
    "\n",
    "plot_dir = f'{main_dir}/plots'\n",
    "os.makedirs(plot_dir, exist_ok=True)\n",
    "\n",
    "for algo in algos:\n",
    "\n",
    "    # load in subjects & filter out exclusions\n",
    "    algo_embs = [e for e in embs if algo in e]\n",
    "    algo_embs = [e for e in algo_embs if int(e.split('/')[-1].split('_')[0]) in incl]\n",
    "    n_subs = len(algo_embs)\n",
    "    print(f'Found {n_subs} {algo} embeddings')\n",
    "\n",
    "    per_row = 4\n",
    "    n_rows = int(np.ceil(n_subs / per_row))\n",
    "    fig = plt.figure(figsize=(20, 5 * n_rows))\n",
    "\n",
    "    # for each roi & nearest neighbor number\n",
    "    for combo in list(itertools.product(nns, rois)):\n",
    "        nn, roi = combo\n",
    "        out_fname = f'{plot_dir}/Decision-embedding_{algo}_{roi}_3D-{nn}nn_n{n_subs}.pdf'\n",
    "        if os.path.exists(out_fname):\n",
    "            print(f'Already exists: {out_fname}')\n",
    "            continue\n",
    "\n",
    "        # loop over subjects & plot\n",
    "        for i, algo_emb in enumerate(algo_embs):\n",
    "\n",
    "            sub_id = algo_emb.split('/')[-1].split('_')[0]\n",
    "            emb_dict = pd.read_pickle(algo_emb)\n",
    "            \n",
    "            try: \n",
    "\n",
    "                emb = emb_dict[roi]['3d'][f'{nn}nn']['embedding']\n",
    "                ax = fig.add_subplot(n_rows, per_row, i+1, projection='3d')\n",
    "                plot_trajectory_with_plane(emb, title=f'P {sub_id}', ax=ax)\n",
    "\n",
    "            except:\n",
    "\n",
    "                ax = fig.add_subplot(n_rows, per_row, i+1)\n",
    "                ax.text(0.5, 0.5, f'P {sub_id} MISSING', fontsize=16, ha='center', va='center')\n",
    "                ax.axis('off')\n",
    "\n",
    "        save_figures_pdf([fig], out_fname)"
   ]
  },
  {
   "cell_type": "code",
   "execution_count": null,
   "metadata": {},
   "outputs": [],
   "source": []
  }
 ],
 "metadata": {
  "kernelspec": {
   "display_name": "social_navigation_analysis",
   "language": "python",
   "name": "python3"
  },
  "language_info": {
   "codemirror_mode": {
    "name": "ipython",
    "version": 3
   },
   "file_extension": ".py",
   "mimetype": "text/x-python",
   "name": "python",
   "nbconvert_exporter": "python",
   "pygments_lexer": "ipython3",
   "version": "3.10.6"
  },
  "orig_nbformat": 4
 },
 "nbformat": 4,
 "nbformat_minor": 2
}
