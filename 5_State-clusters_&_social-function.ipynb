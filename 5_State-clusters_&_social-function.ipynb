{
 "cells": [
  {
   "cell_type": "code",
   "execution_count": 1,
   "metadata": {},
   "outputs": [
    {
     "name": "stdout",
     "output_type": "stream",
     "text": [
      "Detected user: /Users/matty_gee\n",
      "Base directory: /Users/matty_gee/Desktop/projects/trajectory\n",
      "Included n=50\n",
      "Found 39 mask nifties\n"
     ]
    }
   ],
   "source": [
    "from utils_project import *\n",
    "import plotly.graph_objs as go\n",
    "import matplotlib.lines as mlines\n",
    "from scipy.stats import pearsonr, ttest_1samp\n",
    "import networkx as nx\n",
    "\n",
    "def nanzscore(arr):\n",
    "   arr_z = np.array([np.nan] * len(arr)) # create an array of nans the same size as arr\n",
    "   mask = np.isfinite(arr) # mask the array\n",
    "   arr_z[mask] = scipy.stats.zscore(arr[mask]) # calculate the zscore of the masked array\n",
    "   return arr_z\n",
    "   \n",
    "def plot_3d_scatter(coords):\n",
    "    # quick plot for embedding coords\n",
    "    fig = plt.figure(figsize=(5, 5))\n",
    "    ax = fig.add_subplot(111, projection='3d')\n",
    "    ax.scatter(*coords.T, s=100, c='k')\n",
    "\n",
    "def plot_trajectory(ax, xy, color='k'):\n",
    "    ax.plot(*xy.T, color, alpha=0.25)\n",
    "    ax.quiver(xy[0,0], xy[0,1],\n",
    "                xy[-1,0]-xy[0,0], \n",
    "                xy[-1,1]-xy[0,1], \n",
    "                color=color, alpha=1, scale=1, scale_units='xy', width=0.02)  \n",
    "\n",
    "def plot_predictions(ax, xy, state_pred_xy, beh_pred_xy, dots_xy=None, legend=False):\n",
    "    # for state cluster + prediction\n",
    "    xy_ = np.vstack([[0,0], xy])\n",
    "    state_pred_xy_ = np.vstack([[0,0], state_pred_xy]) \n",
    "    beh_pred_xy_ = np.vstack([[0,0], beh_pred_xy])\n",
    "\n",
    "    plot_trajectory(ax, xy_, color='k')\n",
    "    plot_trajectory(ax, state_pred_xy_, color='r')\n",
    "    plot_trajectory(ax, beh_pred_xy_, color='grey')\n",
    "\n",
    "    ax.set_aspect('equal')\n",
    "    ax.set_xticks([-1, 0, 1])\n",
    "    ax.set_yticks([-1, 0, 1])\n",
    "\n",
    "    real_traj = mlines.Line2D([], [], color='k', marker='.', linestyle='None', \n",
    "                              markersize=10, label='Real trajectory')\n",
    "    state_pred = mlines.Line2D([], [], color='r', marker='.', linestyle='None', \n",
    "                               markersize=10, label='Predicted from states')\n",
    "    beh_pred = mlines.Line2D([], [], color='grey', marker='.', linestyle='None', \n",
    "                             markersize=10, label='Predicted from behavior')\n",
    "    handle_list = [real_traj, state_pred, beh_pred]\n",
    "    \n",
    "    if dots_xy is not None:\n",
    "        ax.scatter(*dots_xy.T, color='b', s=50)\n",
    "        dots_loc = mlines.Line2D([], [], color='b', marker='.', linestyle='None', markersize=10, label='Subjective location')\n",
    "        handle_list.append(dots_loc)\n",
    "        \n",
    "    if legend: \n",
    "        ax.legend(handles=handle_list, bbox_to_anchor=(2.2, 1))\n",
    "\n",
    "#--------------------------------------------------------------------------------------------------\n",
    "# general helpers\n",
    "#--------------------------------------------------------------------------------------------------\n",
    "\n",
    "def get_sub_data(sub_id, data):\n",
    "    return data[data['sub_id']==int(sub_id)]\n",
    "\n",
    "def calc_cumulative_mean(values):\n",
    "    # calculate the cumulative mean\n",
    "    return np.cumsum(values, axis=0) / np.arange(1, len(values)+1)[:, None]\n",
    "\n",
    "def one_hot_encode(labels, n_categories):\n",
    "    # turn labels into a one-hot encoding\n",
    "    onehot = np.zeros((labels.shape[0], n_categories))\n",
    "    for i, c in enumerate(labels):\n",
    "        onehot[i, c] = 1\n",
    "    return onehot\n",
    "\n",
    "#--------------------------------------------------------------------------------------------------\n",
    "# co-clustering\n",
    "#--------------------------------------------------------------------------------------------------\n",
    "\n",
    "def sliding_window(timeseries, window_size, func):\n",
    "    ''' slide over timeseries w/ a given window size and compute function '''\n",
    "    windowed_data = [func(timeseries[i : i + window_size]) for i in range(len(timeseries) - window_size)]\n",
    "    assert len(windowed_data) == len(timeseries) - window_size # correct number of windows\n",
    "    return np.array(windowed_data)\n",
    "\n",
    "def calc_shannon_entropy(data):\n",
    "    \"\"\" Calculate the Shannon entropy of a dataset \"\"\"\n",
    "    probabilities = [np.sum(data==s)/len(data) for s in np.unique(data)] # probability of each unique state\n",
    "    return scipy.stats.entropy(probabilities)\n",
    "\n",
    "def number_unique_states(states):\n",
    "    \"\"\" Calculate the number of unique states in a dataset \"\"\"\n",
    "    return len(np.unique(states))\n",
    "\n",
    "#--------------------------------------------------------------------------------------------------\n",
    "# transition matrices\n",
    "#--------------------------------------------------------------------------------------------------\n",
    "\n",
    "def find_center_node(pos):\n",
    "    # find nearest node to center\n",
    "    dmin, ncenter = 1, 0\n",
    "    for n in pos:\n",
    "        x, y = pos[n]\n",
    "        d = (x - 0.5)**2 + (y - 0.5)**2\n",
    "        if d < dmin:\n",
    "            dmin, ncenter = d, n\n",
    "    return ncenter, dmin\n",
    "\n",
    "def plot_directed_graph(transition_matrix, prob_thresh=0):\n",
    "    n_states = transition_matrix.shape[0]\n",
    "    state_labels = [str(s+1) for s in range(n_states)]\n",
    "\n",
    "    # plot directed graph\n",
    "    fig, ax = plt.subplots(figsize=(5,5))\n",
    "    dG = nx.DiGraph()\n",
    "    dG.add_nodes_from(state_labels) # add nodes\n",
    "    for i, j in itertools.product(range(n_states), range(n_states)): # add edges\n",
    "        prob = transition_matrix[i, j]\n",
    "        if prob > prob_thresh:\n",
    "            dG.add_edge(state_labels[i], state_labels[j], weight=prob, label=\"{:.02f}\".format(prob))\n",
    "\n",
    "    pos = nx.spring_layout(dG) # node positions\n",
    "    ncenter, dmin = find_center_node(pos) \n",
    "    path_lengths = dict(nx.single_source_shortest_path_length(dG, ncenter)) # color by path length from node near center\n",
    "    labels = nx.get_edge_attributes(dG, 'weight')\n",
    "\n",
    "    nx.draw_networkx_nodes(dG, pos, node_size=300, \n",
    "                        nodelist=list(path_lengths.keys()), node_color=list(path_lengths.values()),\n",
    "                        cmap=plt.cm.magma_r, ax=axs[0])\n",
    "    nx.draw_networkx_edges(dG, pos, nodelist=[ncenter], alpha=0.4, ax=axs[0])\n",
    "    plt.show()\n",
    "\n",
    "def plot_state_matrix(matrix, ax=None, \n",
    "                      cmap='magma', \n",
    "                      cbar=True,\n",
    "                      cbar_label='Probability'):\n",
    "\n",
    "    if ax is None:\n",
    "        fig, ax = plt.subplots(1, 1, figsize=(4,4))\n",
    "\n",
    "    hm = ax.imshow(matrix, cmap=cmap)\n",
    "    ax.set_xticks(np.arange(len(matrix)), np.arange(len(matrix)))\n",
    "    ax.set_yticks(np.arange(len(matrix)), np.arange(len(matrix)))\n",
    "    ax.set_aspect('equal')\n",
    "    if cbar:\n",
    "        add_colorbar(hm)\n",
    "        cbar = hm.colorbar\n",
    "        cbar.set_label(cbar_label, rotation=90, labelpad=10)\n",
    "    ax.set_xlabel('Next state', fontsize=label_fontsize)\n",
    "    ax.set_ylabel('Current state', fontsize=label_fontsize)\n",
    "\n",
    "def calc_transition_matrix(states, n_states=None, step_size=1):\n",
    "\n",
    "    '''assumes states is an ordered sequence'''\n",
    "\n",
    "    # get unique states, jic not 0-indexed or not all states are present\n",
    "    unique_states = np.unique(states) if n_states is None else np.arange(n_states)\n",
    "\n",
    "    # count transitions for given step size\n",
    "    tm = np.zeros((len(unique_states), len(unique_states)))\n",
    "    for i in range(len(states) - step_size):\n",
    "        curr_ = np.where(unique_states == states[i])[0][0]\n",
    "        next_ = np.where(unique_states == states[i+step_size])[0][0]\n",
    "        tm[curr_, next_] += 1\n",
    "    tm = tm / tm.sum(axis=1, keepdims=True) # normalize the rows to sum to 1\n",
    "    tm[np.isnan(tm)] = 0 # if no transitions for paricular state, will give nans\n",
    "    return tm\n",
    "\n",
    "def test_calc_transition_matrix():\n",
    "    # Test case 1: 1D series with default step size\n",
    "    states = np.array([1, 2, 3, 1, 2, 3, 3, 2, 1])\n",
    "    transition_mat = calc_transition_matrix(states)\n",
    "    expected_transition_mat = np.array([[0., 1, 0],\n",
    "                                        [1/3, 0., 2/3],\n",
    "                                        [1/3, 1/3, 1/3]])\n",
    "    assert np.allclose(transition_mat, expected_transition_mat),\\\n",
    "            f'Expected: {expected_transition_mat}, got: {transition_mat}'\n",
    "    \n",
    "    # # Test case 2: 1D series with step size = 2\n",
    "    # states = np.array([1, 2, 3, 4, 5, 6, 7, 8, 9, 10])\n",
    "    # transition_mat = calc_transition_matrix(states, step_size=2)\n",
    "    # expected_transition_mat = np.array([[0., 0., 0., 0., 1.],\n",
    "    #                                     [0., 0., 0., 1., 0.],\n",
    "    #                                     [0., 0., 0., 0.5, 0.5],\n",
    "    #                                     [0., 0., 0., 0., 1.],\n",
    "    #                                     [0., 0., 0., 0., 0.],\n",
    "    #                                     [0., 0., 0., 0., 0.],\n",
    "    #                                     [0., 0., 0., 0., 0.],\n",
    "    #                                     [0., 0., 0., 0., 0.],\n",
    "    #                                     [0., 0., 0., 0., 0.],\n",
    "    #                                     [0., 0., 0., 0., 0.]])\n",
    "    # assert np.allclose(transition_mat, expected_transition_mat),\\\n",
    "    #         f'Expected: {expected_transition_mat}, got: {transition_mat}'\n",
    "    \n",
    "    # # Test case 3: 1D series with step size = 3\n",
    "    # states = np.array([1, 2, 3, 4, 5, 6, 7, 8, 9, 10])\n",
    "    # transition_mat = calc_transition_matrix(states, step_size=3)\n",
    "    # expected_transition_mat = np.array([[0., 0., 1.],\n",
    "    #                                     [0., 0., 0.],\n",
    "    #                                     [0., 0.5, 0.5],\n",
    "    #                                     [0., 0., 1.],\n",
    "    #                                     [0., 0., 0.],\n",
    "    #                                     [0., 0., 0.],\n",
    "    #                                     [0., 0., 0.],\n",
    "    #                                     [0., 0., 0.],\n",
    "    #                                     [0., 0., 0.],\n",
    "    #                                     [0., 0., 0.]])\n",
    "    # assert np.allclose(transition_mat, expected_transition_mat),\\\n",
    "    #         f'Expected: {expected_transition_mat}, got: {transition_mat}'\n",
    "    \n",
    "    # # Test case 4: 1D series with step size larger than series length\n",
    "    # states = np.array([1, 2, 3, 4, 5, 6, 7, 8, 9, 10])\n",
    "    # transition_mat = calc_transition_matrix(states, step_size=20)\n",
    "    # expected_transition_mat = np.zeros((10, 10))\n",
    "    # assert np.allclose(transition_mat, expected_transition_mat),\\\n",
    "    #         f'Expected: {expected_transition_mat}, got: {transition_mat}'\n",
    "\n",
    "test_calc_transition_matrix()\n",
    "\n",
    "def calc_successor_representation(T, gamma=0.9):\n",
    "    \"\"\"\n",
    "    Calculates the successor representation for a given transition matrix T and gamma level.\n",
    "    \n",
    "    Args:\n",
    "    - T (numpy.ndarray): The transition matrix of the environment.\n",
    "    - gamma (float): The discount factor where , default = 0.9\n",
    "    \n",
    "    Returns:\n",
    "    - s (numpy.ndarray): The successor representation matrix.\n",
    "    \"\"\"\n",
    "    \n",
    "    # Get the number of states in the environment\n",
    "    num_states = T.shape[0]\n",
    "    \n",
    "    # Initialize the  successor representation matrix\n",
    "    sr = np.zeros((num_states, num_states))\n",
    "    \n",
    "    # Calculate the simple successor representation for each state\n",
    "    for i in range(num_states):\n",
    "        for j in range(num_states):\n",
    "            sr[i, j] = T[i, j] + gamma * np.sum(sr[j, :] * T[i, :])\n",
    "    \n",
    "    return sr\n",
    "\n",
    "def make_state_vector(state, n_states):\n",
    "    # dummy coded state vector\n",
    "    state_vec = np.zeros(n_states)\n",
    "    state_vec[state] = 1\n",
    "    return state_vec\n",
    "\n",
    "def predict_states_from_transition_matrix(current_state_ix, transition_matrix, n_steps=5):\n",
    "\n",
    "    \"\"\"\n",
    "    Predicts the sequence of next states by multiplying a current state vector\n",
    "    by the transition matrix for a specified number of steps\n",
    "    \n",
    "    Args:\n",
    "        current_state_ix (int): the integer index of the initial state\n",
    "        transition_matrix (numpy.ndarray): the transition matrix as a numpy array\n",
    "        num_steps (int): the number of steps to iterate\n",
    "        \n",
    "    Returns:\n",
    "        numpy.ndarray: The sequence of states as a 2D numpy array, where each row\n",
    "        represents a state vector\n",
    "        also outputs states as indices and probabilities\n",
    "    \"\"\"\n",
    "\n",
    "    # if current_state_ix is an array or list, re-assign as the index that == 1\n",
    "    if isinstance(current_state_ix, (list, np.ndarray)):\n",
    "        current_state_ix = np.where(current_state_ix == 1)[0][0]\n",
    "\n",
    "    # check if current state is within range of transition matrix\n",
    "    if current_state_ix >= transition_matrix.shape[0]:\n",
    "        raise ValueError('Current state is out of state range')\n",
    "\n",
    "    # create current state vector from integer\n",
    "    current_state = np.zeros(len(transition_matrix))\n",
    "    current_state[current_state_ix] = 1\n",
    "\n",
    "    # initialize array of states with initial state\n",
    "    states = [current_state]\n",
    "    state_indices = [current_state_ix]\n",
    "    state_probs = [] # wont include current state\n",
    "    \n",
    "    for _ in range(n_steps):\n",
    "\n",
    "        # predict state by multiplying current state vector by transition matrix\n",
    "        # new_state = np.dot(current_state, transition_matrix)\n",
    "        new_state = transition_matrix @ current_state\n",
    "\n",
    "        # set current state to the predicted state with maximum probability\n",
    "        current_state = np.zeros_like(current_state)\n",
    "        current_state[np.argmax(new_state)] = 1\n",
    "\n",
    "        states.append(current_state)\n",
    "        state_indices.append(np.argmax(current_state))\n",
    "        state_probs.append(np.max(new_state))\n",
    "        \n",
    "    # returns w/ the initial state\n",
    "    return np.vstack(states), np.array(state_indices), np.array(state_probs)\n",
    "\n",
    "#--------------------------------------------------------------------------------------------------\n",
    "# generic helper\n",
    "#--------------------------------------------------------------------------------------------------\n",
    "\n",
    "def convert_pvalue_to_onesided(pvalue: float, effect: float, alternative: str):\n",
    "    if alternative in {'greater', 'less'}:\n",
    "        return (\n",
    "            pvalue / 2\n",
    "            if (effect > 0 and alternative == 'greater')\n",
    "            or (effect < 0 and alternative == 'less')\n",
    "            else 1 - (pvalue / 2)\n",
    "        )\n",
    "    else:\n",
    "        raise ValueError('alternative must be either \"greater\" or \"less\"')"
   ]
  },
  {
   "cell_type": "markdown",
   "metadata": {},
   "source": [
    "# Run analysis locally"
   ]
  },
  {
   "cell_type": "code",
   "execution_count": 3,
   "metadata": {},
   "outputs": [
    {
     "name": "stdout",
     "output_type": "stream",
     "text": [
      "Found 50 embeddings files\n",
      "Processing 1/50\r"
     ]
    },
    {
     "name": "stderr",
     "output_type": "stream",
     "text": [
      "100%|██████████| 47/47 [00:08<00:00,  5.28it/s]\n",
      "100%|██████████| 47/47 [00:08<00:00,  5.23it/s]\n",
      "100%|██████████| 47/47 [00:08<00:00,  5.27it/s]\n",
      "100%|██████████| 47/47 [00:08<00:00,  5.26it/s]\n",
      "100%|██████████| 47/47 [00:08<00:00,  5.57it/s]\n",
      "100%|██████████| 47/47 [00:09<00:00,  4.99it/s]\n",
      "100%|██████████| 47/47 [00:08<00:00,  5.49it/s]\n",
      "100%|██████████| 47/47 [00:08<00:00,  5.64it/s]\n",
      "100%|██████████| 47/47 [00:08<00:00,  5.64it/s]\n",
      "100%|██████████| 47/47 [00:08<00:00,  5.70it/s]\n",
      "100%|██████████| 47/47 [00:08<00:00,  5.51it/s]\n",
      "100%|██████████| 47/47 [00:08<00:00,  5.59it/s]\n",
      "100%|██████████| 47/47 [00:08<00:00,  5.63it/s]\n",
      "100%|██████████| 47/47 [00:08<00:00,  5.65it/s]\n",
      "100%|██████████| 47/47 [00:08<00:00,  5.68it/s]\n",
      "100%|██████████| 47/47 [00:08<00:00,  5.61it/s]\n",
      "100%|██████████| 47/47 [00:08<00:00,  5.64it/s]\n",
      "100%|██████████| 47/47 [00:08<00:00,  5.72it/s]\n",
      "100%|██████████| 47/47 [00:08<00:00,  5.67it/s]\n",
      "100%|██████████| 47/47 [00:08<00:00,  5.72it/s]\n"
     ]
    },
    {
     "name": "stdout",
     "output_type": "stream",
     "text": [
      "Processing 2/50\r"
     ]
    },
    {
     "name": "stderr",
     "output_type": "stream",
     "text": [
      "100%|██████████| 47/47 [00:08<00:00,  5.52it/s]\n",
      "100%|██████████| 47/47 [00:08<00:00,  5.45it/s]\n",
      "100%|██████████| 47/47 [00:08<00:00,  5.54it/s]\n",
      "100%|██████████| 47/47 [00:08<00:00,  5.53it/s]\n",
      "100%|██████████| 47/47 [00:08<00:00,  5.61it/s]\n",
      "100%|██████████| 47/47 [00:08<00:00,  5.63it/s]\n",
      "100%|██████████| 47/47 [00:08<00:00,  5.59it/s]\n",
      "100%|██████████| 47/47 [00:08<00:00,  5.63it/s]\n",
      "100%|██████████| 47/47 [00:08<00:00,  5.62it/s]\n",
      "100%|██████████| 47/47 [00:08<00:00,  5.65it/s]\n",
      "100%|██████████| 47/47 [00:08<00:00,  5.63it/s]\n",
      "100%|██████████| 47/47 [00:08<00:00,  5.57it/s]\n",
      "100%|██████████| 47/47 [00:08<00:00,  5.55it/s]\n",
      "100%|██████████| 47/47 [00:08<00:00,  5.60it/s]\n",
      "100%|██████████| 47/47 [00:08<00:00,  5.62it/s]\n",
      "100%|██████████| 47/47 [00:08<00:00,  5.70it/s]\n",
      "100%|██████████| 47/47 [00:08<00:00,  5.63it/s]\n",
      "100%|██████████| 47/47 [00:08<00:00,  5.67it/s]\n",
      "100%|██████████| 47/47 [00:08<00:00,  5.67it/s]\n",
      "100%|██████████| 47/47 [00:08<00:00,  5.73it/s]\n",
      "100%|██████████| 47/47 [00:08<00:00,  5.63it/s]\n",
      "100%|██████████| 47/47 [00:08<00:00,  5.57it/s]\n",
      "100%|██████████| 47/47 [00:08<00:00,  5.65it/s]\n",
      "100%|██████████| 47/47 [00:08<00:00,  5.60it/s]\n",
      "100%|██████████| 47/47 [00:08<00:00,  5.65it/s]\n",
      "100%|██████████| 47/47 [00:08<00:00,  5.65it/s]\n",
      "100%|██████████| 47/47 [00:08<00:00,  5.71it/s]\n",
      "100%|██████████| 47/47 [00:08<00:00,  5.64it/s]\n",
      "100%|██████████| 47/47 [00:08<00:00,  5.68it/s]\n",
      "100%|██████████| 47/47 [00:08<00:00,  5.71it/s]\n"
     ]
    },
    {
     "name": "stdout",
     "output_type": "stream",
     "text": [
      "Processing 3/50\r"
     ]
    },
    {
     "name": "stderr",
     "output_type": "stream",
     "text": [
      "100%|██████████| 47/47 [00:08<00:00,  5.62it/s]\n",
      "100%|██████████| 47/47 [00:08<00:00,  5.59it/s]\n",
      "100%|██████████| 47/47 [00:08<00:00,  5.57it/s]\n",
      "100%|██████████| 47/47 [00:08<00:00,  5.69it/s]\n",
      "100%|██████████| 47/47 [00:08<00:00,  5.58it/s]\n",
      "100%|██████████| 47/47 [00:08<00:00,  5.70it/s]\n",
      "100%|██████████| 47/47 [00:08<00:00,  5.75it/s]\n",
      "100%|██████████| 47/47 [00:08<00:00,  5.59it/s]\n",
      "100%|██████████| 47/47 [00:08<00:00,  5.76it/s]\n",
      "100%|██████████| 47/47 [00:08<00:00,  5.70it/s]\n",
      "100%|██████████| 47/47 [00:08<00:00,  5.58it/s]\n",
      "100%|██████████| 47/47 [00:08<00:00,  5.59it/s]\n",
      "100%|██████████| 47/47 [00:08<00:00,  5.58it/s]\n",
      "100%|██████████| 47/47 [00:08<00:00,  5.69it/s]\n",
      "100%|██████████| 47/47 [00:08<00:00,  5.62it/s]\n",
      "100%|██████████| 47/47 [00:08<00:00,  5.71it/s]\n",
      "100%|██████████| 47/47 [00:08<00:00,  5.77it/s]\n",
      "100%|██████████| 47/47 [00:08<00:00,  5.68it/s]\n",
      "100%|██████████| 47/47 [00:08<00:00,  5.73it/s]\n",
      "100%|██████████| 47/47 [00:08<00:00,  5.68it/s]\n",
      "100%|██████████| 47/47 [00:08<00:00,  5.64it/s]\n",
      "100%|██████████| 47/47 [00:08<00:00,  5.59it/s]\n",
      "100%|██████████| 47/47 [00:08<00:00,  5.63it/s]\n",
      "100%|██████████| 47/47 [00:08<00:00,  5.69it/s]\n",
      "100%|██████████| 47/47 [00:08<00:00,  5.65it/s]\n",
      "100%|██████████| 47/47 [00:08<00:00,  5.72it/s]\n",
      "100%|██████████| 47/47 [00:08<00:00,  5.76it/s]\n",
      "100%|██████████| 47/47 [00:08<00:00,  5.59it/s]\n",
      "100%|██████████| 47/47 [00:08<00:00,  5.87it/s]\n",
      "100%|██████████| 47/47 [00:07<00:00,  5.90it/s]\n"
     ]
    },
    {
     "name": "stdout",
     "output_type": "stream",
     "text": [
      "Processing 4/50\r"
     ]
    },
    {
     "name": "stderr",
     "output_type": "stream",
     "text": [
      "100%|██████████| 47/47 [00:07<00:00,  5.96it/s]\n",
      "100%|██████████| 47/47 [00:07<00:00,  6.10it/s]\n",
      "100%|██████████| 47/47 [00:07<00:00,  6.09it/s]\n",
      "100%|██████████| 47/47 [00:07<00:00,  6.06it/s]\n",
      "100%|██████████| 47/47 [00:07<00:00,  6.11it/s]\n",
      "100%|██████████| 47/47 [00:07<00:00,  6.08it/s]\n",
      "100%|██████████| 47/47 [00:07<00:00,  6.11it/s]\n",
      "100%|██████████| 47/47 [00:07<00:00,  6.14it/s]\n",
      "100%|██████████| 47/47 [00:07<00:00,  6.13it/s]\n",
      "100%|██████████| 47/47 [00:07<00:00,  6.07it/s]\n",
      "100%|██████████| 47/47 [00:07<00:00,  6.21it/s]\n",
      "100%|██████████| 47/47 [00:07<00:00,  6.16it/s]\n",
      "100%|██████████| 47/47 [00:07<00:00,  6.17it/s]\n",
      "100%|██████████| 47/47 [00:07<00:00,  6.14it/s]\n",
      "100%|██████████| 47/47 [00:07<00:00,  6.18it/s]\n",
      "100%|██████████| 47/47 [00:07<00:00,  6.17it/s]\n",
      "100%|██████████| 47/47 [00:07<00:00,  6.14it/s]\n",
      "100%|██████████| 47/47 [00:07<00:00,  6.20it/s]\n",
      "100%|██████████| 47/47 [00:07<00:00,  6.13it/s]\n",
      "100%|██████████| 47/47 [00:07<00:00,  6.15it/s]\n",
      "100%|██████████| 47/47 [00:07<00:00,  6.19it/s]\n",
      "100%|██████████| 47/47 [00:07<00:00,  6.19it/s]\n",
      "100%|██████████| 47/47 [00:07<00:00,  6.18it/s]\n",
      "100%|██████████| 47/47 [00:07<00:00,  6.16it/s]\n",
      "100%|██████████| 47/47 [00:07<00:00,  6.15it/s]\n",
      "100%|██████████| 47/47 [00:07<00:00,  6.15it/s]\n",
      "100%|██████████| 47/47 [00:07<00:00,  6.02it/s]\n",
      "100%|██████████| 47/47 [00:07<00:00,  6.10it/s]\n",
      "100%|██████████| 47/47 [00:07<00:00,  6.16it/s]\n",
      "100%|██████████| 47/47 [00:07<00:00,  6.11it/s]\n"
     ]
    },
    {
     "name": "stdout",
     "output_type": "stream",
     "text": [
      "Processing 5/50\r"
     ]
    },
    {
     "name": "stderr",
     "output_type": "stream",
     "text": [
      "100%|██████████| 47/47 [00:07<00:00,  6.31it/s]\n",
      "100%|██████████| 47/47 [00:07<00:00,  6.22it/s]\n",
      "100%|██████████| 47/47 [00:07<00:00,  6.27it/s]\n",
      "100%|██████████| 47/47 [00:07<00:00,  6.19it/s]\n",
      "100%|██████████| 47/47 [00:07<00:00,  6.17it/s]\n",
      "100%|██████████| 47/47 [00:07<00:00,  6.26it/s]\n",
      "100%|██████████| 47/47 [00:07<00:00,  6.14it/s]\n",
      "100%|██████████| 47/47 [00:07<00:00,  6.15it/s]\n",
      "100%|██████████| 47/47 [00:07<00:00,  6.20it/s]\n",
      "100%|██████████| 47/47 [00:07<00:00,  6.03it/s]\n",
      "100%|██████████| 47/47 [00:07<00:00,  6.27it/s]\n",
      "100%|██████████| 47/47 [00:07<00:00,  6.16it/s]\n",
      "100%|██████████| 47/47 [00:07<00:00,  6.28it/s]\n",
      "100%|██████████| 47/47 [00:07<00:00,  6.18it/s]\n",
      "100%|██████████| 47/47 [00:07<00:00,  6.15it/s]\n",
      "100%|██████████| 47/47 [00:07<00:00,  6.27it/s]\n",
      "100%|██████████| 47/47 [00:07<00:00,  6.21it/s]\n",
      "100%|██████████| 47/47 [00:07<00:00,  6.23it/s]\n",
      "100%|██████████| 47/47 [00:07<00:00,  6.21it/s]\n",
      "100%|██████████| 47/47 [00:07<00:00,  6.15it/s]\n",
      "100%|██████████| 47/47 [00:07<00:00,  6.33it/s]\n",
      "100%|██████████| 47/47 [00:07<00:00,  6.26it/s]\n",
      "100%|██████████| 47/47 [00:07<00:00,  6.28it/s]\n",
      "100%|██████████| 47/47 [00:07<00:00,  6.23it/s]\n",
      "100%|██████████| 47/47 [00:07<00:00,  6.28it/s]\n",
      "100%|██████████| 47/47 [00:07<00:00,  6.31it/s]\n",
      "100%|██████████| 47/47 [00:07<00:00,  6.26it/s]\n",
      "100%|██████████| 47/47 [00:07<00:00,  6.25it/s]\n",
      "100%|██████████| 47/47 [00:07<00:00,  6.24it/s]\n",
      "100%|██████████| 47/47 [00:07<00:00,  6.25it/s]\n"
     ]
    },
    {
     "name": "stdout",
     "output_type": "stream",
     "text": [
      "Processing 6/50\r"
     ]
    },
    {
     "name": "stderr",
     "output_type": "stream",
     "text": [
      "100%|██████████| 47/47 [00:07<00:00,  6.11it/s]\n",
      "100%|██████████| 47/47 [00:07<00:00,  6.21it/s]\n",
      "100%|██████████| 47/47 [00:07<00:00,  6.18it/s]\n",
      "100%|██████████| 47/47 [00:07<00:00,  6.19it/s]\n",
      "100%|██████████| 47/47 [00:07<00:00,  6.16it/s]\n",
      "100%|██████████| 47/47 [00:07<00:00,  6.16it/s]\n",
      "100%|██████████| 47/47 [00:07<00:00,  6.18it/s]\n",
      "100%|██████████| 47/47 [00:07<00:00,  6.16it/s]\n",
      "100%|██████████| 47/47 [00:07<00:00,  6.15it/s]\n",
      "100%|██████████| 47/47 [00:07<00:00,  6.20it/s]\n",
      "100%|██████████| 47/47 [00:07<00:00,  6.16it/s]\n",
      "100%|██████████| 47/47 [00:07<00:00,  6.17it/s]\n",
      "100%|██████████| 47/47 [00:07<00:00,  6.09it/s]\n",
      "100%|██████████| 47/47 [00:07<00:00,  6.06it/s]\n",
      "100%|██████████| 47/47 [00:07<00:00,  6.10it/s]\n",
      "100%|██████████| 47/47 [00:07<00:00,  6.17it/s]\n",
      "100%|██████████| 47/47 [00:07<00:00,  6.17it/s]\n",
      "100%|██████████| 47/47 [00:07<00:00,  6.18it/s]\n",
      "100%|██████████| 47/47 [00:07<00:00,  6.19it/s]\n",
      "100%|██████████| 47/47 [00:07<00:00,  6.13it/s]\n",
      "100%|██████████| 47/47 [00:07<00:00,  6.21it/s]\n",
      "100%|██████████| 47/47 [00:07<00:00,  6.24it/s]\n",
      "100%|██████████| 47/47 [00:07<00:00,  6.27it/s]\n",
      "100%|██████████| 47/47 [00:07<00:00,  6.20it/s]\n",
      "100%|██████████| 47/47 [00:07<00:00,  6.16it/s]\n",
      "100%|██████████| 47/47 [00:07<00:00,  6.22it/s]\n",
      "100%|██████████| 47/47 [00:07<00:00,  6.21it/s]\n",
      "100%|██████████| 47/47 [00:07<00:00,  6.21it/s]\n",
      "100%|██████████| 47/47 [00:07<00:00,  6.22it/s]\n",
      "100%|██████████| 47/47 [00:07<00:00,  6.17it/s]\n"
     ]
    },
    {
     "name": "stdout",
     "output_type": "stream",
     "text": [
      "Processing 7/50\r"
     ]
    },
    {
     "name": "stderr",
     "output_type": "stream",
     "text": [
      "100%|██████████| 47/47 [00:07<00:00,  6.18it/s]\n",
      "100%|██████████| 47/47 [00:07<00:00,  6.15it/s]\n",
      "100%|██████████| 47/47 [00:07<00:00,  6.22it/s]\n",
      "100%|██████████| 47/47 [00:07<00:00,  6.11it/s]\n",
      "100%|██████████| 47/47 [00:07<00:00,  6.14it/s]\n",
      "100%|██████████| 47/47 [00:07<00:00,  6.15it/s]\n",
      "100%|██████████| 47/47 [00:07<00:00,  5.97it/s]\n",
      "100%|██████████| 47/47 [00:07<00:00,  6.17it/s]\n",
      "100%|██████████| 47/47 [00:07<00:00,  6.13it/s]\n",
      "100%|██████████| 47/47 [00:07<00:00,  6.10it/s]\n",
      "100%|██████████| 47/47 [00:07<00:00,  6.13it/s]\n",
      "100%|██████████| 47/47 [00:07<00:00,  6.09it/s]\n",
      "100%|██████████| 47/47 [00:07<00:00,  6.24it/s]\n",
      "100%|██████████| 47/47 [00:07<00:00,  6.08it/s]\n",
      "100%|██████████| 47/47 [00:07<00:00,  6.07it/s]\n",
      "100%|██████████| 47/47 [00:07<00:00,  6.17it/s]\n",
      "100%|██████████| 47/47 [00:07<00:00,  6.13it/s]\n",
      "100%|██████████| 47/47 [00:07<00:00,  6.23it/s]\n",
      "100%|██████████| 47/47 [00:07<00:00,  6.21it/s]\n",
      "100%|██████████| 47/47 [00:07<00:00,  6.15it/s]\n",
      "100%|██████████| 47/47 [00:07<00:00,  6.11it/s]\n",
      "100%|██████████| 47/47 [00:07<00:00,  6.07it/s]\n",
      "100%|██████████| 47/47 [00:07<00:00,  6.21it/s]\n",
      "100%|██████████| 47/47 [00:07<00:00,  6.11it/s]\n",
      "100%|██████████| 47/47 [00:07<00:00,  6.10it/s]\n",
      "100%|██████████| 47/47 [00:07<00:00,  6.22it/s]\n",
      "100%|██████████| 47/47 [00:07<00:00,  6.20it/s]\n",
      "100%|██████████| 47/47 [00:07<00:00,  6.26it/s]\n",
      "100%|██████████| 47/47 [00:07<00:00,  6.24it/s]\n",
      "100%|██████████| 47/47 [00:07<00:00,  6.24it/s]\n"
     ]
    },
    {
     "name": "stdout",
     "output_type": "stream",
     "text": [
      "Processing 8/50\r"
     ]
    },
    {
     "name": "stderr",
     "output_type": "stream",
     "text": [
      "100%|██████████| 47/47 [00:07<00:00,  6.11it/s]\n",
      "100%|██████████| 47/47 [00:07<00:00,  6.14it/s]\n",
      "100%|██████████| 47/47 [00:07<00:00,  6.27it/s]\n",
      "100%|██████████| 47/47 [00:07<00:00,  6.23it/s]\n",
      "100%|██████████| 47/47 [00:07<00:00,  6.18it/s]\n",
      "100%|██████████| 47/47 [00:07<00:00,  6.17it/s]\n",
      "100%|██████████| 47/47 [00:07<00:00,  6.20it/s]\n",
      "100%|██████████| 47/47 [00:07<00:00,  6.22it/s]\n",
      "100%|██████████| 47/47 [00:07<00:00,  6.21it/s]\n",
      "100%|██████████| 47/47 [00:07<00:00,  6.19it/s]\n",
      "100%|██████████| 47/47 [00:07<00:00,  6.18it/s]\n",
      "100%|██████████| 47/47 [00:07<00:00,  6.12it/s]\n",
      "100%|██████████| 47/47 [00:07<00:00,  6.30it/s]\n",
      "100%|██████████| 47/47 [00:07<00:00,  6.18it/s]\n",
      "100%|██████████| 47/47 [00:07<00:00,  6.16it/s]\n",
      "100%|██████████| 47/47 [00:07<00:00,  6.25it/s]\n",
      "100%|██████████| 47/47 [00:07<00:00,  6.26it/s]\n",
      "100%|██████████| 47/47 [00:07<00:00,  6.20it/s]\n",
      "100%|██████████| 47/47 [00:07<00:00,  6.23it/s]\n",
      "100%|██████████| 47/47 [00:07<00:00,  6.19it/s]\n",
      "100%|██████████| 47/47 [00:07<00:00,  6.18it/s]\n",
      "100%|██████████| 47/47 [00:07<00:00,  6.19it/s]\n",
      "100%|██████████| 47/47 [00:07<00:00,  6.13it/s]\n",
      "100%|██████████| 47/47 [00:07<00:00,  6.15it/s]\n",
      "100%|██████████| 47/47 [00:07<00:00,  6.14it/s]\n",
      "100%|██████████| 47/47 [00:07<00:00,  6.22it/s]\n",
      "100%|██████████| 47/47 [00:07<00:00,  6.28it/s]\n",
      "100%|██████████| 47/47 [00:07<00:00,  6.28it/s]\n",
      "100%|██████████| 47/47 [00:07<00:00,  6.19it/s]\n",
      "100%|██████████| 47/47 [00:07<00:00,  6.24it/s]\n"
     ]
    },
    {
     "name": "stdout",
     "output_type": "stream",
     "text": [
      "Processing 9/50\r"
     ]
    },
    {
     "name": "stderr",
     "output_type": "stream",
     "text": [
      "100%|██████████| 47/47 [00:07<00:00,  6.08it/s]\n",
      "100%|██████████| 47/47 [00:07<00:00,  6.08it/s]\n",
      "100%|██████████| 47/47 [00:07<00:00,  6.05it/s]\n",
      "100%|██████████| 47/47 [00:07<00:00,  6.12it/s]\n",
      "100%|██████████| 47/47 [00:07<00:00,  6.08it/s]\n",
      "100%|██████████| 47/47 [00:07<00:00,  6.22it/s]\n",
      "100%|██████████| 47/47 [00:07<00:00,  6.13it/s]\n",
      "100%|██████████| 47/47 [00:07<00:00,  6.21it/s]\n",
      "100%|██████████| 47/47 [00:07<00:00,  6.15it/s]\n",
      "100%|██████████| 47/47 [00:07<00:00,  6.18it/s]\n",
      "100%|██████████| 47/47 [00:07<00:00,  6.16it/s]\n",
      "100%|██████████| 47/47 [00:07<00:00,  6.20it/s]\n",
      "100%|██████████| 47/47 [00:07<00:00,  6.18it/s]\n",
      "100%|██████████| 47/47 [00:07<00:00,  6.23it/s]\n",
      "100%|██████████| 47/47 [00:07<00:00,  6.10it/s]\n",
      "100%|██████████| 47/47 [00:07<00:00,  6.17it/s]\n",
      "100%|██████████| 47/47 [00:07<00:00,  6.24it/s]\n",
      "100%|██████████| 47/47 [00:07<00:00,  6.25it/s]\n",
      "100%|██████████| 47/47 [00:07<00:00,  6.23it/s]\n",
      "100%|██████████| 47/47 [00:07<00:00,  6.18it/s]\n",
      "100%|██████████| 47/47 [00:07<00:00,  6.25it/s]\n",
      "100%|██████████| 47/47 [00:07<00:00,  6.28it/s]\n",
      "100%|██████████| 47/47 [00:07<00:00,  6.22it/s]\n",
      "100%|██████████| 47/47 [00:07<00:00,  6.22it/s]\n",
      "100%|██████████| 47/47 [00:07<00:00,  6.22it/s]\n",
      "100%|██████████| 47/47 [00:07<00:00,  6.14it/s]\n",
      "100%|██████████| 47/47 [00:07<00:00,  6.24it/s]\n",
      "100%|██████████| 47/47 [00:07<00:00,  6.32it/s]\n",
      "100%|██████████| 47/47 [00:07<00:00,  6.28it/s]\n",
      "100%|██████████| 47/47 [00:07<00:00,  6.28it/s]\n"
     ]
    },
    {
     "name": "stdout",
     "output_type": "stream",
     "text": [
      "Processing 10/50\r"
     ]
    },
    {
     "name": "stderr",
     "output_type": "stream",
     "text": [
      "100%|██████████| 47/47 [00:07<00:00,  6.15it/s]\n",
      "100%|██████████| 47/47 [00:07<00:00,  6.11it/s]\n",
      "100%|██████████| 47/47 [00:07<00:00,  6.10it/s]\n",
      "100%|██████████| 47/47 [00:07<00:00,  6.11it/s]\n",
      "100%|██████████| 47/47 [00:07<00:00,  6.13it/s]\n",
      "100%|██████████| 47/47 [00:07<00:00,  6.30it/s]\n",
      "100%|██████████| 47/47 [00:07<00:00,  6.23it/s]\n",
      "100%|██████████| 47/47 [00:07<00:00,  6.28it/s]\n",
      "100%|██████████| 47/47 [00:07<00:00,  6.23it/s]\n",
      "100%|██████████| 47/47 [00:07<00:00,  6.24it/s]\n",
      "100%|██████████| 47/47 [00:07<00:00,  6.21it/s]\n",
      "100%|██████████| 47/47 [00:07<00:00,  6.14it/s]\n",
      "100%|██████████| 47/47 [00:07<00:00,  6.16it/s]\n",
      "100%|██████████| 47/47 [00:07<00:00,  6.14it/s]\n",
      "100%|██████████| 47/47 [00:07<00:00,  6.16it/s]\n",
      "100%|██████████| 47/47 [00:07<00:00,  6.26it/s]\n",
      "100%|██████████| 47/47 [00:07<00:00,  6.26it/s]\n",
      "100%|██████████| 47/47 [00:07<00:00,  6.31it/s]\n",
      "100%|██████████| 47/47 [00:07<00:00,  6.27it/s]\n",
      "100%|██████████| 47/47 [00:07<00:00,  6.22it/s]\n",
      "100%|██████████| 47/47 [00:07<00:00,  6.23it/s]\n",
      "100%|██████████| 47/47 [00:07<00:00,  6.22it/s]\n",
      "100%|██████████| 47/47 [00:07<00:00,  6.17it/s]\n",
      "100%|██████████| 47/47 [00:07<00:00,  6.17it/s]\n",
      "100%|██████████| 47/47 [00:07<00:00,  6.13it/s]\n",
      "100%|██████████| 47/47 [00:07<00:00,  6.23it/s]\n",
      "100%|██████████| 47/47 [00:07<00:00,  6.24it/s]\n",
      "100%|██████████| 47/47 [00:07<00:00,  6.29it/s]\n",
      "100%|██████████| 47/47 [00:07<00:00,  6.25it/s]\n",
      "100%|██████████| 47/47 [00:07<00:00,  6.18it/s]\n"
     ]
    },
    {
     "name": "stdout",
     "output_type": "stream",
     "text": [
      "Processing 11/50\r"
     ]
    },
    {
     "name": "stderr",
     "output_type": "stream",
     "text": [
      "100%|██████████| 47/47 [00:07<00:00,  6.14it/s]\n",
      "100%|██████████| 47/47 [00:07<00:00,  6.16it/s]\n",
      "100%|██████████| 47/47 [00:07<00:00,  6.19it/s]\n",
      "100%|██████████| 47/47 [00:07<00:00,  6.15it/s]\n",
      "100%|██████████| 47/47 [00:07<00:00,  6.10it/s]\n",
      "100%|██████████| 47/47 [00:07<00:00,  5.98it/s]\n",
      "100%|██████████| 47/47 [00:07<00:00,  6.01it/s]\n",
      "100%|██████████| 47/47 [00:07<00:00,  6.10it/s]\n",
      "100%|██████████| 47/47 [00:07<00:00,  6.00it/s]\n",
      "100%|██████████| 47/47 [00:07<00:00,  5.98it/s]\n",
      "100%|██████████| 47/47 [00:07<00:00,  6.19it/s]\n",
      "100%|██████████| 47/47 [00:07<00:00,  6.17it/s]\n",
      "100%|██████████| 47/47 [00:07<00:00,  6.24it/s]\n",
      "100%|██████████| 47/47 [00:07<00:00,  6.25it/s]\n",
      "100%|██████████| 47/47 [00:07<00:00,  6.16it/s]\n",
      "100%|██████████| 47/47 [00:07<00:00,  6.11it/s]\n",
      "100%|██████████| 47/47 [00:07<00:00,  6.05it/s]\n",
      "100%|██████████| 47/47 [00:07<00:00,  6.20it/s]\n",
      "100%|██████████| 47/47 [00:07<00:00,  6.11it/s]\n",
      "100%|██████████| 47/47 [00:07<00:00,  6.06it/s]\n",
      "100%|██████████| 47/47 [00:07<00:00,  6.22it/s]\n",
      "100%|██████████| 47/47 [00:07<00:00,  6.24it/s]\n",
      "100%|██████████| 47/47 [00:07<00:00,  6.04it/s]\n",
      "100%|██████████| 47/47 [00:07<00:00,  6.21it/s]\n",
      "100%|██████████| 47/47 [00:07<00:00,  6.19it/s]\n",
      "100%|██████████| 47/47 [00:07<00:00,  6.17it/s]\n",
      "100%|██████████| 47/47 [00:07<00:00,  6.14it/s]\n",
      "100%|██████████| 47/47 [00:07<00:00,  6.19it/s]\n",
      "100%|██████████| 47/47 [00:07<00:00,  6.09it/s]\n",
      "100%|██████████| 47/47 [00:07<00:00,  6.10it/s]\n"
     ]
    },
    {
     "name": "stdout",
     "output_type": "stream",
     "text": [
      "Processing 12/50\r"
     ]
    },
    {
     "name": "stderr",
     "output_type": "stream",
     "text": [
      "100%|██████████| 47/47 [00:07<00:00,  6.16it/s]\n",
      "100%|██████████| 47/47 [00:07<00:00,  6.06it/s]\n",
      "100%|██████████| 47/47 [00:07<00:00,  6.09it/s]\n",
      "100%|██████████| 47/47 [00:07<00:00,  6.23it/s]\n",
      "100%|██████████| 47/47 [00:07<00:00,  6.15it/s]\n",
      "100%|██████████| 47/47 [00:07<00:00,  6.12it/s]\n",
      "100%|██████████| 47/47 [00:07<00:00,  6.06it/s]\n",
      "100%|██████████| 47/47 [00:07<00:00,  6.10it/s]\n",
      "100%|██████████| 47/47 [00:07<00:00,  6.12it/s]\n",
      "100%|██████████| 47/47 [00:07<00:00,  6.14it/s]\n",
      "100%|██████████| 47/47 [00:07<00:00,  6.21it/s]\n",
      "100%|██████████| 47/47 [00:07<00:00,  6.13it/s]\n",
      "100%|██████████| 47/47 [00:07<00:00,  6.19it/s]\n",
      "100%|██████████| 47/47 [00:07<00:00,  6.28it/s]\n",
      "100%|██████████| 47/47 [00:07<00:00,  6.18it/s]\n",
      "100%|██████████| 47/47 [00:07<00:00,  6.19it/s]\n",
      "100%|██████████| 47/47 [00:07<00:00,  6.18it/s]\n",
      "100%|██████████| 47/47 [00:07<00:00,  6.17it/s]\n",
      "100%|██████████| 47/47 [00:07<00:00,  6.22it/s]\n",
      "100%|██████████| 47/47 [00:07<00:00,  6.16it/s]\n",
      "100%|██████████| 47/47 [00:07<00:00,  6.16it/s]\n",
      "100%|██████████| 47/47 [00:07<00:00,  6.15it/s]\n",
      "100%|██████████| 47/47 [00:07<00:00,  6.25it/s]\n",
      "100%|██████████| 47/47 [00:07<00:00,  6.29it/s]\n",
      "100%|██████████| 47/47 [00:07<00:00,  6.23it/s]\n",
      "100%|██████████| 47/47 [00:07<00:00,  6.20it/s]\n",
      "100%|██████████| 47/47 [00:07<00:00,  6.23it/s]\n",
      "100%|██████████| 47/47 [00:07<00:00,  6.29it/s]\n",
      "100%|██████████| 47/47 [00:07<00:00,  6.32it/s]\n",
      "100%|██████████| 47/47 [00:07<00:00,  6.27it/s]\n"
     ]
    },
    {
     "name": "stdout",
     "output_type": "stream",
     "text": [
      "Processing 13/50\r"
     ]
    },
    {
     "name": "stderr",
     "output_type": "stream",
     "text": [
      "100%|██████████| 47/47 [00:07<00:00,  5.93it/s]\n",
      "100%|██████████| 47/47 [00:07<00:00,  6.14it/s]\n",
      "100%|██████████| 47/47 [00:07<00:00,  6.00it/s]\n",
      "100%|██████████| 47/47 [00:07<00:00,  6.10it/s]\n",
      "100%|██████████| 47/47 [00:08<00:00,  5.75it/s]\n",
      "100%|██████████| 47/47 [00:07<00:00,  6.11it/s]\n",
      "100%|██████████| 47/47 [00:07<00:00,  6.10it/s]\n",
      "100%|██████████| 47/47 [00:07<00:00,  6.02it/s]\n",
      "100%|██████████| 47/47 [00:07<00:00,  6.13it/s]\n",
      "100%|██████████| 47/47 [00:07<00:00,  6.11it/s]\n",
      "100%|██████████| 47/47 [00:07<00:00,  6.16it/s]\n",
      "100%|██████████| 47/47 [00:07<00:00,  6.17it/s]\n",
      "100%|██████████| 47/47 [00:07<00:00,  6.03it/s]\n",
      "100%|██████████| 47/47 [00:07<00:00,  6.15it/s]\n",
      "100%|██████████| 47/47 [00:07<00:00,  6.08it/s]\n",
      "100%|██████████| 47/47 [00:07<00:00,  6.09it/s]\n",
      "100%|██████████| 47/47 [00:07<00:00,  6.15it/s]\n",
      "100%|██████████| 47/47 [00:07<00:00,  6.09it/s]\n",
      "100%|██████████| 47/47 [00:07<00:00,  6.18it/s]\n",
      "100%|██████████| 47/47 [00:07<00:00,  6.09it/s]\n",
      "100%|██████████| 47/47 [00:07<00:00,  6.24it/s]\n",
      "100%|██████████| 47/47 [00:07<00:00,  6.23it/s]\n",
      "100%|██████████| 47/47 [00:07<00:00,  6.17it/s]\n",
      "100%|██████████| 47/47 [00:07<00:00,  6.23it/s]\n",
      "100%|██████████| 47/47 [00:07<00:00,  6.11it/s]\n",
      "100%|██████████| 47/47 [00:07<00:00,  6.17it/s]\n",
      "100%|██████████| 47/47 [00:07<00:00,  6.21it/s]\n",
      "100%|██████████| 47/47 [00:07<00:00,  6.20it/s]\n",
      "100%|██████████| 47/47 [00:07<00:00,  6.24it/s]\n",
      "100%|██████████| 47/47 [00:07<00:00,  6.10it/s]\n"
     ]
    },
    {
     "name": "stdout",
     "output_type": "stream",
     "text": [
      "Processing 14/50\r"
     ]
    },
    {
     "name": "stderr",
     "output_type": "stream",
     "text": [
      "100%|██████████| 47/47 [00:07<00:00,  6.13it/s]\n",
      "100%|██████████| 47/47 [00:07<00:00,  6.09it/s]\n",
      "100%|██████████| 47/47 [00:07<00:00,  6.13it/s]\n",
      "100%|██████████| 47/47 [00:07<00:00,  6.11it/s]\n",
      "100%|██████████| 47/47 [00:07<00:00,  6.17it/s]\n",
      "100%|██████████| 47/47 [00:07<00:00,  6.16it/s]\n",
      "100%|██████████| 47/47 [00:07<00:00,  6.13it/s]\n",
      "100%|██████████| 47/47 [00:07<00:00,  6.14it/s]\n",
      "100%|██████████| 47/47 [00:07<00:00,  6.16it/s]\n",
      "100%|██████████| 47/47 [00:07<00:00,  6.12it/s]\n",
      "100%|██████████| 47/47 [00:07<00:00,  6.20it/s]\n",
      "100%|██████████| 47/47 [00:07<00:00,  6.17it/s]\n",
      "100%|██████████| 47/47 [00:07<00:00,  6.15it/s]\n",
      "100%|██████████| 47/47 [00:07<00:00,  6.16it/s]\n",
      "100%|██████████| 47/47 [00:07<00:00,  6.18it/s]\n",
      "100%|██████████| 47/47 [00:07<00:00,  6.26it/s]\n",
      "100%|██████████| 47/47 [00:07<00:00,  6.19it/s]\n",
      "100%|██████████| 47/47 [00:07<00:00,  6.17it/s]\n",
      "100%|██████████| 47/47 [00:07<00:00,  6.17it/s]\n",
      "100%|██████████| 47/47 [00:07<00:00,  6.20it/s]\n",
      "100%|██████████| 47/47 [00:07<00:00,  6.23it/s]\n",
      "100%|██████████| 47/47 [00:07<00:00,  6.09it/s]\n",
      "100%|██████████| 47/47 [00:07<00:00,  6.09it/s]\n",
      "100%|██████████| 47/47 [00:07<00:00,  6.13it/s]\n",
      "100%|██████████| 47/47 [00:07<00:00,  6.13it/s]\n",
      "100%|██████████| 47/47 [00:07<00:00,  6.26it/s]\n",
      "100%|██████████| 47/47 [00:07<00:00,  6.21it/s]\n",
      "100%|██████████| 47/47 [00:07<00:00,  6.17it/s]\n",
      "100%|██████████| 47/47 [00:07<00:00,  6.23it/s]\n",
      "100%|██████████| 47/47 [00:07<00:00,  6.28it/s]\n"
     ]
    },
    {
     "name": "stdout",
     "output_type": "stream",
     "text": [
      "Processing 15/50\r"
     ]
    },
    {
     "name": "stderr",
     "output_type": "stream",
     "text": [
      "100%|██████████| 47/47 [00:07<00:00,  5.88it/s]\n",
      "100%|██████████| 47/47 [00:08<00:00,  5.83it/s]\n",
      "100%|██████████| 47/47 [00:07<00:00,  5.94it/s]\n",
      "100%|██████████| 47/47 [00:07<00:00,  5.90it/s]\n",
      "100%|██████████| 47/47 [00:07<00:00,  6.10it/s]\n",
      "100%|██████████| 47/47 [00:07<00:00,  6.00it/s]\n",
      "100%|██████████| 47/47 [00:07<00:00,  5.88it/s]\n",
      "100%|██████████| 47/47 [00:07<00:00,  5.94it/s]\n",
      "100%|██████████| 47/47 [00:07<00:00,  5.99it/s]\n",
      "100%|██████████| 47/47 [00:07<00:00,  6.15it/s]\n",
      "100%|██████████| 47/47 [00:07<00:00,  5.90it/s]\n",
      "100%|██████████| 47/47 [00:07<00:00,  5.90it/s]\n",
      "100%|██████████| 47/47 [00:07<00:00,  6.00it/s]\n",
      "100%|██████████| 47/47 [00:07<00:00,  5.91it/s]\n",
      "100%|██████████| 47/47 [00:07<00:00,  6.14it/s]\n",
      "100%|██████████| 47/47 [00:07<00:00,  6.05it/s]\n",
      "100%|██████████| 47/47 [00:07<00:00,  6.02it/s]\n",
      "100%|██████████| 47/47 [00:07<00:00,  6.07it/s]\n",
      "100%|██████████| 47/47 [00:07<00:00,  6.02it/s]\n",
      "100%|██████████| 47/47 [00:07<00:00,  6.18it/s]\n",
      "100%|██████████| 47/47 [00:07<00:00,  6.06it/s]\n",
      "100%|██████████| 47/47 [00:07<00:00,  6.10it/s]\n",
      "100%|██████████| 47/47 [00:07<00:00,  6.10it/s]\n",
      "100%|██████████| 47/47 [00:07<00:00,  6.06it/s]\n",
      "100%|██████████| 47/47 [00:07<00:00,  6.15it/s]\n",
      "100%|██████████| 47/47 [00:07<00:00,  6.17it/s]\n",
      "100%|██████████| 47/47 [00:07<00:00,  6.08it/s]\n",
      "100%|██████████| 47/47 [00:07<00:00,  6.13it/s]\n",
      "100%|██████████| 47/47 [00:07<00:00,  6.11it/s]\n",
      "100%|██████████| 47/47 [00:07<00:00,  6.18it/s]\n"
     ]
    },
    {
     "name": "stdout",
     "output_type": "stream",
     "text": [
      "Processing 16/50\r"
     ]
    },
    {
     "name": "stderr",
     "output_type": "stream",
     "text": [
      "100%|██████████| 47/47 [00:07<00:00,  6.24it/s]\n",
      "100%|██████████| 47/47 [00:07<00:00,  6.19it/s]\n",
      "100%|██████████| 47/47 [00:07<00:00,  6.20it/s]\n",
      "100%|██████████| 47/47 [00:07<00:00,  6.27it/s]\n",
      "100%|██████████| 47/47 [00:07<00:00,  6.17it/s]\n",
      "100%|██████████| 47/47 [00:07<00:00,  6.25it/s]\n",
      "100%|██████████| 47/47 [00:07<00:00,  6.22it/s]\n",
      "100%|██████████| 47/47 [00:07<00:00,  6.22it/s]\n",
      "100%|██████████| 47/47 [00:07<00:00,  6.11it/s]\n",
      "100%|██████████| 47/47 [00:07<00:00,  6.18it/s]\n",
      "100%|██████████| 47/47 [00:07<00:00,  6.24it/s]\n",
      "100%|██████████| 47/47 [00:07<00:00,  6.19it/s]\n",
      "100%|██████████| 47/47 [00:07<00:00,  6.21it/s]\n",
      "100%|██████████| 47/47 [00:07<00:00,  6.24it/s]\n",
      "100%|██████████| 47/47 [00:07<00:00,  6.23it/s]\n",
      "100%|██████████| 47/47 [00:07<00:00,  6.21it/s]\n",
      "100%|██████████| 47/47 [00:07<00:00,  6.29it/s]\n",
      "100%|██████████| 47/47 [00:07<00:00,  6.30it/s]\n",
      "100%|██████████| 47/47 [00:07<00:00,  6.19it/s]\n",
      "100%|██████████| 47/47 [00:07<00:00,  6.27it/s]\n",
      "100%|██████████| 47/47 [00:07<00:00,  6.21it/s]\n",
      "100%|██████████| 47/47 [00:07<00:00,  6.12it/s]\n",
      "100%|██████████| 47/47 [00:07<00:00,  6.22it/s]\n",
      "100%|██████████| 47/47 [00:07<00:00,  6.22it/s]\n",
      "100%|██████████| 47/47 [00:07<00:00,  6.26it/s]\n",
      "100%|██████████| 47/47 [00:07<00:00,  6.27it/s]\n",
      "100%|██████████| 47/47 [00:07<00:00,  6.28it/s]\n",
      "100%|██████████| 47/47 [00:07<00:00,  6.25it/s]\n",
      "100%|██████████| 47/47 [00:07<00:00,  6.25it/s]\n",
      "100%|██████████| 47/47 [00:07<00:00,  6.29it/s]\n"
     ]
    },
    {
     "name": "stdout",
     "output_type": "stream",
     "text": [
      "Processing 17/50\r"
     ]
    },
    {
     "name": "stderr",
     "output_type": "stream",
     "text": [
      "100%|██████████| 47/47 [00:07<00:00,  6.00it/s]\n",
      "100%|██████████| 47/47 [00:07<00:00,  5.97it/s]\n",
      "100%|██████████| 47/47 [00:07<00:00,  5.99it/s]\n",
      "100%|██████████| 47/47 [00:07<00:00,  5.97it/s]\n",
      "100%|██████████| 47/47 [00:07<00:00,  6.01it/s]\n",
      "100%|██████████| 47/47 [00:07<00:00,  6.11it/s]\n",
      "100%|██████████| 47/47 [00:07<00:00,  6.04it/s]\n",
      "100%|██████████| 47/47 [00:07<00:00,  6.15it/s]\n",
      "100%|██████████| 47/47 [00:07<00:00,  6.13it/s]\n",
      "100%|██████████| 47/47 [00:07<00:00,  6.15it/s]\n",
      "100%|██████████| 47/47 [00:07<00:00,  5.97it/s]\n",
      "100%|██████████| 47/47 [00:07<00:00,  5.98it/s]\n",
      "100%|██████████| 47/47 [00:07<00:00,  6.03it/s]\n",
      "100%|██████████| 47/47 [00:07<00:00,  5.94it/s]\n",
      "100%|██████████| 47/47 [00:07<00:00,  6.03it/s]\n",
      "100%|██████████| 47/47 [00:07<00:00,  6.13it/s]\n",
      "100%|██████████| 47/47 [00:07<00:00,  6.01it/s]\n",
      "100%|██████████| 47/47 [00:07<00:00,  6.11it/s]\n",
      "100%|██████████| 47/47 [00:07<00:00,  6.10it/s]\n",
      "100%|██████████| 47/47 [00:07<00:00,  6.14it/s]\n",
      "100%|██████████| 47/47 [00:07<00:00,  5.96it/s]\n",
      "100%|██████████| 47/47 [00:07<00:00,  6.02it/s]\n",
      "100%|██████████| 47/47 [00:07<00:00,  6.04it/s]\n",
      "100%|██████████| 47/47 [00:07<00:00,  5.99it/s]\n",
      "100%|██████████| 47/47 [00:07<00:00,  6.11it/s]\n",
      "100%|██████████| 47/47 [00:07<00:00,  6.20it/s]\n",
      "100%|██████████| 47/47 [00:07<00:00,  6.15it/s]\n",
      "100%|██████████| 47/47 [00:07<00:00,  6.17it/s]\n",
      "100%|██████████| 47/47 [00:07<00:00,  6.17it/s]\n",
      "100%|██████████| 47/47 [00:07<00:00,  6.22it/s]\n"
     ]
    },
    {
     "name": "stdout",
     "output_type": "stream",
     "text": [
      "Processing 18/50\r"
     ]
    },
    {
     "name": "stderr",
     "output_type": "stream",
     "text": [
      "100%|██████████| 47/47 [00:07<00:00,  6.20it/s]\n",
      "100%|██████████| 47/47 [00:07<00:00,  6.25it/s]\n",
      "100%|██████████| 47/47 [00:07<00:00,  6.24it/s]\n",
      "100%|██████████| 47/47 [00:07<00:00,  6.21it/s]\n",
      "100%|██████████| 47/47 [00:07<00:00,  6.21it/s]\n",
      "100%|██████████| 47/47 [00:07<00:00,  6.14it/s]\n",
      "100%|██████████| 47/47 [00:07<00:00,  6.15it/s]\n",
      "100%|██████████| 47/47 [00:07<00:00,  6.16it/s]\n",
      "100%|██████████| 47/47 [00:07<00:00,  6.12it/s]\n",
      "100%|██████████| 47/47 [00:07<00:00,  6.12it/s]\n",
      "100%|██████████| 47/47 [00:07<00:00,  6.23it/s]\n",
      "100%|██████████| 47/47 [00:07<00:00,  6.24it/s]\n",
      "100%|██████████| 47/47 [00:07<00:00,  6.19it/s]\n",
      "100%|██████████| 47/47 [00:07<00:00,  6.13it/s]\n",
      "100%|██████████| 47/47 [00:07<00:00,  6.17it/s]\n",
      "100%|██████████| 47/47 [00:07<00:00,  6.16it/s]\n",
      "100%|██████████| 47/47 [00:07<00:00,  6.18it/s]\n",
      "100%|██████████| 47/47 [00:07<00:00,  6.18it/s]\n",
      "100%|██████████| 47/47 [00:07<00:00,  6.26it/s]\n",
      "100%|██████████| 47/47 [00:07<00:00,  6.15it/s]\n",
      "100%|██████████| 47/47 [00:07<00:00,  6.20it/s]\n",
      "100%|██████████| 47/47 [00:07<00:00,  6.20it/s]\n",
      "100%|██████████| 47/47 [00:07<00:00,  6.23it/s]\n",
      "100%|██████████| 47/47 [00:07<00:00,  6.18it/s]\n",
      "100%|██████████| 47/47 [00:07<00:00,  6.22it/s]\n",
      "100%|██████████| 47/47 [00:07<00:00,  6.19it/s]\n",
      "100%|██████████| 47/47 [00:07<00:00,  6.16it/s]\n",
      "100%|██████████| 47/47 [00:07<00:00,  6.22it/s]\n",
      "100%|██████████| 47/47 [00:07<00:00,  6.27it/s]\n",
      "100%|██████████| 47/47 [00:07<00:00,  6.15it/s]\n"
     ]
    },
    {
     "name": "stdout",
     "output_type": "stream",
     "text": [
      "Processing 19/50\r"
     ]
    },
    {
     "name": "stderr",
     "output_type": "stream",
     "text": [
      "100%|██████████| 47/47 [00:07<00:00,  5.99it/s]\n",
      "100%|██████████| 47/47 [00:07<00:00,  5.96it/s]\n",
      "100%|██████████| 47/47 [00:07<00:00,  5.94it/s]\n",
      "100%|██████████| 47/47 [00:07<00:00,  5.91it/s]\n",
      "100%|██████████| 47/47 [00:07<00:00,  5.94it/s]\n",
      "100%|██████████| 47/47 [00:07<00:00,  6.14it/s]\n",
      "100%|██████████| 47/47 [00:07<00:00,  6.08it/s]\n",
      "100%|██████████| 47/47 [00:07<00:00,  6.14it/s]\n",
      "100%|██████████| 47/47 [00:07<00:00,  6.03it/s]\n",
      "100%|██████████| 47/47 [00:07<00:00,  6.00it/s]\n",
      "100%|██████████| 47/47 [00:07<00:00,  6.13it/s]\n",
      "100%|██████████| 47/47 [00:07<00:00,  6.02it/s]\n",
      "100%|██████████| 47/47 [00:07<00:00,  5.97it/s]\n",
      "100%|██████████| 47/47 [00:07<00:00,  6.01it/s]\n",
      "100%|██████████| 47/47 [00:07<00:00,  6.01it/s]\n",
      "100%|██████████| 47/47 [00:07<00:00,  6.24it/s]\n",
      "100%|██████████| 47/47 [00:07<00:00,  6.17it/s]\n",
      "100%|██████████| 47/47 [00:07<00:00,  6.19it/s]\n",
      "100%|██████████| 47/47 [00:07<00:00,  6.23it/s]\n",
      "100%|██████████| 47/47 [00:07<00:00,  6.17it/s]\n",
      "100%|██████████| 47/47 [00:07<00:00,  6.17it/s]\n",
      "100%|██████████| 47/47 [00:07<00:00,  6.09it/s]\n",
      "100%|██████████| 47/47 [00:07<00:00,  6.12it/s]\n",
      "100%|██████████| 47/47 [00:07<00:00,  6.07it/s]\n",
      "100%|██████████| 47/47 [00:07<00:00,  6.05it/s]\n",
      "100%|██████████| 47/47 [00:07<00:00,  6.24it/s]\n",
      "100%|██████████| 47/47 [00:07<00:00,  6.19it/s]\n",
      "100%|██████████| 47/47 [00:07<00:00,  6.23it/s]\n",
      "100%|██████████| 47/47 [00:07<00:00,  6.24it/s]\n",
      "100%|██████████| 47/47 [00:07<00:00,  6.19it/s]\n"
     ]
    },
    {
     "name": "stdout",
     "output_type": "stream",
     "text": [
      "Processing 20/50\r"
     ]
    },
    {
     "name": "stderr",
     "output_type": "stream",
     "text": [
      "100%|██████████| 47/47 [00:07<00:00,  6.17it/s]\n",
      "100%|██████████| 47/47 [00:07<00:00,  6.19it/s]\n",
      "100%|██████████| 47/47 [00:07<00:00,  6.15it/s]\n",
      "100%|██████████| 47/47 [00:07<00:00,  6.16it/s]\n",
      "100%|██████████| 47/47 [00:07<00:00,  6.13it/s]\n",
      "100%|██████████| 47/47 [00:07<00:00,  6.18it/s]\n",
      "100%|██████████| 47/47 [00:07<00:00,  6.18it/s]\n",
      "100%|██████████| 47/47 [00:07<00:00,  6.18it/s]\n",
      "100%|██████████| 47/47 [00:07<00:00,  6.20it/s]\n",
      "100%|██████████| 47/47 [00:07<00:00,  6.10it/s]\n",
      "100%|██████████| 47/47 [00:07<00:00,  6.04it/s]\n",
      "100%|██████████| 47/47 [00:07<00:00,  6.21it/s]\n",
      "100%|██████████| 47/47 [00:07<00:00,  6.20it/s]\n",
      "100%|██████████| 47/47 [00:07<00:00,  6.17it/s]\n",
      "100%|██████████| 47/47 [00:07<00:00,  6.15it/s]\n",
      "100%|██████████| 47/47 [00:07<00:00,  6.18it/s]\n",
      "100%|██████████| 47/47 [00:07<00:00,  6.11it/s]\n",
      "100%|██████████| 47/47 [00:07<00:00,  6.15it/s]\n",
      "100%|██████████| 47/47 [00:07<00:00,  6.18it/s]\n",
      "100%|██████████| 47/47 [00:07<00:00,  6.12it/s]\n",
      "100%|██████████| 47/47 [00:07<00:00,  6.17it/s]\n",
      "100%|██████████| 47/47 [00:07<00:00,  6.21it/s]\n",
      "100%|██████████| 47/47 [00:07<00:00,  6.25it/s]\n",
      "100%|██████████| 47/47 [00:07<00:00,  6.22it/s]\n",
      "100%|██████████| 47/47 [00:07<00:00,  6.13it/s]\n",
      "100%|██████████| 47/47 [00:07<00:00,  6.20it/s]\n",
      "100%|██████████| 47/47 [00:07<00:00,  6.22it/s]\n",
      "100%|██████████| 47/47 [00:07<00:00,  6.31it/s]\n",
      "100%|██████████| 47/47 [00:07<00:00,  6.24it/s]\n",
      "100%|██████████| 47/47 [00:07<00:00,  6.16it/s]\n"
     ]
    },
    {
     "name": "stdout",
     "output_type": "stream",
     "text": [
      "Processing 21/50\r"
     ]
    },
    {
     "name": "stderr",
     "output_type": "stream",
     "text": [
      "100%|██████████| 47/47 [00:07<00:00,  6.17it/s]\n",
      "100%|██████████| 47/47 [00:07<00:00,  6.13it/s]\n",
      "100%|██████████| 47/47 [00:07<00:00,  6.12it/s]\n",
      "100%|██████████| 47/47 [00:07<00:00,  6.09it/s]\n",
      "100%|██████████| 47/47 [00:07<00:00,  6.06it/s]\n",
      "100%|██████████| 47/47 [00:07<00:00,  6.19it/s]\n",
      "100%|██████████| 47/47 [00:07<00:00,  6.15it/s]\n",
      "100%|██████████| 47/47 [00:07<00:00,  6.24it/s]\n",
      "100%|██████████| 47/47 [00:07<00:00,  6.16it/s]\n",
      "100%|██████████| 47/47 [00:07<00:00,  6.19it/s]\n",
      "100%|██████████| 47/47 [00:07<00:00,  6.32it/s]\n",
      "100%|██████████| 47/47 [00:07<00:00,  6.11it/s]\n",
      "100%|██████████| 47/47 [00:07<00:00,  6.21it/s]\n",
      "100%|██████████| 47/47 [00:07<00:00,  6.15it/s]\n",
      "100%|██████████| 47/47 [00:07<00:00,  6.19it/s]\n",
      "100%|██████████| 47/47 [00:07<00:00,  6.23it/s]\n",
      "100%|██████████| 47/47 [00:07<00:00,  6.15it/s]\n",
      "100%|██████████| 47/47 [00:07<00:00,  6.18it/s]\n",
      "100%|██████████| 47/47 [00:07<00:00,  6.21it/s]\n",
      "100%|██████████| 47/47 [00:07<00:00,  6.14it/s]\n",
      "100%|██████████| 47/47 [00:07<00:00,  6.30it/s]\n",
      "100%|██████████| 47/47 [00:07<00:00,  6.20it/s]\n",
      "100%|██████████| 47/47 [00:07<00:00,  6.22it/s]\n",
      "100%|██████████| 47/47 [00:07<00:00,  6.20it/s]\n",
      "100%|██████████| 47/47 [00:07<00:00,  6.20it/s]\n",
      "100%|██████████| 47/47 [00:07<00:00,  6.22it/s]\n",
      "100%|██████████| 47/47 [00:07<00:00,  6.18it/s]\n",
      "100%|██████████| 47/47 [00:07<00:00,  6.24it/s]\n",
      "100%|██████████| 47/47 [00:07<00:00,  6.22it/s]\n",
      "100%|██████████| 47/47 [00:07<00:00,  6.26it/s]\n"
     ]
    },
    {
     "name": "stdout",
     "output_type": "stream",
     "text": [
      "Processing 22/50\r"
     ]
    },
    {
     "name": "stderr",
     "output_type": "stream",
     "text": [
      "100%|██████████| 47/47 [00:07<00:00,  6.20it/s]\n",
      "100%|██████████| 47/47 [00:07<00:00,  6.23it/s]\n",
      "100%|██████████| 47/47 [00:07<00:00,  6.25it/s]\n",
      "100%|██████████| 47/47 [00:07<00:00,  6.25it/s]\n",
      "100%|██████████| 47/47 [00:07<00:00,  6.23it/s]\n",
      "100%|██████████| 47/47 [00:07<00:00,  6.17it/s]\n",
      "100%|██████████| 47/47 [00:07<00:00,  6.08it/s]\n",
      "100%|██████████| 47/47 [00:07<00:00,  6.09it/s]\n",
      "100%|██████████| 47/47 [00:07<00:00,  6.11it/s]\n",
      "100%|██████████| 47/47 [00:07<00:00,  6.06it/s]\n",
      "100%|██████████| 47/47 [00:07<00:00,  6.28it/s]\n",
      "100%|██████████| 47/47 [00:07<00:00,  6.28it/s]\n",
      "100%|██████████| 47/47 [00:07<00:00,  6.29it/s]\n",
      "100%|██████████| 47/47 [00:07<00:00,  6.24it/s]\n",
      "100%|██████████| 47/47 [00:07<00:00,  6.26it/s]\n",
      "100%|██████████| 47/47 [00:07<00:00,  6.15it/s]\n",
      "100%|██████████| 47/47 [00:07<00:00,  6.16it/s]\n",
      "100%|██████████| 47/47 [00:07<00:00,  6.19it/s]\n",
      "100%|██████████| 47/47 [00:07<00:00,  6.14it/s]\n",
      "100%|██████████| 47/47 [00:07<00:00,  6.14it/s]\n",
      "100%|██████████| 47/47 [00:07<00:00,  6.29it/s]\n",
      "100%|██████████| 47/47 [00:07<00:00,  6.28it/s]\n",
      "100%|██████████| 47/47 [00:07<00:00,  6.28it/s]\n",
      "100%|██████████| 47/47 [00:07<00:00,  6.28it/s]\n",
      "100%|██████████| 47/47 [00:07<00:00,  6.27it/s]\n",
      "100%|██████████| 47/47 [00:07<00:00,  6.24it/s]\n",
      "100%|██████████| 47/47 [00:07<00:00,  6.17it/s]\n",
      "100%|██████████| 47/47 [00:07<00:00,  6.26it/s]\n",
      "100%|██████████| 47/47 [00:07<00:00,  6.13it/s]\n",
      "100%|██████████| 47/47 [00:07<00:00,  6.16it/s]\n"
     ]
    },
    {
     "name": "stdout",
     "output_type": "stream",
     "text": [
      "Processing 23/50\r"
     ]
    },
    {
     "name": "stderr",
     "output_type": "stream",
     "text": [
      "100%|██████████| 47/47 [00:07<00:00,  6.16it/s]\n",
      "100%|██████████| 47/47 [00:07<00:00,  6.14it/s]\n",
      "100%|██████████| 47/47 [00:07<00:00,  6.20it/s]\n",
      "100%|██████████| 47/47 [00:07<00:00,  6.14it/s]\n",
      "100%|██████████| 47/47 [00:07<00:00,  6.16it/s]\n",
      "100%|██████████| 47/47 [00:07<00:00,  6.13it/s]\n",
      "100%|██████████| 47/47 [00:07<00:00,  6.18it/s]\n",
      "100%|██████████| 47/47 [00:07<00:00,  6.19it/s]\n",
      "100%|██████████| 47/47 [00:07<00:00,  6.10it/s]\n",
      "100%|██████████| 47/47 [00:07<00:00,  6.11it/s]\n",
      "100%|██████████| 47/47 [00:07<00:00,  6.20it/s]\n",
      "100%|██████████| 47/47 [00:07<00:00,  6.24it/s]\n",
      "100%|██████████| 47/47 [00:07<00:00,  6.26it/s]\n",
      "100%|██████████| 47/47 [00:07<00:00,  6.15it/s]\n",
      "100%|██████████| 47/47 [00:07<00:00,  6.25it/s]\n",
      "100%|██████████| 47/47 [00:07<00:00,  6.26it/s]\n",
      "100%|██████████| 47/47 [00:07<00:00,  6.16it/s]\n",
      "100%|██████████| 47/47 [00:07<00:00,  6.22it/s]\n",
      "100%|██████████| 47/47 [00:07<00:00,  6.19it/s]\n",
      "100%|██████████| 47/47 [00:07<00:00,  6.20it/s]\n",
      "100%|██████████| 47/47 [00:07<00:00,  6.23it/s]\n",
      "100%|██████████| 47/47 [00:07<00:00,  6.20it/s]\n",
      "100%|██████████| 47/47 [00:07<00:00,  6.22it/s]\n",
      "100%|██████████| 47/47 [00:07<00:00,  6.14it/s]\n",
      "100%|██████████| 47/47 [00:07<00:00,  6.26it/s]\n",
      "100%|██████████| 47/47 [00:07<00:00,  6.23it/s]\n",
      "100%|██████████| 47/47 [00:07<00:00,  6.23it/s]\n",
      "100%|██████████| 47/47 [00:07<00:00,  6.29it/s]\n",
      "100%|██████████| 47/47 [00:07<00:00,  6.19it/s]\n",
      "100%|██████████| 47/47 [00:07<00:00,  6.30it/s]\n"
     ]
    },
    {
     "name": "stdout",
     "output_type": "stream",
     "text": [
      "Processing 24/50\r"
     ]
    },
    {
     "name": "stderr",
     "output_type": "stream",
     "text": [
      "100%|██████████| 47/47 [00:07<00:00,  6.10it/s]\n",
      "100%|██████████| 47/47 [00:07<00:00,  6.12it/s]\n",
      "100%|██████████| 47/47 [00:07<00:00,  6.12it/s]\n",
      "100%|██████████| 47/47 [00:07<00:00,  6.12it/s]\n",
      "100%|██████████| 47/47 [00:07<00:00,  6.14it/s]\n",
      "100%|██████████| 47/47 [00:07<00:00,  6.21it/s]\n",
      "100%|██████████| 47/47 [00:07<00:00,  6.14it/s]\n",
      "100%|██████████| 47/47 [00:07<00:00,  6.20it/s]\n",
      "100%|██████████| 47/47 [00:07<00:00,  6.26it/s]\n",
      "100%|██████████| 47/47 [00:07<00:00,  6.22it/s]\n",
      "100%|██████████| 47/47 [00:07<00:00,  6.13it/s]\n",
      "100%|██████████| 47/47 [00:07<00:00,  6.17it/s]\n",
      "100%|██████████| 47/47 [00:07<00:00,  6.13it/s]\n",
      "100%|██████████| 47/47 [00:07<00:00,  6.10it/s]\n",
      "100%|██████████| 47/47 [00:07<00:00,  6.16it/s]\n",
      "100%|██████████| 47/47 [00:07<00:00,  6.18it/s]\n",
      "100%|██████████| 47/47 [00:07<00:00,  6.23it/s]\n",
      "100%|██████████| 47/47 [00:07<00:00,  6.15it/s]\n",
      "100%|██████████| 47/47 [00:07<00:00,  6.27it/s]\n",
      "100%|██████████| 47/47 [00:07<00:00,  6.21it/s]\n",
      "100%|██████████| 47/47 [00:07<00:00,  6.17it/s]\n",
      "100%|██████████| 47/47 [00:07<00:00,  6.20it/s]\n",
      "100%|██████████| 47/47 [00:07<00:00,  6.23it/s]\n",
      "100%|██████████| 47/47 [00:07<00:00,  6.19it/s]\n",
      "100%|██████████| 47/47 [00:07<00:00,  6.18it/s]\n",
      "100%|██████████| 47/47 [00:07<00:00,  6.23it/s]\n",
      "100%|██████████| 47/47 [00:07<00:00,  6.23it/s]\n",
      "100%|██████████| 47/47 [00:07<00:00,  6.24it/s]\n",
      "100%|██████████| 47/47 [00:07<00:00,  6.24it/s]\n",
      "100%|██████████| 47/47 [00:07<00:00,  6.22it/s]\n"
     ]
    },
    {
     "name": "stdout",
     "output_type": "stream",
     "text": [
      "Processing 25/50\r"
     ]
    },
    {
     "name": "stderr",
     "output_type": "stream",
     "text": [
      "100%|██████████| 47/47 [00:07<00:00,  6.11it/s]\n",
      "100%|██████████| 47/47 [00:07<00:00,  6.12it/s]\n",
      "100%|██████████| 47/47 [00:07<00:00,  5.99it/s]\n",
      "100%|██████████| 47/47 [00:07<00:00,  5.93it/s]\n",
      "100%|██████████| 47/47 [00:07<00:00,  6.15it/s]\n",
      "100%|██████████| 47/47 [00:07<00:00,  6.17it/s]\n",
      "100%|██████████| 47/47 [00:07<00:00,  6.11it/s]\n",
      "100%|██████████| 47/47 [00:07<00:00,  6.03it/s]\n",
      "100%|██████████| 47/47 [00:07<00:00,  6.11it/s]\n",
      "100%|██████████| 47/47 [00:07<00:00,  6.12it/s]\n",
      "100%|██████████| 47/47 [00:07<00:00,  6.16it/s]\n",
      "100%|██████████| 47/47 [00:07<00:00,  6.17it/s]\n",
      "100%|██████████| 47/47 [00:07<00:00,  6.02it/s]\n",
      "100%|██████████| 47/47 [00:07<00:00,  6.09it/s]\n",
      "100%|██████████| 47/47 [00:07<00:00,  6.20it/s]\n",
      "100%|██████████| 47/47 [00:07<00:00,  6.14it/s]\n",
      "100%|██████████| 47/47 [00:07<00:00,  6.14it/s]\n",
      "100%|██████████| 47/47 [00:07<00:00,  6.13it/s]\n",
      "100%|██████████| 47/47 [00:07<00:00,  6.12it/s]\n",
      "100%|██████████| 47/47 [00:07<00:00,  6.16it/s]\n",
      "100%|██████████| 47/47 [00:07<00:00,  6.20it/s]\n",
      "100%|██████████| 47/47 [00:07<00:00,  6.13it/s]\n",
      "100%|██████████| 47/47 [00:07<00:00,  6.05it/s]\n",
      "100%|██████████| 47/47 [00:07<00:00,  6.11it/s]\n",
      "100%|██████████| 47/47 [00:07<00:00,  6.14it/s]\n",
      "100%|██████████| 47/47 [00:07<00:00,  6.15it/s]\n",
      "100%|██████████| 47/47 [00:07<00:00,  6.17it/s]\n",
      "100%|██████████| 47/47 [00:07<00:00,  6.19it/s]\n",
      "100%|██████████| 47/47 [00:07<00:00,  6.17it/s]\n",
      "100%|██████████| 47/47 [00:07<00:00,  6.21it/s]\n"
     ]
    },
    {
     "name": "stdout",
     "output_type": "stream",
     "text": [
      "Processing 26/50\r"
     ]
    },
    {
     "name": "stderr",
     "output_type": "stream",
     "text": [
      "100%|██████████| 47/47 [00:07<00:00,  6.15it/s]\n",
      "100%|██████████| 47/47 [00:07<00:00,  6.17it/s]\n",
      "100%|██████████| 47/47 [00:07<00:00,  6.22it/s]\n",
      "100%|██████████| 47/47 [00:07<00:00,  6.15it/s]\n",
      "100%|██████████| 47/47 [00:07<00:00,  6.06it/s]\n",
      "100%|██████████| 47/47 [00:07<00:00,  6.14it/s]\n",
      "100%|██████████| 47/47 [00:07<00:00,  6.15it/s]\n",
      "100%|██████████| 47/47 [00:07<00:00,  6.14it/s]\n",
      "100%|██████████| 47/47 [00:07<00:00,  6.20it/s]\n",
      "100%|██████████| 47/47 [00:07<00:00,  6.13it/s]\n",
      "100%|██████████| 47/47 [00:07<00:00,  6.14it/s]\n",
      "100%|██████████| 47/47 [00:07<00:00,  6.19it/s]\n",
      "100%|██████████| 47/47 [00:07<00:00,  6.23it/s]\n",
      "100%|██████████| 47/47 [00:07<00:00,  6.25it/s]\n",
      "100%|██████████| 47/47 [00:07<00:00,  6.15it/s]\n",
      "100%|██████████| 47/47 [00:07<00:00,  6.19it/s]\n",
      "100%|██████████| 47/47 [00:07<00:00,  6.22it/s]\n",
      "100%|██████████| 47/47 [00:07<00:00,  6.27it/s]\n",
      "100%|██████████| 47/47 [00:07<00:00,  6.25it/s]\n",
      "100%|██████████| 47/47 [00:07<00:00,  6.17it/s]\n",
      "100%|██████████| 47/47 [00:07<00:00,  6.19it/s]\n",
      "100%|██████████| 47/47 [00:07<00:00,  6.25it/s]\n",
      "100%|██████████| 47/47 [00:07<00:00,  6.21it/s]\n",
      "100%|██████████| 47/47 [00:07<00:00,  6.21it/s]\n",
      "100%|██████████| 47/47 [00:07<00:00,  6.20it/s]\n",
      "100%|██████████| 47/47 [00:07<00:00,  6.16it/s]\n",
      "100%|██████████| 47/47 [00:07<00:00,  6.25it/s]\n",
      "100%|██████████| 47/47 [00:07<00:00,  6.20it/s]\n",
      "100%|██████████| 47/47 [00:07<00:00,  6.22it/s]\n",
      "100%|██████████| 47/47 [00:07<00:00,  6.19it/s]\n"
     ]
    },
    {
     "name": "stdout",
     "output_type": "stream",
     "text": [
      "Processing 27/50\r"
     ]
    },
    {
     "name": "stderr",
     "output_type": "stream",
     "text": [
      "100%|██████████| 47/47 [00:07<00:00,  6.15it/s]\n",
      "100%|██████████| 47/47 [00:07<00:00,  6.26it/s]\n",
      "100%|██████████| 47/47 [00:07<00:00,  6.24it/s]\n",
      "100%|██████████| 47/47 [00:07<00:00,  6.25it/s]\n",
      "100%|██████████| 47/47 [00:07<00:00,  6.22it/s]\n",
      "100%|██████████| 47/47 [00:07<00:00,  6.07it/s]\n",
      "100%|██████████| 47/47 [00:07<00:00,  6.17it/s]\n",
      "100%|██████████| 47/47 [00:07<00:00,  6.10it/s]\n",
      "100%|██████████| 47/47 [00:07<00:00,  6.14it/s]\n",
      "100%|██████████| 47/47 [00:07<00:00,  6.07it/s]\n",
      "100%|██████████| 47/47 [00:07<00:00,  6.15it/s]\n",
      "100%|██████████| 47/47 [00:07<00:00,  6.02it/s]\n",
      "100%|██████████| 47/47 [00:07<00:00,  6.24it/s]\n",
      "100%|██████████| 47/47 [00:07<00:00,  6.22it/s]\n",
      "100%|██████████| 47/47 [00:07<00:00,  6.25it/s]\n",
      "100%|██████████| 47/47 [00:07<00:00,  6.04it/s]\n",
      "100%|██████████| 47/47 [00:07<00:00,  6.16it/s]\n",
      "100%|██████████| 47/47 [00:07<00:00,  6.13it/s]\n",
      "100%|██████████| 47/47 [00:07<00:00,  6.17it/s]\n",
      "100%|██████████| 47/47 [00:07<00:00,  6.15it/s]\n",
      "100%|██████████| 47/47 [00:07<00:00,  6.19it/s]\n",
      "100%|██████████| 47/47 [00:07<00:00,  6.30it/s]\n",
      "100%|██████████| 47/47 [00:07<00:00,  6.33it/s]\n",
      "100%|██████████| 47/47 [00:07<00:00,  6.29it/s]\n",
      "100%|██████████| 47/47 [00:07<00:00,  6.22it/s]\n",
      "100%|██████████| 47/47 [00:07<00:00,  6.11it/s]\n",
      "100%|██████████| 47/47 [00:07<00:00,  6.21it/s]\n",
      "100%|██████████| 47/47 [00:07<00:00,  6.15it/s]\n",
      "100%|██████████| 47/47 [00:07<00:00,  6.18it/s]\n",
      "100%|██████████| 47/47 [00:07<00:00,  6.18it/s]\n"
     ]
    },
    {
     "name": "stdout",
     "output_type": "stream",
     "text": [
      "Processing 28/50\r"
     ]
    },
    {
     "name": "stderr",
     "output_type": "stream",
     "text": [
      "100%|██████████| 47/47 [00:07<00:00,  5.98it/s]\n",
      "100%|██████████| 47/47 [00:07<00:00,  5.99it/s]\n",
      "100%|██████████| 47/47 [00:07<00:00,  6.04it/s]\n",
      "100%|██████████| 47/47 [00:07<00:00,  5.94it/s]\n",
      "100%|██████████| 47/47 [00:07<00:00,  5.96it/s]\n",
      "100%|██████████| 47/47 [00:07<00:00,  6.09it/s]\n",
      "100%|██████████| 47/47 [00:07<00:00,  6.12it/s]\n",
      "100%|██████████| 47/47 [00:07<00:00,  6.15it/s]\n",
      "100%|██████████| 47/47 [00:07<00:00,  6.11it/s]\n",
      "100%|██████████| 47/47 [00:07<00:00,  6.04it/s]\n",
      "100%|██████████| 47/47 [00:07<00:00,  6.04it/s]\n",
      "100%|██████████| 47/47 [00:07<00:00,  6.13it/s]\n",
      "100%|██████████| 47/47 [00:07<00:00,  6.16it/s]\n",
      "100%|██████████| 47/47 [00:07<00:00,  6.05it/s]\n",
      "100%|██████████| 47/47 [00:07<00:00,  6.03it/s]\n",
      "100%|██████████| 47/47 [00:07<00:00,  6.11it/s]\n",
      "100%|██████████| 47/47 [00:07<00:00,  6.27it/s]\n",
      "100%|██████████| 47/47 [00:07<00:00,  6.22it/s]\n",
      "100%|██████████| 47/47 [00:07<00:00,  6.03it/s]\n",
      "100%|██████████| 47/47 [00:07<00:00,  6.03it/s]\n",
      "100%|██████████| 47/47 [00:07<00:00,  6.14it/s]\n",
      "100%|██████████| 47/47 [00:07<00:00,  6.17it/s]\n",
      "100%|██████████| 47/47 [00:07<00:00,  6.22it/s]\n",
      "100%|██████████| 47/47 [00:07<00:00,  6.12it/s]\n",
      "100%|██████████| 47/47 [00:07<00:00,  6.11it/s]\n",
      "100%|██████████| 47/47 [00:07<00:00,  6.18it/s]\n",
      "100%|██████████| 47/47 [00:07<00:00,  6.24it/s]\n",
      "100%|██████████| 47/47 [00:07<00:00,  6.22it/s]\n",
      "100%|██████████| 47/47 [00:07<00:00,  6.17it/s]\n",
      "100%|██████████| 47/47 [00:07<00:00,  6.16it/s]\n"
     ]
    },
    {
     "name": "stdout",
     "output_type": "stream",
     "text": [
      "Processing 29/50\r"
     ]
    },
    {
     "name": "stderr",
     "output_type": "stream",
     "text": [
      "100%|██████████| 47/47 [00:07<00:00,  6.15it/s]\n",
      "100%|██████████| 47/47 [00:07<00:00,  6.12it/s]\n",
      "100%|██████████| 47/47 [00:07<00:00,  6.10it/s]\n",
      "100%|██████████| 47/47 [00:07<00:00,  6.18it/s]\n",
      "100%|██████████| 47/47 [00:07<00:00,  6.13it/s]\n",
      "100%|██████████| 47/47 [00:07<00:00,  6.09it/s]\n",
      "100%|██████████| 47/47 [00:07<00:00,  6.10it/s]\n",
      "100%|██████████| 47/47 [00:07<00:00,  6.03it/s]\n",
      "100%|██████████| 47/47 [00:07<00:00,  6.08it/s]\n",
      "100%|██████████| 47/47 [00:07<00:00,  6.10it/s]\n",
      "100%|██████████| 47/47 [00:07<00:00,  6.16it/s]\n",
      "100%|██████████| 47/47 [00:07<00:00,  6.11it/s]\n",
      "100%|██████████| 47/47 [00:07<00:00,  6.22it/s]\n",
      "100%|██████████| 47/47 [00:07<00:00,  6.18it/s]\n",
      "100%|██████████| 47/47 [00:07<00:00,  6.17it/s]\n",
      "100%|██████████| 47/47 [00:07<00:00,  6.18it/s]\n",
      "100%|██████████| 47/47 [00:07<00:00,  6.19it/s]\n",
      "100%|██████████| 47/47 [00:07<00:00,  6.14it/s]\n",
      "100%|██████████| 47/47 [00:07<00:00,  6.16it/s]\n",
      "100%|██████████| 47/47 [00:07<00:00,  6.18it/s]\n",
      "100%|██████████| 47/47 [00:07<00:00,  6.23it/s]\n",
      "100%|██████████| 47/47 [00:07<00:00,  6.24it/s]\n",
      "100%|██████████| 47/47 [00:07<00:00,  6.19it/s]\n",
      "100%|██████████| 47/47 [00:07<00:00,  6.18it/s]\n",
      "100%|██████████| 47/47 [00:07<00:00,  6.22it/s]\n",
      "100%|██████████| 47/47 [00:07<00:00,  6.22it/s]\n",
      "100%|██████████| 47/47 [00:07<00:00,  6.23it/s]\n",
      "100%|██████████| 47/47 [00:07<00:00,  6.21it/s]\n",
      "100%|██████████| 47/47 [00:07<00:00,  6.21it/s]\n",
      "100%|██████████| 47/47 [00:07<00:00,  6.21it/s]\n"
     ]
    },
    {
     "name": "stdout",
     "output_type": "stream",
     "text": [
      "Processing 30/50\r"
     ]
    },
    {
     "name": "stderr",
     "output_type": "stream",
     "text": [
      "100%|██████████| 47/47 [00:07<00:00,  6.20it/s]\n",
      "100%|██████████| 47/47 [00:07<00:00,  6.25it/s]\n",
      "100%|██████████| 47/47 [00:07<00:00,  6.26it/s]\n",
      "100%|██████████| 47/47 [00:07<00:00,  6.19it/s]\n",
      "100%|██████████| 47/47 [00:07<00:00,  6.17it/s]\n",
      "100%|██████████| 47/47 [00:07<00:00,  6.16it/s]\n",
      "100%|██████████| 47/47 [00:07<00:00,  6.10it/s]\n",
      "100%|██████████| 47/47 [00:07<00:00,  6.01it/s]\n",
      "100%|██████████| 47/47 [00:07<00:00,  6.08it/s]\n",
      "100%|██████████| 47/47 [00:07<00:00,  6.00it/s]\n",
      "100%|██████████| 47/47 [00:07<00:00,  6.24it/s]\n",
      "100%|██████████| 47/47 [00:07<00:00,  6.29it/s]\n",
      "100%|██████████| 47/47 [00:07<00:00,  6.26it/s]\n",
      "100%|██████████| 47/47 [00:07<00:00,  6.28it/s]\n",
      "100%|██████████| 47/47 [00:07<00:00,  6.23it/s]\n",
      "100%|██████████| 47/47 [00:07<00:00,  6.18it/s]\n",
      "100%|██████████| 47/47 [00:07<00:00,  6.13it/s]\n",
      "100%|██████████| 47/47 [00:07<00:00,  6.12it/s]\n",
      "100%|██████████| 47/47 [00:07<00:00,  6.10it/s]\n",
      "100%|██████████| 47/47 [00:07<00:00,  6.14it/s]\n",
      "100%|██████████| 47/47 [00:07<00:00,  6.27it/s]\n",
      "100%|██████████| 47/47 [00:07<00:00,  6.24it/s]\n",
      "100%|██████████| 47/47 [00:07<00:00,  6.26it/s]\n",
      "100%|██████████| 47/47 [00:07<00:00,  6.24it/s]\n",
      "100%|██████████| 47/47 [00:07<00:00,  6.22it/s]\n",
      "100%|██████████| 47/47 [00:07<00:00,  6.27it/s]\n",
      "100%|██████████| 47/47 [00:07<00:00,  6.24it/s]\n",
      "100%|██████████| 47/47 [00:07<00:00,  6.27it/s]\n",
      "100%|██████████| 47/47 [00:07<00:00,  6.23it/s]\n",
      "100%|██████████| 47/47 [00:07<00:00,  6.15it/s]\n"
     ]
    },
    {
     "name": "stdout",
     "output_type": "stream",
     "text": [
      "Processing 31/50\r"
     ]
    },
    {
     "name": "stderr",
     "output_type": "stream",
     "text": [
      "100%|██████████| 47/47 [00:07<00:00,  6.09it/s]\n",
      "100%|██████████| 47/47 [00:07<00:00,  6.27it/s]\n",
      "100%|██████████| 47/47 [00:07<00:00,  6.20it/s]\n",
      "100%|██████████| 47/47 [00:07<00:00,  6.20it/s]\n",
      "100%|██████████| 47/47 [00:07<00:00,  6.16it/s]\n",
      "100%|██████████| 47/47 [00:07<00:00,  6.15it/s]\n",
      "100%|██████████| 47/47 [00:07<00:00,  6.21it/s]\n",
      "100%|██████████| 47/47 [00:07<00:00,  6.19it/s]\n",
      "100%|██████████| 47/47 [00:07<00:00,  6.15it/s]\n",
      "100%|██████████| 47/47 [00:07<00:00,  6.15it/s]\n",
      "100%|██████████| 47/47 [00:07<00:00,  6.19it/s]\n",
      "100%|██████████| 47/47 [00:07<00:00,  6.34it/s]\n",
      "100%|██████████| 47/47 [00:07<00:00,  6.31it/s]\n",
      "100%|██████████| 47/47 [00:07<00:00,  6.26it/s]\n",
      "100%|██████████| 47/47 [00:07<00:00,  6.29it/s]\n",
      "100%|██████████| 47/47 [00:07<00:00,  6.21it/s]\n",
      "100%|██████████| 47/47 [00:07<00:00,  6.26it/s]\n",
      "100%|██████████| 47/47 [00:07<00:00,  6.20it/s]\n",
      "100%|██████████| 47/47 [00:07<00:00,  6.29it/s]\n",
      "100%|██████████| 47/47 [00:07<00:00,  6.17it/s]\n",
      "100%|██████████| 47/47 [00:07<00:00,  6.22it/s]\n",
      "100%|██████████| 47/47 [00:07<00:00,  6.29it/s]\n",
      "100%|██████████| 47/47 [00:07<00:00,  6.31it/s]\n",
      "100%|██████████| 47/47 [00:07<00:00,  6.23it/s]\n",
      "100%|██████████| 47/47 [00:07<00:00,  6.28it/s]\n",
      "100%|██████████| 47/47 [00:07<00:00,  6.20it/s]\n",
      "100%|██████████| 47/47 [00:07<00:00,  6.30it/s]\n",
      "100%|██████████| 47/47 [00:07<00:00,  6.21it/s]\n",
      "100%|██████████| 47/47 [00:07<00:00,  6.24it/s]\n",
      "100%|██████████| 47/47 [00:07<00:00,  6.14it/s]\n"
     ]
    },
    {
     "name": "stdout",
     "output_type": "stream",
     "text": [
      "Processing 32/50\r"
     ]
    },
    {
     "name": "stderr",
     "output_type": "stream",
     "text": [
      "100%|██████████| 47/47 [00:07<00:00,  6.07it/s]\n",
      "100%|██████████| 47/47 [00:07<00:00,  6.06it/s]\n",
      "100%|██████████| 47/47 [00:07<00:00,  6.20it/s]\n",
      "100%|██████████| 47/47 [00:07<00:00,  6.04it/s]\n",
      "100%|██████████| 47/47 [00:07<00:00,  6.01it/s]\n",
      "100%|██████████| 47/47 [00:07<00:00,  6.12it/s]\n",
      "100%|██████████| 47/47 [00:07<00:00,  6.17it/s]\n",
      "100%|██████████| 47/47 [00:07<00:00,  6.20it/s]\n",
      "100%|██████████| 47/47 [00:07<00:00,  6.04it/s]\n",
      "100%|██████████| 47/47 [00:07<00:00,  6.08it/s]\n",
      "100%|██████████| 47/47 [00:07<00:00,  6.04it/s]\n",
      "100%|██████████| 47/47 [00:07<00:00,  6.07it/s]\n",
      "100%|██████████| 47/47 [00:07<00:00,  6.15it/s]\n",
      "100%|██████████| 47/47 [00:07<00:00,  6.03it/s]\n",
      "100%|██████████| 47/47 [00:07<00:00,  5.99it/s]\n",
      "100%|██████████| 47/47 [00:07<00:00,  6.13it/s]\n",
      "100%|██████████| 47/47 [00:07<00:00,  6.19it/s]\n",
      "100%|██████████| 47/47 [00:07<00:00,  6.25it/s]\n",
      "100%|██████████| 47/47 [00:07<00:00,  6.15it/s]\n",
      "100%|██████████| 47/47 [00:07<00:00,  6.14it/s]\n",
      "100%|██████████| 47/47 [00:07<00:00,  6.11it/s]\n",
      "100%|██████████| 47/47 [00:07<00:00,  6.18it/s]\n",
      "100%|██████████| 47/47 [00:07<00:00,  6.22it/s]\n",
      "100%|██████████| 47/47 [00:07<00:00,  6.18it/s]\n",
      "100%|██████████| 47/47 [00:07<00:00,  6.05it/s]\n",
      "100%|██████████| 47/47 [00:07<00:00,  6.14it/s]\n",
      "100%|██████████| 47/47 [00:07<00:00,  6.21it/s]\n",
      "100%|██████████| 47/47 [00:07<00:00,  6.24it/s]\n",
      "100%|██████████| 47/47 [00:07<00:00,  6.12it/s]\n",
      "100%|██████████| 47/47 [00:07<00:00,  6.12it/s]\n"
     ]
    },
    {
     "name": "stdout",
     "output_type": "stream",
     "text": [
      "Processing 33/50\r"
     ]
    },
    {
     "name": "stderr",
     "output_type": "stream",
     "text": [
      "100%|██████████| 47/47 [00:07<00:00,  6.03it/s]\n",
      "100%|██████████| 47/47 [00:07<00:00,  6.02it/s]\n",
      "100%|██████████| 47/47 [00:07<00:00,  6.03it/s]\n",
      "100%|██████████| 47/47 [00:07<00:00,  5.93it/s]\n",
      "100%|██████████| 47/47 [00:07<00:00,  6.09it/s]\n",
      "100%|██████████| 47/47 [00:07<00:00,  6.09it/s]\n",
      "100%|██████████| 47/47 [00:07<00:00,  6.06it/s]\n",
      "100%|██████████| 47/47 [00:07<00:00,  6.06it/s]\n",
      "100%|██████████| 47/47 [00:07<00:00,  6.06it/s]\n",
      "100%|██████████| 47/47 [00:07<00:00,  6.11it/s]\n",
      "100%|██████████| 47/47 [00:07<00:00,  6.06it/s]\n",
      "100%|██████████| 47/47 [00:07<00:00,  6.04it/s]\n",
      "100%|██████████| 47/47 [00:07<00:00,  6.04it/s]\n",
      "100%|██████████| 47/47 [00:07<00:00,  6.15it/s]\n",
      "100%|██████████| 47/47 [00:07<00:00,  6.15it/s]\n",
      "100%|██████████| 47/47 [00:07<00:00,  6.06it/s]\n",
      "100%|██████████| 47/47 [00:07<00:00,  6.18it/s]\n",
      "100%|██████████| 47/47 [00:07<00:00,  6.07it/s]\n",
      "100%|██████████| 47/47 [00:07<00:00,  6.17it/s]\n",
      "100%|██████████| 47/47 [00:07<00:00,  6.18it/s]\n",
      "100%|██████████| 47/47 [00:07<00:00,  6.13it/s]\n",
      "100%|██████████| 47/47 [00:07<00:00,  6.17it/s]\n",
      "100%|██████████| 47/47 [00:07<00:00,  6.11it/s]\n",
      "100%|██████████| 47/47 [00:07<00:00,  6.15it/s]\n",
      "100%|██████████| 47/47 [00:07<00:00,  6.19it/s]\n",
      "100%|██████████| 47/47 [00:07<00:00,  6.08it/s]\n",
      "100%|██████████| 47/47 [00:07<00:00,  6.14it/s]\n",
      "100%|██████████| 47/47 [00:07<00:00,  6.08it/s]\n",
      "100%|██████████| 47/47 [00:07<00:00,  6.18it/s]\n",
      "100%|██████████| 47/47 [00:07<00:00,  6.11it/s]\n"
     ]
    },
    {
     "name": "stdout",
     "output_type": "stream",
     "text": [
      "Processing 34/50\r"
     ]
    },
    {
     "name": "stderr",
     "output_type": "stream",
     "text": [
      "100%|██████████| 47/47 [00:07<00:00,  6.16it/s]\n",
      "100%|██████████| 47/47 [00:07<00:00,  6.18it/s]\n",
      "100%|██████████| 47/47 [00:07<00:00,  6.19it/s]\n",
      "100%|██████████| 47/47 [00:07<00:00,  6.13it/s]\n",
      "100%|██████████| 47/47 [00:07<00:00,  6.17it/s]\n",
      "100%|██████████| 47/47 [00:07<00:00,  6.11it/s]\n",
      "100%|██████████| 47/47 [00:07<00:00,  6.12it/s]\n",
      "100%|██████████| 47/47 [00:07<00:00,  6.18it/s]\n",
      "100%|██████████| 47/47 [00:07<00:00,  6.11it/s]\n",
      "100%|██████████| 47/47 [00:07<00:00,  6.15it/s]\n",
      "100%|██████████| 47/47 [00:07<00:00,  6.25it/s]\n",
      "100%|██████████| 47/47 [00:07<00:00,  6.24it/s]\n",
      "100%|██████████| 47/47 [00:07<00:00,  6.24it/s]\n",
      "100%|██████████| 47/47 [00:07<00:00,  6.20it/s]\n",
      "100%|██████████| 47/47 [00:07<00:00,  6.20it/s]\n",
      "100%|██████████| 47/47 [00:07<00:00,  6.26it/s]\n",
      "100%|██████████| 47/47 [00:07<00:00,  6.21it/s]\n",
      "100%|██████████| 47/47 [00:07<00:00,  6.21it/s]\n",
      "100%|██████████| 47/47 [00:07<00:00,  6.15it/s]\n",
      "100%|██████████| 47/47 [00:07<00:00,  6.23it/s]\n",
      "100%|██████████| 47/47 [00:07<00:00,  6.23it/s]\n",
      "100%|██████████| 47/47 [00:07<00:00,  6.20it/s]\n",
      "100%|██████████| 47/47 [00:07<00:00,  6.20it/s]\n",
      "100%|██████████| 47/47 [00:07<00:00,  6.23it/s]\n",
      "100%|██████████| 47/47 [00:07<00:00,  6.16it/s]\n",
      "100%|██████████| 47/47 [00:07<00:00,  6.23it/s]\n",
      "100%|██████████| 47/47 [00:07<00:00,  6.22it/s]\n",
      "100%|██████████| 47/47 [00:07<00:00,  6.19it/s]\n",
      "100%|██████████| 47/47 [00:07<00:00,  6.17it/s]\n",
      "100%|██████████| 47/47 [00:07<00:00,  6.18it/s]\n"
     ]
    },
    {
     "name": "stdout",
     "output_type": "stream",
     "text": [
      "Processing 35/50\r"
     ]
    },
    {
     "name": "stderr",
     "output_type": "stream",
     "text": [
      "100%|██████████| 47/47 [00:07<00:00,  6.01it/s]\n",
      "100%|██████████| 47/47 [00:07<00:00,  5.99it/s]\n",
      "100%|██████████| 47/47 [00:07<00:00,  6.07it/s]\n",
      "100%|██████████| 47/47 [00:07<00:00,  5.99it/s]\n",
      "100%|██████████| 47/47 [00:07<00:00,  6.00it/s]\n",
      "100%|██████████| 47/47 [00:07<00:00,  6.11it/s]\n",
      "100%|██████████| 47/47 [00:07<00:00,  6.12it/s]\n",
      "100%|██████████| 47/47 [00:07<00:00,  6.05it/s]\n",
      "100%|██████████| 47/47 [00:07<00:00,  6.14it/s]\n",
      "100%|██████████| 47/47 [00:07<00:00,  6.03it/s]\n",
      "100%|██████████| 47/47 [00:07<00:00,  5.98it/s]\n",
      "100%|██████████| 47/47 [00:07<00:00,  5.93it/s]\n",
      "100%|██████████| 47/47 [00:07<00:00,  6.03it/s]\n",
      "100%|██████████| 47/47 [00:07<00:00,  5.98it/s]\n",
      "100%|██████████| 47/47 [00:07<00:00,  5.92it/s]\n",
      "100%|██████████| 47/47 [00:07<00:00,  6.07it/s]\n",
      "100%|██████████| 47/47 [00:07<00:00,  6.10it/s]\n",
      "100%|██████████| 47/47 [00:07<00:00,  6.12it/s]\n",
      "100%|██████████| 47/47 [00:07<00:00,  6.17it/s]\n",
      "100%|██████████| 47/47 [00:07<00:00,  6.03it/s]\n",
      "100%|██████████| 47/47 [00:07<00:00,  6.09it/s]\n",
      "100%|██████████| 47/47 [00:07<00:00,  6.06it/s]\n",
      "100%|██████████| 47/47 [00:07<00:00,  6.19it/s]\n",
      "100%|██████████| 47/47 [00:07<00:00,  6.14it/s]\n",
      "100%|██████████| 47/47 [00:07<00:00,  6.05it/s]\n",
      "100%|██████████| 47/47 [00:07<00:00,  6.13it/s]\n",
      "100%|██████████| 47/47 [00:07<00:00,  6.16it/s]\n",
      "100%|██████████| 47/47 [00:07<00:00,  6.17it/s]\n",
      "100%|██████████| 47/47 [00:07<00:00,  6.19it/s]\n",
      "100%|██████████| 47/47 [00:07<00:00,  6.09it/s]\n"
     ]
    },
    {
     "name": "stdout",
     "output_type": "stream",
     "text": [
      "Processing 36/50\r"
     ]
    },
    {
     "name": "stderr",
     "output_type": "stream",
     "text": [
      "100%|██████████| 47/47 [00:07<00:00,  6.15it/s]\n",
      "100%|██████████| 47/47 [00:07<00:00,  6.17it/s]\n",
      "100%|██████████| 47/47 [00:07<00:00,  6.17it/s]\n",
      "100%|██████████| 47/47 [00:07<00:00,  6.23it/s]\n",
      "100%|██████████| 47/47 [00:07<00:00,  6.10it/s]\n",
      "100%|██████████| 47/47 [00:07<00:00,  6.21it/s]\n",
      "100%|██████████| 47/47 [00:07<00:00,  6.18it/s]\n",
      "100%|██████████| 47/47 [00:07<00:00,  6.18it/s]\n",
      "100%|██████████| 47/47 [00:07<00:00,  6.17it/s]\n",
      "100%|██████████| 47/47 [00:07<00:00,  6.13it/s]\n",
      "100%|██████████| 47/47 [00:07<00:00,  6.21it/s]\n",
      "100%|██████████| 47/47 [00:07<00:00,  6.15it/s]\n",
      "100%|██████████| 47/47 [00:07<00:00,  6.18it/s]\n",
      "100%|██████████| 47/47 [00:07<00:00,  6.15it/s]\n",
      "100%|██████████| 47/47 [00:07<00:00,  6.16it/s]\n",
      "100%|██████████| 47/47 [00:07<00:00,  6.17it/s]\n",
      "100%|██████████| 47/47 [00:07<00:00,  6.25it/s]\n",
      "100%|██████████| 47/47 [00:07<00:00,  6.25it/s]\n",
      "100%|██████████| 47/47 [00:07<00:00,  6.20it/s]\n",
      "100%|██████████| 47/47 [00:07<00:00,  6.20it/s]\n",
      "100%|██████████| 47/47 [00:07<00:00,  6.26it/s]\n",
      "100%|██████████| 47/47 [00:07<00:00,  6.22it/s]\n",
      "100%|██████████| 47/47 [00:07<00:00,  6.28it/s]\n",
      "100%|██████████| 47/47 [00:07<00:00,  6.24it/s]\n",
      "100%|██████████| 47/47 [00:07<00:00,  6.20it/s]\n",
      "100%|██████████| 47/47 [00:07<00:00,  6.24it/s]\n",
      "100%|██████████| 47/47 [00:07<00:00,  6.19it/s]\n",
      "100%|██████████| 47/47 [00:07<00:00,  6.25it/s]\n",
      "100%|██████████| 47/47 [00:07<00:00,  6.19it/s]\n",
      "100%|██████████| 47/47 [00:07<00:00,  6.18it/s]\n"
     ]
    },
    {
     "name": "stdout",
     "output_type": "stream",
     "text": [
      "Processing 37/50\r"
     ]
    },
    {
     "name": "stderr",
     "output_type": "stream",
     "text": [
      "100%|██████████| 47/47 [00:07<00:00,  5.94it/s]\n",
      "100%|██████████| 47/47 [00:07<00:00,  6.02it/s]\n",
      "100%|██████████| 47/47 [00:07<00:00,  6.05it/s]\n",
      "100%|██████████| 47/47 [00:07<00:00,  5.88it/s]\n",
      "100%|██████████| 47/47 [00:07<00:00,  5.95it/s]\n",
      "100%|██████████| 47/47 [00:07<00:00,  5.98it/s]\n",
      "100%|██████████| 47/47 [00:07<00:00,  6.03it/s]\n",
      "100%|██████████| 47/47 [00:07<00:00,  6.00it/s]\n",
      "100%|██████████| 47/47 [00:07<00:00,  5.89it/s]\n",
      "100%|██████████| 47/47 [00:07<00:00,  5.99it/s]\n",
      "100%|██████████| 47/47 [00:07<00:00,  6.13it/s]\n",
      "100%|██████████| 47/47 [00:07<00:00,  6.20it/s]\n",
      "100%|██████████| 47/47 [00:07<00:00,  6.05it/s]\n",
      "100%|██████████| 47/47 [00:07<00:00,  6.07it/s]\n",
      "100%|██████████| 47/47 [00:07<00:00,  6.08it/s]\n",
      "100%|██████████| 47/47 [00:07<00:00,  6.10it/s]\n",
      "100%|██████████| 47/47 [00:07<00:00,  6.10it/s]\n",
      "100%|██████████| 47/47 [00:07<00:00,  6.16it/s]\n",
      "100%|██████████| 47/47 [00:07<00:00,  6.02it/s]\n",
      "100%|██████████| 47/47 [00:07<00:00,  6.04it/s]\n",
      "100%|██████████| 47/47 [00:07<00:00,  6.19it/s]\n",
      "100%|██████████| 47/47 [00:07<00:00,  6.13it/s]\n",
      "100%|██████████| 47/47 [00:07<00:00,  6.17it/s]\n",
      "100%|██████████| 47/47 [00:07<00:00,  6.12it/s]\n",
      "100%|██████████| 47/47 [00:07<00:00,  6.10it/s]\n",
      "100%|██████████| 47/47 [00:07<00:00,  6.10it/s]\n",
      "100%|██████████| 47/47 [00:07<00:00,  6.17it/s]\n",
      "100%|██████████| 47/47 [00:07<00:00,  6.17it/s]\n",
      "100%|██████████| 47/47 [00:07<00:00,  6.12it/s]\n",
      "100%|██████████| 47/47 [00:07<00:00,  6.09it/s]\n"
     ]
    },
    {
     "name": "stdout",
     "output_type": "stream",
     "text": [
      "Processing 38/50\r"
     ]
    },
    {
     "name": "stderr",
     "output_type": "stream",
     "text": [
      "100%|██████████| 47/47 [00:07<00:00,  5.95it/s]\n",
      "100%|██████████| 47/47 [00:07<00:00,  5.92it/s]\n",
      "100%|██████████| 47/47 [00:07<00:00,  5.88it/s]\n",
      "100%|██████████| 47/47 [00:07<00:00,  6.06it/s]\n",
      "100%|██████████| 47/47 [00:07<00:00,  5.98it/s]\n",
      "100%|██████████| 47/47 [00:07<00:00,  6.12it/s]\n",
      "100%|██████████| 47/47 [00:07<00:00,  6.10it/s]\n",
      "100%|██████████| 47/47 [00:07<00:00,  6.11it/s]\n",
      "100%|██████████| 47/47 [00:07<00:00,  6.04it/s]\n",
      "100%|██████████| 47/47 [00:07<00:00,  6.07it/s]\n",
      "100%|██████████| 47/47 [00:07<00:00,  6.13it/s]\n",
      "100%|██████████| 47/47 [00:07<00:00,  6.09it/s]\n",
      "100%|██████████| 47/47 [00:07<00:00,  5.97it/s]\n",
      "100%|██████████| 47/47 [00:07<00:00,  6.08it/s]\n",
      "100%|██████████| 47/47 [00:07<00:00,  6.10it/s]\n",
      "100%|██████████| 47/47 [00:07<00:00,  6.22it/s]\n",
      "100%|██████████| 47/47 [00:07<00:00,  6.17it/s]\n",
      "100%|██████████| 47/47 [00:07<00:00,  6.17it/s]\n",
      "100%|██████████| 47/47 [00:07<00:00,  6.15it/s]\n",
      "100%|██████████| 47/47 [00:07<00:00,  6.16it/s]\n",
      "100%|██████████| 47/47 [00:07<00:00,  6.13it/s]\n",
      "100%|██████████| 47/47 [00:07<00:00,  6.14it/s]\n",
      "100%|██████████| 47/47 [00:07<00:00,  6.13it/s]\n",
      "100%|██████████| 47/47 [00:07<00:00,  6.18it/s]\n",
      "100%|██████████| 47/47 [00:07<00:00,  6.12it/s]\n",
      "100%|██████████| 47/47 [00:07<00:00,  6.19it/s]\n",
      "100%|██████████| 47/47 [00:07<00:00,  6.20it/s]\n",
      "100%|██████████| 47/47 [00:07<00:00,  6.17it/s]\n",
      "100%|██████████| 47/47 [00:07<00:00,  6.10it/s]\n",
      "100%|██████████| 47/47 [00:07<00:00,  6.14it/s]\n"
     ]
    },
    {
     "name": "stdout",
     "output_type": "stream",
     "text": [
      "Processing 39/50\r"
     ]
    },
    {
     "name": "stderr",
     "output_type": "stream",
     "text": [
      "100%|██████████| 47/47 [00:07<00:00,  6.08it/s]\n",
      "100%|██████████| 47/47 [00:07<00:00,  6.01it/s]\n",
      "100%|██████████| 47/47 [00:07<00:00,  5.99it/s]\n",
      "100%|██████████| 47/47 [00:07<00:00,  6.03it/s]\n",
      "100%|██████████| 47/47 [00:07<00:00,  6.06it/s]\n",
      "100%|██████████| 47/47 [00:07<00:00,  6.08it/s]\n",
      "100%|██████████| 47/47 [00:07<00:00,  6.04it/s]\n",
      "100%|██████████| 47/47 [00:07<00:00,  6.10it/s]\n",
      "100%|██████████| 47/47 [00:07<00:00,  6.00it/s]\n",
      "100%|██████████| 47/47 [00:07<00:00,  5.93it/s]\n",
      "100%|██████████| 47/47 [00:07<00:00,  6.03it/s]\n",
      "100%|██████████| 47/47 [00:07<00:00,  6.06it/s]\n",
      "100%|██████████| 47/47 [00:07<00:00,  6.09it/s]\n",
      "100%|██████████| 47/47 [00:07<00:00,  6.15it/s]\n",
      "100%|██████████| 47/47 [00:07<00:00,  6.11it/s]\n",
      "100%|██████████| 47/47 [00:07<00:00,  6.20it/s]\n",
      "100%|██████████| 47/47 [00:07<00:00,  6.09it/s]\n",
      "100%|██████████| 47/47 [00:07<00:00,  6.16it/s]\n",
      "100%|██████████| 47/47 [00:07<00:00,  6.17it/s]\n",
      "100%|██████████| 47/47 [00:07<00:00,  6.15it/s]\n",
      "100%|██████████| 47/47 [00:07<00:00,  6.11it/s]\n",
      "100%|██████████| 47/47 [00:07<00:00,  6.13it/s]\n",
      "100%|██████████| 47/47 [00:07<00:00,  6.17it/s]\n",
      "100%|██████████| 47/47 [00:07<00:00,  6.19it/s]\n",
      "100%|██████████| 47/47 [00:07<00:00,  6.21it/s]\n",
      "100%|██████████| 47/47 [00:07<00:00,  6.23it/s]\n",
      "100%|██████████| 47/47 [00:07<00:00,  6.19it/s]\n",
      "100%|██████████| 47/47 [00:07<00:00,  6.21it/s]\n",
      "100%|██████████| 47/47 [00:07<00:00,  6.19it/s]\n",
      "100%|██████████| 47/47 [00:07<00:00,  6.22it/s]\n"
     ]
    },
    {
     "name": "stdout",
     "output_type": "stream",
     "text": [
      "Processing 40/50\r"
     ]
    },
    {
     "name": "stderr",
     "output_type": "stream",
     "text": [
      "100%|██████████| 47/47 [00:07<00:00,  6.07it/s]\n",
      "100%|██████████| 47/47 [00:07<00:00,  6.05it/s]\n",
      "100%|██████████| 47/47 [00:07<00:00,  6.12it/s]\n",
      "100%|██████████| 47/47 [00:07<00:00,  6.08it/s]\n",
      "100%|██████████| 47/47 [00:07<00:00,  6.08it/s]\n",
      "100%|██████████| 47/47 [00:07<00:00,  6.16it/s]\n",
      "100%|██████████| 47/47 [00:07<00:00,  6.04it/s]\n",
      "100%|██████████| 47/47 [00:07<00:00,  6.08it/s]\n",
      "100%|██████████| 47/47 [00:07<00:00,  6.03it/s]\n",
      "100%|██████████| 47/47 [00:07<00:00,  6.02it/s]\n",
      "100%|██████████| 47/47 [00:07<00:00,  6.14it/s]\n",
      "100%|██████████| 47/47 [00:07<00:00,  6.12it/s]\n",
      "100%|██████████| 47/47 [00:07<00:00,  6.15it/s]\n",
      "100%|██████████| 47/47 [00:07<00:00,  6.13it/s]\n",
      "100%|██████████| 47/47 [00:07<00:00,  6.11it/s]\n",
      "100%|██████████| 47/47 [00:07<00:00,  6.22it/s]\n",
      "100%|██████████| 47/47 [00:07<00:00,  6.19it/s]\n",
      "100%|██████████| 47/47 [00:07<00:00,  6.15it/s]\n",
      "100%|██████████| 47/47 [00:07<00:00,  6.11it/s]\n",
      "100%|██████████| 47/47 [00:07<00:00,  6.18it/s]\n",
      "100%|██████████| 47/47 [00:07<00:00,  6.17it/s]\n",
      "100%|██████████| 47/47 [00:07<00:00,  6.14it/s]\n",
      "100%|██████████| 47/47 [00:07<00:00,  6.16it/s]\n",
      "100%|██████████| 47/47 [00:07<00:00,  6.15it/s]\n",
      "100%|██████████| 47/47 [00:07<00:00,  6.21it/s]\n",
      "100%|██████████| 47/47 [00:07<00:00,  6.26it/s]\n",
      "100%|██████████| 47/47 [00:07<00:00,  6.23it/s]\n",
      "100%|██████████| 47/47 [00:07<00:00,  6.21it/s]\n",
      "100%|██████████| 47/47 [00:07<00:00,  6.17it/s]\n",
      "100%|██████████| 47/47 [00:07<00:00,  6.17it/s]\n"
     ]
    },
    {
     "name": "stdout",
     "output_type": "stream",
     "text": [
      "Processing 41/50\r"
     ]
    },
    {
     "name": "stderr",
     "output_type": "stream",
     "text": [
      "100%|██████████| 47/47 [00:07<00:00,  6.20it/s]\n",
      "100%|██████████| 47/47 [00:07<00:00,  6.26it/s]\n",
      "100%|██████████| 47/47 [00:07<00:00,  6.29it/s]\n",
      "100%|██████████| 47/47 [00:07<00:00,  6.25it/s]\n",
      "100%|██████████| 47/47 [00:07<00:00,  6.25it/s]\n",
      "100%|██████████| 47/47 [00:07<00:00,  6.20it/s]\n",
      "100%|██████████| 47/47 [00:07<00:00,  6.21it/s]\n",
      "100%|██████████| 47/47 [00:07<00:00,  6.23it/s]\n",
      "100%|██████████| 47/47 [00:07<00:00,  6.19it/s]\n",
      "100%|██████████| 47/47 [00:07<00:00,  6.18it/s]\n",
      "100%|██████████| 47/47 [00:07<00:00,  6.35it/s]\n",
      "100%|██████████| 47/47 [00:07<00:00,  6.32it/s]\n",
      "100%|██████████| 47/47 [00:07<00:00,  6.32it/s]\n",
      "100%|██████████| 47/47 [00:07<00:00,  6.30it/s]\n",
      "100%|██████████| 47/47 [00:07<00:00,  6.27it/s]\n",
      "100%|██████████| 47/47 [00:07<00:00,  6.33it/s]\n",
      "100%|██████████| 47/47 [00:07<00:00,  6.28it/s]\n",
      "100%|██████████| 47/47 [00:07<00:00,  6.30it/s]\n",
      "100%|██████████| 47/47 [00:07<00:00,  6.28it/s]\n",
      "100%|██████████| 47/47 [00:07<00:00,  6.25it/s]\n",
      "100%|██████████| 47/47 [00:07<00:00,  6.30it/s]\n",
      "100%|██████████| 47/47 [00:07<00:00,  6.28it/s]\n",
      "100%|██████████| 47/47 [00:07<00:00,  6.28it/s]\n",
      "100%|██████████| 47/47 [00:07<00:00,  6.30it/s]\n",
      "100%|██████████| 47/47 [00:07<00:00,  6.33it/s]\n",
      "100%|██████████| 47/47 [00:07<00:00,  6.33it/s]\n",
      "100%|██████████| 47/47 [00:07<00:00,  6.25it/s]\n",
      "100%|██████████| 47/47 [00:07<00:00,  6.35it/s]\n",
      "100%|██████████| 47/47 [00:07<00:00,  6.28it/s]\n",
      "100%|██████████| 47/47 [00:07<00:00,  6.36it/s]\n"
     ]
    },
    {
     "name": "stdout",
     "output_type": "stream",
     "text": [
      "Processing 42/50\r"
     ]
    },
    {
     "name": "stderr",
     "output_type": "stream",
     "text": [
      "100%|██████████| 47/47 [00:07<00:00,  6.06it/s]\n",
      "100%|██████████| 47/47 [00:07<00:00,  6.12it/s]\n",
      "100%|██████████| 47/47 [00:07<00:00,  6.09it/s]\n",
      "100%|██████████| 47/47 [00:07<00:00,  6.12it/s]\n",
      "100%|██████████| 47/47 [00:07<00:00,  6.16it/s]\n",
      "100%|██████████| 47/47 [00:07<00:00,  6.16it/s]\n",
      "100%|██████████| 47/47 [00:07<00:00,  6.11it/s]\n",
      "100%|██████████| 47/47 [00:07<00:00,  6.12it/s]\n",
      "100%|██████████| 47/47 [00:07<00:00,  6.11it/s]\n",
      "100%|██████████| 47/47 [00:07<00:00,  6.16it/s]\n",
      "100%|██████████| 47/47 [00:07<00:00,  6.22it/s]\n",
      "100%|██████████| 47/47 [00:07<00:00,  6.12it/s]\n",
      "100%|██████████| 47/47 [00:07<00:00,  6.14it/s]\n",
      "100%|██████████| 47/47 [00:07<00:00,  6.21it/s]\n",
      "100%|██████████| 47/47 [00:07<00:00,  6.23it/s]\n",
      "100%|██████████| 47/47 [00:07<00:00,  6.21it/s]\n",
      "100%|██████████| 47/47 [00:07<00:00,  6.17it/s]\n",
      "100%|██████████| 47/47 [00:07<00:00,  6.25it/s]\n",
      "100%|██████████| 47/47 [00:07<00:00,  6.23it/s]\n",
      "100%|██████████| 47/47 [00:07<00:00,  6.20it/s]\n",
      "100%|██████████| 47/47 [00:07<00:00,  6.16it/s]\n",
      "100%|██████████| 47/47 [00:07<00:00,  6.11it/s]\n",
      "100%|██████████| 47/47 [00:07<00:00,  6.21it/s]\n",
      "100%|██████████| 47/47 [00:07<00:00,  6.19it/s]\n",
      "100%|██████████| 47/47 [00:07<00:00,  6.18it/s]\n",
      "100%|██████████| 47/47 [00:07<00:00,  6.23it/s]\n",
      "100%|██████████| 47/47 [00:07<00:00,  6.21it/s]\n",
      "100%|██████████| 47/47 [00:07<00:00,  6.30it/s]\n",
      "100%|██████████| 47/47 [00:07<00:00,  6.27it/s]\n",
      "100%|██████████| 47/47 [00:07<00:00,  6.26it/s]\n"
     ]
    },
    {
     "name": "stdout",
     "output_type": "stream",
     "text": [
      "Processing 43/50\r"
     ]
    },
    {
     "name": "stderr",
     "output_type": "stream",
     "text": [
      "100%|██████████| 47/47 [00:07<00:00,  6.08it/s]\n",
      "100%|██████████| 47/47 [00:07<00:00,  5.97it/s]\n",
      "100%|██████████| 47/47 [00:07<00:00,  5.93it/s]\n",
      "100%|██████████| 47/47 [00:07<00:00,  5.94it/s]\n",
      "100%|██████████| 47/47 [00:07<00:00,  5.93it/s]\n",
      "100%|██████████| 47/47 [00:07<00:00,  6.05it/s]\n",
      "100%|██████████| 47/47 [00:07<00:00,  6.03it/s]\n",
      "100%|██████████| 47/47 [00:08<00:00,  5.87it/s]\n",
      "100%|██████████| 47/47 [00:07<00:00,  6.07it/s]\n",
      "100%|██████████| 47/47 [00:07<00:00,  5.98it/s]\n",
      "100%|██████████| 47/47 [00:07<00:00,  6.10it/s]\n",
      "100%|██████████| 47/47 [00:07<00:00,  6.05it/s]\n",
      "100%|██████████| 47/47 [00:07<00:00,  5.96it/s]\n",
      "100%|██████████| 47/47 [00:07<00:00,  5.93it/s]\n",
      "100%|██████████| 47/47 [00:07<00:00,  5.96it/s]\n",
      "100%|██████████| 47/47 [00:07<00:00,  6.12it/s]\n",
      "100%|██████████| 47/47 [00:07<00:00,  6.09it/s]\n",
      "100%|██████████| 47/47 [00:07<00:00,  5.99it/s]\n",
      "100%|██████████| 47/47 [00:07<00:00,  6.04it/s]\n",
      "100%|██████████| 47/47 [00:07<00:00,  6.10it/s]\n",
      "100%|██████████| 47/47 [00:07<00:00,  6.11it/s]\n",
      "100%|██████████| 47/47 [00:07<00:00,  6.08it/s]\n",
      "100%|██████████| 47/47 [00:07<00:00,  6.04it/s]\n",
      "100%|██████████| 47/47 [00:07<00:00,  6.00it/s]\n",
      "100%|██████████| 47/47 [00:07<00:00,  6.03it/s]\n",
      "100%|██████████| 47/47 [00:07<00:00,  6.16it/s]\n",
      "100%|██████████| 47/47 [00:07<00:00,  6.15it/s]\n",
      "100%|██████████| 47/47 [00:07<00:00,  6.12it/s]\n",
      "100%|██████████| 47/47 [00:07<00:00,  6.11it/s]\n",
      "100%|██████████| 47/47 [00:07<00:00,  6.13it/s]\n"
     ]
    },
    {
     "name": "stdout",
     "output_type": "stream",
     "text": [
      "Processing 44/50\r"
     ]
    },
    {
     "name": "stderr",
     "output_type": "stream",
     "text": [
      "100%|██████████| 47/47 [00:07<00:00,  5.93it/s]\n",
      "100%|██████████| 47/47 [00:07<00:00,  5.90it/s]\n",
      "100%|██████████| 47/47 [00:07<00:00,  5.92it/s]\n",
      "100%|██████████| 47/47 [00:07<00:00,  5.90it/s]\n",
      "100%|██████████| 47/47 [00:07<00:00,  6.10it/s]\n",
      "100%|██████████| 47/47 [00:07<00:00,  6.02it/s]\n",
      "100%|██████████| 47/47 [00:07<00:00,  6.00it/s]\n",
      "100%|██████████| 47/47 [00:07<00:00,  6.08it/s]\n",
      "100%|██████████| 47/47 [00:07<00:00,  6.07it/s]\n",
      "100%|██████████| 47/47 [00:07<00:00,  6.12it/s]\n",
      "100%|██████████| 47/47 [00:07<00:00,  6.06it/s]\n",
      "100%|██████████| 47/47 [00:07<00:00,  5.96it/s]\n",
      "100%|██████████| 47/47 [00:07<00:00,  5.98it/s]\n",
      "100%|██████████| 47/47 [00:07<00:00,  5.91it/s]\n",
      "100%|██████████| 47/47 [00:07<00:00,  6.16it/s]\n",
      "100%|██████████| 47/47 [00:07<00:00,  6.06it/s]\n",
      "100%|██████████| 47/47 [00:07<00:00,  6.07it/s]\n",
      "100%|██████████| 47/47 [00:07<00:00,  6.18it/s]\n",
      "100%|██████████| 47/47 [00:07<00:00,  6.16it/s]\n",
      "100%|██████████| 47/47 [00:07<00:00,  6.13it/s]\n",
      "100%|██████████| 47/47 [00:07<00:00,  6.15it/s]\n",
      "100%|██████████| 47/47 [00:07<00:00,  6.11it/s]\n",
      "100%|██████████| 47/47 [00:07<00:00,  6.09it/s]\n",
      "100%|██████████| 47/47 [00:07<00:00,  6.10it/s]\n",
      "100%|██████████| 47/47 [00:07<00:00,  6.18it/s]\n",
      "100%|██████████| 47/47 [00:07<00:00,  6.13it/s]\n",
      "100%|██████████| 47/47 [00:07<00:00,  6.12it/s]\n",
      "100%|██████████| 47/47 [00:07<00:00,  6.19it/s]\n",
      "100%|██████████| 47/47 [00:07<00:00,  6.16it/s]\n",
      "100%|██████████| 47/47 [00:07<00:00,  6.19it/s]\n"
     ]
    },
    {
     "name": "stdout",
     "output_type": "stream",
     "text": [
      "Processing 45/50\r"
     ]
    },
    {
     "name": "stderr",
     "output_type": "stream",
     "text": [
      "100%|██████████| 47/47 [00:07<00:00,  6.16it/s]\n",
      "100%|██████████| 47/47 [00:07<00:00,  6.12it/s]\n",
      "100%|██████████| 47/47 [00:07<00:00,  6.24it/s]\n",
      "100%|██████████| 47/47 [00:07<00:00,  6.24it/s]\n",
      "100%|██████████| 47/47 [00:07<00:00,  6.07it/s]\n",
      "100%|██████████| 47/47 [00:07<00:00,  6.20it/s]\n",
      "100%|██████████| 47/47 [00:07<00:00,  6.15it/s]\n",
      "100%|██████████| 47/47 [00:07<00:00,  6.26it/s]\n",
      "100%|██████████| 47/47 [00:07<00:00,  6.15it/s]\n",
      "100%|██████████| 47/47 [00:07<00:00,  6.17it/s]\n",
      "100%|██████████| 47/47 [00:07<00:00,  6.21it/s]\n",
      "100%|██████████| 47/47 [00:07<00:00,  6.23it/s]\n",
      "100%|██████████| 47/47 [00:07<00:00,  6.26it/s]\n",
      "100%|██████████| 47/47 [00:07<00:00,  6.11it/s]\n",
      "100%|██████████| 47/47 [00:07<00:00,  6.18it/s]\n",
      "100%|██████████| 47/47 [00:07<00:00,  6.24it/s]\n",
      "100%|██████████| 47/47 [00:07<00:00,  6.22it/s]\n",
      "100%|██████████| 47/47 [00:07<00:00,  6.17it/s]\n",
      "100%|██████████| 47/47 [00:07<00:00,  6.22it/s]\n",
      "100%|██████████| 47/47 [00:07<00:00,  6.23it/s]\n",
      "100%|██████████| 47/47 [00:07<00:00,  6.25it/s]\n",
      "100%|██████████| 47/47 [00:07<00:00,  6.17it/s]\n",
      "100%|██████████| 47/47 [00:07<00:00,  6.27it/s]\n",
      "100%|██████████| 47/47 [00:07<00:00,  6.29it/s]\n",
      "100%|██████████| 47/47 [00:07<00:00,  6.19it/s]\n",
      "100%|██████████| 47/47 [00:07<00:00,  6.19it/s]\n",
      "100%|██████████| 47/47 [00:07<00:00,  6.24it/s]\n",
      "100%|██████████| 47/47 [00:07<00:00,  6.25it/s]\n",
      "100%|██████████| 47/47 [00:07<00:00,  6.25it/s]\n",
      "100%|██████████| 47/47 [00:07<00:00,  6.10it/s]\n"
     ]
    },
    {
     "name": "stdout",
     "output_type": "stream",
     "text": [
      "Processing 46/50\r"
     ]
    },
    {
     "name": "stderr",
     "output_type": "stream",
     "text": [
      "100%|██████████| 47/47 [00:07<00:00,  6.11it/s]\n",
      "100%|██████████| 47/47 [00:07<00:00,  6.12it/s]\n",
      "100%|██████████| 47/47 [00:07<00:00,  6.01it/s]\n",
      "100%|██████████| 47/47 [00:07<00:00,  6.01it/s]\n",
      "100%|██████████| 47/47 [00:07<00:00,  5.99it/s]\n",
      "100%|██████████| 47/47 [00:07<00:00,  5.98it/s]\n",
      "100%|██████████| 47/47 [00:07<00:00,  6.01it/s]\n",
      "100%|██████████| 47/47 [00:07<00:00,  6.07it/s]\n",
      "100%|██████████| 47/47 [00:07<00:00,  5.88it/s]\n",
      "100%|██████████| 47/47 [00:07<00:00,  5.94it/s]\n",
      "100%|██████████| 47/47 [00:07<00:00,  6.16it/s]\n",
      "100%|██████████| 47/47 [00:07<00:00,  6.15it/s]\n",
      "100%|██████████| 47/47 [00:07<00:00,  6.16it/s]\n",
      "100%|██████████| 47/47 [00:07<00:00,  6.08it/s]\n",
      "100%|██████████| 47/47 [00:07<00:00,  5.98it/s]\n",
      "100%|██████████| 47/47 [00:07<00:00,  6.19it/s]\n",
      "100%|██████████| 47/47 [00:07<00:00,  6.23it/s]\n",
      "100%|██████████| 47/47 [00:07<00:00,  6.23it/s]\n",
      "100%|██████████| 47/47 [00:07<00:00,  6.02it/s]\n",
      "100%|██████████| 47/47 [00:07<00:00,  6.18it/s]\n",
      "100%|██████████| 47/47 [00:07<00:00,  6.26it/s]\n",
      "100%|██████████| 47/47 [00:07<00:00,  6.19it/s]\n",
      "100%|██████████| 47/47 [00:07<00:00,  6.19it/s]\n",
      "100%|██████████| 47/47 [00:07<00:00,  6.12it/s]\n",
      "100%|██████████| 47/47 [00:07<00:00,  6.17it/s]\n",
      "100%|██████████| 47/47 [00:07<00:00,  6.17it/s]\n",
      "100%|██████████| 47/47 [00:07<00:00,  6.29it/s]\n",
      "100%|██████████| 47/47 [00:07<00:00,  6.25it/s]\n",
      "100%|██████████| 47/47 [00:07<00:00,  6.11it/s]\n",
      "100%|██████████| 47/47 [00:07<00:00,  6.16it/s]\n"
     ]
    },
    {
     "name": "stdout",
     "output_type": "stream",
     "text": [
      "Processing 47/50\r"
     ]
    },
    {
     "name": "stderr",
     "output_type": "stream",
     "text": [
      "100%|██████████| 47/47 [00:07<00:00,  6.03it/s]\n",
      "100%|██████████| 47/47 [00:07<00:00,  6.03it/s]\n",
      "100%|██████████| 47/47 [00:07<00:00,  6.04it/s]\n",
      "100%|██████████| 47/47 [00:07<00:00,  6.06it/s]\n",
      "100%|██████████| 47/47 [00:07<00:00,  6.03it/s]\n",
      "100%|██████████| 47/47 [00:07<00:00,  6.08it/s]\n",
      "100%|██████████| 47/47 [00:07<00:00,  6.17it/s]\n",
      "100%|██████████| 47/47 [00:07<00:00,  6.12it/s]\n",
      "100%|██████████| 47/47 [00:07<00:00,  6.09it/s]\n",
      "100%|██████████| 47/47 [00:07<00:00,  6.16it/s]\n",
      "100%|██████████| 47/47 [00:07<00:00,  6.01it/s]\n",
      "100%|██████████| 47/47 [00:07<00:00,  6.10it/s]\n",
      "100%|██████████| 47/47 [00:07<00:00,  6.07it/s]\n",
      "100%|██████████| 47/47 [00:07<00:00,  6.11it/s]\n",
      "100%|██████████| 47/47 [00:07<00:00,  6.04it/s]\n",
      "100%|██████████| 47/47 [00:07<00:00,  6.14it/s]\n",
      "100%|██████████| 47/47 [00:07<00:00,  6.20it/s]\n",
      "100%|██████████| 47/47 [00:07<00:00,  6.17it/s]\n",
      "100%|██████████| 47/47 [00:07<00:00,  6.20it/s]\n",
      "100%|██████████| 47/47 [00:07<00:00,  6.14it/s]\n",
      "100%|██████████| 47/47 [00:07<00:00,  6.02it/s]\n",
      "100%|██████████| 47/47 [00:07<00:00,  6.13it/s]\n",
      "100%|██████████| 47/47 [00:07<00:00,  6.02it/s]\n",
      "100%|██████████| 47/47 [00:07<00:00,  6.04it/s]\n",
      "100%|██████████| 47/47 [00:07<00:00,  5.97it/s]\n",
      "100%|██████████| 47/47 [00:07<00:00,  6.15it/s]\n",
      "100%|██████████| 47/47 [00:07<00:00,  6.23it/s]\n",
      "100%|██████████| 47/47 [00:07<00:00,  6.25it/s]\n",
      "100%|██████████| 47/47 [00:07<00:00,  6.21it/s]\n",
      "100%|██████████| 47/47 [00:07<00:00,  6.19it/s]\n"
     ]
    },
    {
     "name": "stdout",
     "output_type": "stream",
     "text": [
      "Processing 48/50\r"
     ]
    },
    {
     "name": "stderr",
     "output_type": "stream",
     "text": [
      "100%|██████████| 47/47 [00:07<00:00,  6.09it/s]\n",
      "100%|██████████| 47/47 [00:07<00:00,  6.05it/s]\n",
      "100%|██████████| 47/47 [00:07<00:00,  6.02it/s]\n",
      "100%|██████████| 47/47 [00:07<00:00,  6.03it/s]\n",
      "100%|██████████| 47/47 [00:07<00:00,  6.01it/s]\n",
      "100%|██████████| 47/47 [00:07<00:00,  6.15it/s]\n",
      "100%|██████████| 47/47 [00:07<00:00,  6.13it/s]\n",
      "100%|██████████| 47/47 [00:07<00:00,  6.10it/s]\n",
      "100%|██████████| 47/47 [00:07<00:00,  6.10it/s]\n",
      "100%|██████████| 47/47 [00:07<00:00,  6.12it/s]\n",
      "100%|██████████| 47/47 [00:07<00:00,  6.21it/s]\n",
      "100%|██████████| 47/47 [00:07<00:00,  6.11it/s]\n",
      "100%|██████████| 47/47 [00:07<00:00,  6.01it/s]\n",
      "100%|██████████| 47/47 [00:07<00:00,  6.03it/s]\n",
      "100%|██████████| 47/47 [00:07<00:00,  6.11it/s]\n",
      "100%|██████████| 47/47 [00:07<00:00,  6.14it/s]\n",
      "100%|██████████| 47/47 [00:07<00:00,  6.13it/s]\n",
      "100%|██████████| 47/47 [00:07<00:00,  6.15it/s]\n",
      "100%|██████████| 47/47 [00:07<00:00,  6.10it/s]\n",
      "100%|██████████| 47/47 [00:07<00:00,  6.13it/s]\n",
      "100%|██████████| 47/47 [00:07<00:00,  6.26it/s]\n",
      "100%|██████████| 47/47 [00:07<00:00,  6.22it/s]\n",
      "100%|██████████| 47/47 [00:07<00:00,  6.17it/s]\n",
      "100%|██████████| 47/47 [00:07<00:00,  6.13it/s]\n",
      "100%|██████████| 47/47 [00:07<00:00,  6.16it/s]\n",
      "100%|██████████| 47/47 [00:07<00:00,  6.19it/s]\n",
      "100%|██████████| 47/47 [00:07<00:00,  6.19it/s]\n",
      "100%|██████████| 47/47 [00:07<00:00,  6.17it/s]\n",
      "100%|██████████| 47/47 [00:07<00:00,  6.11it/s]\n",
      "100%|██████████| 47/47 [00:07<00:00,  6.24it/s]\n"
     ]
    },
    {
     "name": "stdout",
     "output_type": "stream",
     "text": [
      "Processing 49/50\r"
     ]
    },
    {
     "name": "stderr",
     "output_type": "stream",
     "text": [
      "100%|██████████| 47/47 [00:07<00:00,  6.28it/s]\n",
      "100%|██████████| 47/47 [00:07<00:00,  6.32it/s]\n",
      "100%|██████████| 47/47 [00:07<00:00,  6.20it/s]\n",
      "100%|██████████| 47/47 [00:07<00:00,  6.25it/s]\n",
      "100%|██████████| 47/47 [00:07<00:00,  6.23it/s]\n",
      "100%|██████████| 47/47 [00:07<00:00,  6.21it/s]\n",
      "100%|██████████| 47/47 [00:07<00:00,  6.19it/s]\n",
      "100%|██████████| 47/47 [00:07<00:00,  6.11it/s]\n",
      "100%|██████████| 47/47 [00:07<00:00,  6.14it/s]\n",
      "100%|██████████| 47/47 [00:07<00:00,  6.23it/s]\n",
      "100%|██████████| 47/47 [00:07<00:00,  6.37it/s]\n",
      "100%|██████████| 47/47 [00:07<00:00,  6.35it/s]\n",
      "100%|██████████| 47/47 [00:07<00:00,  6.29it/s]\n",
      "100%|██████████| 47/47 [00:07<00:00,  6.27it/s]\n",
      "100%|██████████| 47/47 [00:07<00:00,  6.29it/s]\n",
      "100%|██████████| 47/47 [00:07<00:00,  6.18it/s]\n",
      "100%|██████████| 47/47 [00:07<00:00,  6.27it/s]\n",
      "100%|██████████| 47/47 [00:07<00:00,  6.22it/s]\n",
      "100%|██████████| 47/47 [00:07<00:00,  6.18it/s]\n",
      "100%|██████████| 47/47 [00:07<00:00,  6.21it/s]\n",
      "100%|██████████| 47/47 [00:07<00:00,  6.29it/s]\n",
      "100%|██████████| 47/47 [00:07<00:00,  6.29it/s]\n",
      "100%|██████████| 47/47 [00:07<00:00,  6.26it/s]\n",
      "100%|██████████| 47/47 [00:07<00:00,  6.23it/s]\n",
      "100%|██████████| 47/47 [00:07<00:00,  6.23it/s]\n",
      "100%|██████████| 47/47 [00:07<00:00,  6.27it/s]\n",
      "100%|██████████| 47/47 [00:07<00:00,  6.32it/s]\n",
      "100%|██████████| 47/47 [00:07<00:00,  6.21it/s]\n",
      "100%|██████████| 47/47 [00:07<00:00,  6.19it/s]\n",
      "100%|██████████| 47/47 [00:07<00:00,  6.21it/s]\n"
     ]
    },
    {
     "name": "stdout",
     "output_type": "stream",
     "text": [
      "Processing 50/50\r"
     ]
    },
    {
     "name": "stderr",
     "output_type": "stream",
     "text": [
      "100%|██████████| 47/47 [00:07<00:00,  6.10it/s]\n",
      "100%|██████████| 47/47 [00:07<00:00,  6.13it/s]\n",
      "100%|██████████| 47/47 [00:07<00:00,  6.13it/s]\n",
      "100%|██████████| 47/47 [00:07<00:00,  6.18it/s]\n",
      "100%|██████████| 47/47 [00:07<00:00,  6.04it/s]\n",
      "100%|██████████| 47/47 [00:07<00:00,  6.07it/s]\n",
      "100%|██████████| 47/47 [00:07<00:00,  6.11it/s]\n",
      "100%|██████████| 47/47 [00:07<00:00,  6.14it/s]\n",
      "100%|██████████| 47/47 [00:07<00:00,  6.12it/s]\n",
      "100%|██████████| 47/47 [00:07<00:00,  6.07it/s]\n",
      "100%|██████████| 47/47 [00:07<00:00,  6.21it/s]\n",
      "100%|██████████| 47/47 [00:07<00:00,  6.24it/s]\n",
      "100%|██████████| 47/47 [00:07<00:00,  6.24it/s]\n",
      "100%|██████████| 47/47 [00:07<00:00,  6.26it/s]\n",
      "100%|██████████| 47/47 [00:07<00:00,  6.22it/s]\n",
      "100%|██████████| 47/47 [00:07<00:00,  6.22it/s]\n",
      "100%|██████████| 47/47 [00:07<00:00,  6.22it/s]\n",
      "100%|██████████| 47/47 [00:07<00:00,  6.26it/s]\n",
      "100%|██████████| 47/47 [00:07<00:00,  6.24it/s]\n",
      "100%|██████████| 47/47 [00:07<00:00,  6.22it/s]\n",
      "100%|██████████| 47/47 [00:07<00:00,  6.22it/s]\n",
      "100%|██████████| 47/47 [00:07<00:00,  6.19it/s]\n",
      "100%|██████████| 47/47 [00:07<00:00,  6.25it/s]\n",
      "100%|██████████| 47/47 [00:07<00:00,  6.32it/s]\n",
      "100%|██████████| 47/47 [00:07<00:00,  6.24it/s]\n",
      "100%|██████████| 47/47 [00:07<00:00,  6.27it/s]\n",
      "100%|██████████| 47/47 [00:07<00:00,  6.27it/s]\n",
      "100%|██████████| 47/47 [00:07<00:00,  6.27it/s]\n",
      "100%|██████████| 47/47 [00:07<00:00,  6.25it/s]\n",
      "100%|██████████| 47/47 [00:07<00:00,  6.07it/s]"
     ]
    },
    {
     "name": "stdout",
     "output_type": "stream",
     "text": [
      "CPU times: user 21h 12min 19s, sys: 16h 57min 36s, total: 1d 14h 9min 56s\n",
      "Wall time: 3h 14min 50s\n"
     ]
    },
    {
     "name": "stderr",
     "output_type": "stream",
     "text": [
      "\n"
     ]
    }
   ],
   "source": [
    "%%time\n",
    "import random\n",
    "\n",
    "emb_fnames, missing = get_fnames('*lle*.pkl', glm='lsa_decision_128hpf', ftype='embeddings')\n",
    "for i, emb_fname in enumerate(emb_fnames):\n",
    "    print(f'Processing {i+1}/{len(emb_fnames)}', end='\\r')\n",
    "    run_state_cluster_analysis(emb_fname, rois=['L_HPC_thr25'], n_clusters=15, verbose=False)"
   ]
  },
  {
   "attachments": {},
   "cell_type": "markdown",
   "metadata": {},
   "source": [
    "# Organize results"
   ]
  },
  {
   "cell_type": "code",
   "execution_count": 2,
   "metadata": {},
   "outputs": [],
   "source": [
    "fname = 'cluster_results.xlsx'\n",
    "overwrite = False\n",
    "if (os.path.exists(fname)) & (not overwrite):\n",
    "    results_df = pd.read_excel(fname)\n",
    "else:\n",
    "\n",
    "    cluster_fnames, missing = get_fnames('*lle*15ul*', ftype='state_clusters')\n",
    "    plot_preds = False\n",
    "\n",
    "    dims = ['5d', '6d', '7d']\n",
    "    nns  = ['10nn', '20nn']\n",
    "    rois = ['L_HPC_thr25']\n",
    "\n",
    "    results_df = pd.DataFrame(columns=['sub_id', 'roi', 'dim', 'nn', 'n_train_states', 'n_test_states'] + \n",
    "                                    [f'n_states_{role}' for role in character_roles[:5]] +\n",
    "                                    ['cluster_dist_diff', 'perm_dist_diff'] +\n",
    "                                    [f'eucl_dist_char_{role}' for role in character_roles[:5]] +\n",
    "                                    [f'null_dist_char_{role}' for role in character_roles[:5]] +\n",
    "                                    ['eucl_dist', 'null_eucl_dist', 'cos_dist', 'null_cos_dist', 'eucl_dist_diff', 'cos_dist_diff'])\n",
    "    errors = []\n",
    "    for i, cluster_fname in enumerate(cluster_fnames):\n",
    "\n",
    "        print(f'Processing {i+1}/{len(cluster_fnames)}', end='\\r')\n",
    "        sub_id = cluster_fname.split('/')[-1].split('_')[0]\n",
    "        cluster_dict = pd.read_pickle(cluster_fname)\n",
    "        behav = load_behavior(sub_id)[['char_decision_num', 'affil_coord', 'power_coord']]\n",
    "\n",
    "        for roi, dim, nn in itertools.product(rois, dims, nns):\n",
    "\n",
    "            if plot_preds: fig, axs = plt.subplots(1, 5, figsize=(10, 2))\n",
    "            eucl, cos, null_eucl, null_cos, beh_eucl, beh_cos, eucl_diff, cos_diff = [], [], [], [], [], [], [], []\n",
    "            n_train_states, n_test_states = [], []\n",
    "            cluster_dist_diffs, perm_dist_diffs = [], []\n",
    "\n",
    "            try:\n",
    "\n",
    "                for i, (train_ix, test_ix) in enumerate(character_cv()):\n",
    "                    \n",
    "                    # unpack data\n",
    "                    char_dict = cluster_dict[roi][dim][nn][f'char_0{i+1}']\n",
    "                    n_train_states.append(len(np.unique(char_dict['train_states'])))\n",
    "                    n_test_states.append(len(np.unique(char_dict['test_states'])))\n",
    "                    \n",
    "                    train_states, test_states = char_dict['train_states'], char_dict['test_states']\n",
    "                    train_behav, test_behav = behav.iloc[train_ix,:], behav.iloc[test_ix,:]\n",
    "                    train_xy = char_dict['train_states_xy']\n",
    "\n",
    "                    # get predictions\n",
    "                    xy      = char_dict['predictions'][['test_x', 'test_y']].values\n",
    "                    pred_xy = char_dict['predictions'][['pred_x', 'pred_y']].values\n",
    "                    perm_xy = char_dict['predictions'][['perm_x', 'perm_y']].values # circle shifted \n",
    "                    if np.any(np.isnan(perm_xy)): \n",
    "                        print(f'NaNs in {sub_id} {roi} {dim} {nn} {i+1}')\n",
    "\n",
    "                    # error distances\n",
    "                    pred_eucl_ = pairwise_distances(xy, pred_xy, metric='euclidean').diagonal()\n",
    "                    pred_cos_  = pairwise_distances(xy, pred_xy, metric='cosine').diagonal()\n",
    "                    null_eucl_ = pairwise_distances(xy, perm_xy, metric='euclidean').diagonal()\n",
    "                    null_cos_  = pairwise_distances(xy, perm_xy, metric='cosine').diagonal()\n",
    "\n",
    "                    # # error distances for a null behavioral model\n",
    "                    # beh_pred_xy = np.mean(train_behav[train_behav['char_decision_num'] == 12][['affil_coord', 'power_coord']] / 6, axis=0).values\n",
    "                    # beh_pred_xy = np.repeat(beh_pred_xy[np.newaxis,:], 12, axis=0)\n",
    "                    # beh_eucl_   = pairwise_distances(xy, beh_pred_xy, metric='euclidean').diagonal()\n",
    "                    # beh_cos_    = pairwise_distances(xy, beh_pred_xy, metric='cosine').diagonal()\n",
    "\n",
    "                    if plot_preds: plot_predictions(axs[i], xy, pred_xy, perm_xy, dots_xy=None, legend=False)\n",
    "\n",
    "                    eucl.append(pred_eucl_[-1])\n",
    "                    cos.append(pred_cos_[-1])\n",
    "                    null_eucl.append(null_eucl_[-1])\n",
    "                    null_cos.append(null_cos_[-1])\n",
    "                    eucl_diff.append(np.mean(null_eucl_ - pred_eucl_))\n",
    "                    cos_diff.append(np.mean(null_cos_ - pred_cos_))\n",
    "                    # beh_eucl.append(beh_eucl_[-1])\n",
    "                    # beh_cos.append(beh_cos_[-1])\n",
    "\n",
    "                    # are the classified neural states closer to the average xy from their cluster than the other clusters?\n",
    "                    for i, trial_xy in enumerate(xy):\n",
    "\n",
    "                        train_xy_   = train_xy.values.copy() # average xy values of the training states\n",
    "                        cluster_num = test_states[i] # cluster classification of test state\n",
    "                        cluster_xy  = train_xy_[cluster_num, :] \n",
    "\n",
    "                        # (affil, power) distance to cluster\n",
    "                        cluster_dist = np.linalg.norm(trial_xy - cluster_xy)\n",
    "\n",
    "                        # get the average (affil, power) distance to the other clusters\n",
    "                        other_clusters_xy = np.delete(train_xy_, cluster_num, axis=0)\n",
    "                        other_clusters_dist = np.mean(np.linalg.norm(trial_xy - other_clusters_xy, axis=1))\n",
    "\n",
    "                        # chance distance from permutations (circle shifted)\n",
    "                        perm_cluster_dist = np.linalg.norm(trial_xy - char_dict['perm_states_xy'].values)\n",
    "\n",
    "                        cluster_dist_diffs.append(other_clusters_dist - cluster_dist)\n",
    "                        perm_dist_diffs.append(other_clusters_dist - perm_cluster_dist)\n",
    "\n",
    "            except Exception as e:\n",
    "                print(f'{sub_id}: {e}')\n",
    "                errors.append(f'error with {sub_id} {roi}')\n",
    "                eucl = [np.nan, np.nan, np.nan, np.nan, np.nan]\n",
    "                null_eucl = [np.nan, np.nan, np.nan, np.nan, np.nan]\n",
    "                n_test_states = [np.nan, np.nan, np.nan, np.nan, np.nan]\n",
    "                n_train_states, cos, null_cos, beh_eucl, beh_cos, eucl_diff, cos_diff = np.nan, np.nan, np.nan, np.nan, np.nan, np.nan, np.nan\n",
    "\n",
    "            results_df.loc[len(results_df)] = [sub_id, roi, dim, nn, np.mean(n_train_states), np.mean(n_test_states)] + n_test_states + \\\n",
    "                                            [np.mean(cluster_dist_diffs), np.mean(perm_dist_diffs)] + eucl + null_eucl + \\\n",
    "                                            [np.mean(eucl), np.mean(null_eucl), np.mean(cos), np.mean(null_cos), np.mean(eucl_diff), np.mean(cos_diff)]\n",
    "            \n",
    "    results_df['sub_id'] = results_df['sub_id'].astype(int)\n",
    "    results_df = results_df.merge(data, on=['sub_id'])\n",
    "    results_df.to_excel(fname, index=False)\n",
    "\n",
    "    #--------------------------------------------------------------------------------\n",
    "    # sanity check plots\n",
    "    #--------------------------------------------------------------------------------\n",
    "\n",
    "    # fig, axs = plt.subplots(1,2, figsize=(8,3), sharey=True)\n",
    "    # roi_df = results_df[results_df['roi'] == 'L_HPC_thr25']\n",
    "    # sns.histplot(roi_df['n_train_states'], ax=axs[0], bins=5)\n",
    "    # sns.histplot(roi_df['n_test_states'], ax=axs[1], bins=5)\n",
    "    # plt.tight_layout()\n",
    "    # plt.show()"
   ]
  },
  {
   "cell_type": "code",
   "execution_count": 5,
   "metadata": {},
   "outputs": [
    {
     "name": "stdout",
     "output_type": "stream",
     "text": [
      "Initial L_HPC_thr25 n_train_states: M=8.06 | SD= 1.97\n",
      "Validation L_HPC_thr25 n_train_states: M=8.66 | SD= 2.21\n",
      "Initial L_HPC_thr25 n_test_states: M=4.72 | SD= 0.86\n",
      "Validation L_HPC_thr25 n_test_states: M=4.83 | SD= 0.90\n"
     ]
    }
   ],
   "source": [
    "for var in ['n_train_states', 'n_test_states']:\n",
    "    for sample in ['Initial', 'Validation']:\n",
    "        for roi in rois: \n",
    "            n_states = results_df[(results_df['sample'] == sample) & (results_df['roi'] == roi)][var]\n",
    "            mean_, std_ = np.mean(n_states), np.std(n_states)\n",
    "            range_ = np.max(n_states) - np.min(n_states)\n",
    "            print(f'{sample} {roi} {var}: M={mean_:.2f} | SD= {std_:.2f}')"
   ]
  },
  {
   "attachments": {},
   "cell_type": "markdown",
   "metadata": {},
   "source": [
    "## Distance to classified cluster < distance to other clusters\n",
    "- the assignment of held-out trials to a cluster seems to work\n",
    "- but non-specifically: M1 also shows the effect"
   ]
  },
  {
   "cell_type": "code",
   "execution_count": 3,
   "metadata": {},
   "outputs": [
    {
     "name": "stdout",
     "output_type": "stream",
     "text": [
      "|    | roi         | sample     |   dof |     beta |   95%_lb |   95%_ub |        t |     p_right |\n",
      "|---:|:------------|:-----------|------:|---------:|---------:|---------:|---------:|------------:|\n",
      "|  0 | L_HPC_thr25 | Initial    |    17 | 0.393097 | 0.299351 | 0.486843 |  8.84692 | 4.51761e-08 |\n",
      "|  0 | L_HPC_thr25 | Validation |    31 | 0.500481 | 0.415901 | 0.585062 | 12.0683  | 1.50309e-13 |\n"
     ]
    }
   ],
   "source": [
    "dist_var = 'perm_dist_diff'\n",
    "ols_dfs = []\n",
    "for roi in np.unique(results_df['roi']):\n",
    "    results_df_ = results_df.dropna(subset=[dist_var]) # drop any subject with nans\n",
    "    roi_diffs   = results_df_[(results_df_['roi'] == roi) & (results_df_['dim'] == '6d') & (results_df_['nn'] == '10nn')][dist_var]\n",
    "    for sample in [['Initial'], ['Validation']]:\n",
    "        sample_mask = results_df_['sample'].isin(sample)\n",
    "        ols_df = run_ols(roi_diffs[sample_mask], covariates=None)[0]\n",
    "        ols_df = ols_df[['dof', 'beta', '95%_lb', '95%_ub', 't', 'p_right']]\n",
    "        ols_df.insert(0, 'sample', sample)\n",
    "        ols_df.insert(0, 'roi', roi)\n",
    "        ols_dfs.append(ols_df)\n",
    "print_df(pd.concat(ols_dfs))       "
   ]
  },
  {
   "attachments": {},
   "cell_type": "markdown",
   "metadata": {},
   "source": [
    "## All characters have similarly good cluster classification"
   ]
  },
  {
   "cell_type": "code",
   "execution_count": 27,
   "metadata": {},
   "outputs": [
    {
     "name": "stdout",
     "output_type": "stream",
     "text": [
      "|    | sample     | char1     | char2     |   t |   p |\n",
      "|---:|:-----------|:----------|:----------|----:|----:|\n",
      "|  0 | Initial    | first     | second    | nan | nan |\n",
      "|  1 | Validation | first     | second    | nan | nan |\n",
      "|  2 | Initial    | first     | assistant | nan | nan |\n",
      "|  3 | Validation | first     | assistant | nan | nan |\n",
      "|  4 | Initial    | first     | powerful  | nan | nan |\n",
      "|  5 | Validation | first     | powerful  | nan | nan |\n",
      "|  6 | Initial    | first     | boss      | nan | nan |\n",
      "|  7 | Validation | first     | boss      | nan | nan |\n",
      "|  8 | Initial    | second    | assistant | nan | nan |\n",
      "|  9 | Validation | second    | assistant | nan | nan |\n",
      "| 10 | Initial    | second    | powerful  | nan | nan |\n",
      "| 11 | Validation | second    | powerful  | nan | nan |\n",
      "| 12 | Initial    | second    | boss      | nan | nan |\n",
      "| 13 | Validation | second    | boss      | nan | nan |\n",
      "| 14 | Initial    | assistant | powerful  | nan | nan |\n",
      "| 15 | Validation | assistant | powerful  | nan | nan |\n",
      "| 16 | Initial    | assistant | boss      | nan | nan |\n",
      "| 17 | Validation | assistant | boss      | nan | nan |\n",
      "| 18 | Initial    | powerful  | boss      | nan | nan |\n",
      "| 19 | Validation | powerful  | boss      | nan | nan |\n"
     ]
    }
   ],
   "source": [
    "# test all combos of the 5 characters\n",
    "res = pd.DataFrame(columns=['sample', 'char1', 'char2', 't', 'p'])\n",
    "char_combos = list(itertools.combinations(character_roles[:5], 2))\n",
    "for cc in char_combos:\n",
    "    for sample in ['Initial', 'Validation']:\n",
    "        # do it separately for each sample....\n",
    "        sample_results = results_df[(results_df['sample'] == sample) & (results_df['roi'] == 'L_HPC_thr25') & (results_df['dim'] == '6d') & (results_df['nn'] == '5nn')]\n",
    "        char_diff = sample_results[f'eucl_dist_char_{cc[0]}'] - sample_results[f'eucl_dist_char_{cc[1]}']\n",
    "        char_diff = char_diff[~np.isnan(char_diff)]\n",
    "        t, p = scipy.stats.ttest_1samp(char_diff, popmean=0)\n",
    "        res.loc[len(res),:] = [sample, cc[0], cc[1], t, np.min([p * 10, 1])]\n",
    "res = res.sort_values(by='p')\n",
    "print_df(res)"
   ]
  },
  {
   "attachments": {},
   "cell_type": "markdown",
   "metadata": {},
   "source": [
    "# Number of clusters correlates w/ social network size"
   ]
  },
  {
   "cell_type": "code",
   "execution_count": 4,
   "metadata": {},
   "outputs": [
    {
     "data": {
      "image/png": "[encoded data removed]",
      "text/plain": [
       "<Figure size 640x480 with 1 Axes>"
      ]
     },
     "metadata": {},
     "output_type": "display_data"
    }
   ],
   "source": [
    "data_ = data[data['sample']=='Validation']\n",
    "\n",
    "sns.histplot(data_, x='sni_num_ppl', bins=5, multiple='stack')\n",
    "plt.show()\n",
    "\n",
    "# are there any datapoints > 3 SD?\n",
    "std = np.std(data_['sni_num_ppl'])\n",
    "thresh = np.mean(data_['sni_num_ppl']) + 3*std\n",
    "outliers = np.sum(data_['sni_num_ppl'] > thresh)\n",
    "\n",
    "# zscore alternativve... same answer?\n",
    "# np.sum(scipy.stats.zscore(data_['sni_num_ppl']) > 3)"
   ]
  },
  {
   "cell_type": "code",
   "execution_count": 8,
   "metadata": {},
   "outputs": [
    {
     "data": {
      "text/html": [
       "<div>\n",
       "<style scoped>\n",
       "    .dataframe tbody tr th:only-of-type {\n",
       "        vertical-align: middle;\n",
       "    }\n",
       "\n",
       "    .dataframe tbody tr th {\n",
       "        vertical-align: top;\n",
       "    }\n",
       "\n",
       "    .dataframe thead th {\n",
       "        text-align: right;\n",
       "    }\n",
       "</style>\n",
       "<table border=\"1\" class=\"dataframe\">\n",
       "  <thead>\n",
       "    <tr style=\"text-align: right;\">\n",
       "      <th></th>\n",
       "      <th>roi</th>\n",
       "      <th>sample</th>\n",
       "      <th>X</th>\n",
       "      <th>y</th>\n",
       "      <th>x</th>\n",
       "      <th>dof</th>\n",
       "      <th>adj_rsq</th>\n",
       "      <th>bic</th>\n",
       "      <th>aic</th>\n",
       "      <th>beta</th>\n",
       "      <th>se</th>\n",
       "      <th>95%_lb</th>\n",
       "      <th>95%_ub</th>\n",
       "      <th>t</th>\n",
       "      <th>p</th>\n",
       "      <th>p_left</th>\n",
       "      <th>p_right</th>\n",
       "    </tr>\n",
       "  </thead>\n",
       "  <tbody>\n",
       "    <tr>\n",
       "      <th>1</th>\n",
       "      <td>L_HPC_thr25</td>\n",
       "      <td>Validation</td>\n",
       "      <td>Intercept + sni_num_ppl</td>\n",
       "      <td>n_test_states</td>\n",
       "      <td>sni_num_ppl</td>\n",
       "      <td>30.0</td>\n",
       "      <td>0.134</td>\n",
       "      <td>79.39</td>\n",
       "      <td>76.46</td>\n",
       "      <td>0.329967</td>\n",
       "      <td>0.137062</td>\n",
       "      <td>0.050049</td>\n",
       "      <td>0.609886</td>\n",
       "      <td>2.407424</td>\n",
       "      <td>0.022423</td>\n",
       "      <td>0.988788</td>\n",
       "      <td>0.011212</td>\n",
       "    </tr>\n",
       "    <tr>\n",
       "      <th>1</th>\n",
       "      <td>L_HPC_thr25</td>\n",
       "      <td>Validation</td>\n",
       "      <td>Intercept + sni_network_div</td>\n",
       "      <td>n_test_states</td>\n",
       "      <td>sni_network_div</td>\n",
       "      <td>30.0</td>\n",
       "      <td>0.046</td>\n",
       "      <td>82.49</td>\n",
       "      <td>79.56</td>\n",
       "      <td>0.227075</td>\n",
       "      <td>0.143863</td>\n",
       "      <td>-0.066733</td>\n",
       "      <td>0.520883</td>\n",
       "      <td>1.578409</td>\n",
       "      <td>0.124959</td>\n",
       "      <td>0.937520</td>\n",
       "      <td>0.062480</td>\n",
       "    </tr>\n",
       "  </tbody>\n",
       "</table>\n",
       "</div>"
      ],
      "text/plain": [
       "           roi      sample                            X              y  \\\n",
       "1  L_HPC_thr25  Validation      Intercept + sni_num_ppl  n_test_states   \n",
       "1  L_HPC_thr25  Validation  Intercept + sni_network_div  n_test_states   \n",
       "\n",
       "                 x   dof  adj_rsq    bic    aic      beta        se    95%_lb  \\\n",
       "1      sni_num_ppl  30.0    0.134  79.39  76.46  0.329967  0.137062  0.050049   \n",
       "1  sni_network_div  30.0    0.046  82.49  79.56  0.227075  0.143863 -0.066733   \n",
       "\n",
       "     95%_ub         t         p    p_left   p_right  \n",
       "1  0.609886  2.407424  0.022423  0.988788  0.011212  \n",
       "1  0.520883  1.578409  0.124959  0.937520  0.062480  "
      ]
     },
     "metadata": {},
     "output_type": "display_data"
    },
    {
     "data": {
      "image/png": "[encoded data removed]",
      "text/plain": [
       "<Figure size 500x500 with 1 Axes>"
      ]
     },
     "metadata": {},
     "output_type": "display_data"
    }
   ],
   "source": [
    "def get_stars(p):  \n",
    "  if p < 0.01:\n",
    "    return '**'\n",
    "  elif p < 0.05:\n",
    "    return '*'\n",
    "  else:\n",
    "    return ''\n",
    "\n",
    "from scipy.stats import rankdata\n",
    "\n",
    "#--------------------------------------------------------------------------------\n",
    "# run GLM\n",
    "#--------------------------------------------------------------------------------\n",
    "\n",
    "dims = ['5d']\n",
    "nns  = ['10nn']\n",
    "social_vars = ['sni_num_ppl', 'sni_network_div']\n",
    "cluster_vars = ['n_test_states']\n",
    "covariates = None # ['reaction_time_mean', 'memory_mean_main']\n",
    "for dim, nn  in itertools.product(dims, nns):\n",
    "\n",
    "    ols_res, tau_res = [], []\n",
    "    for roi, sv, cv in itertools.product(['L_HPC_thr25'], social_vars, cluster_vars):\n",
    "        for sample in ['Validation']:\n",
    "            results_df_ = results_df[(results_df['sample'].isin([sample])) \n",
    "                                    & (results_df['roi'] == roi) \n",
    "                                    & (results_df['dim'] == dim) \n",
    "                                    & (results_df['nn'] == nn)]\n",
    "        \n",
    "            # dealing with possible outliers...\n",
    "\n",
    "            # exclude outliers\n",
    "            # thresh = (np.mean(results_df_[sv]) + 2.5*np.std(results_df_[sv])).values[0]\n",
    "            # incl = results_df_[sv].values < thresh\n",
    "            # results_df_ = results_df_[incl]\n",
    "\n",
    "            # rank regression\n",
    "            # results_df_[f'{sv}_ranked'] = rankdata(results_df_[sv], method='average')\n",
    "            # sv = f'{sv}_ranked'\n",
    "\n",
    "            try: \n",
    "\n",
    "                # correlation\n",
    "                tau, p = scipy.stats.kendalltau(results_df_[sv], results_df_[cv])\n",
    "                tau_res.append([sv, roi, sample, dim, nn, tau, p])\n",
    "\n",
    "                # regression\n",
    "                ols_df = run_ols([sv], cv, data=results_df_, covariates=covariates)[0]\n",
    "                ols_df.insert(0, 'sample', sample)\n",
    "                ols_df.insert(0, 'roi', roi)\n",
    "                ols_res.append(ols_df[ols_df['x'].isin([sv])])\n",
    "\n",
    "            except:\n",
    "                continue\n",
    "        \n",
    "    ols_res_df = pd.concat(ols_res)\n",
    "    display(ols_res_df)\n",
    "    \n",
    "    tau_res_df = pd.DataFrame(tau_res, columns=['xvar', 'roi', 'sample', 'dim', 'nn', 'tau', 'p'])\n",
    "    # display(tau_res_df)\n",
    "\n",
    "    #--------------------------------------------------------------------------------\n",
    "    # plot results\n",
    "    #--------------------------------------------------------------------------------\n",
    "\n",
    "    results_df_ = results_df[(results_df['sample'] == 'Validation') & \n",
    "                            (results_df['dim'] == dim) & \n",
    "                            (results_df['nn'] == nn)]\n",
    "    color = sample_dict[sample]['color']\n",
    "\n",
    "    fig, ax = plt.subplots(1, 1, figsize=(5, 5), sharey=True)\n",
    "    #   fig.suptitle(f'{dim} {nn}', fontsize=20)\n",
    "\n",
    "    p = ols_res_df[ols_res_df['x']=='sni_num_ppl']['p'].values[0]\n",
    "    y, x = results_df_['n_test_states'], results_df_['sni_num_ppl']\n",
    "    sns.regplot(x=x, y=y, ax=ax, color=color, scatter_kws={'alpha': 1, 's': 50, 'edgecolor': 'k', 'linewidth': 1})\n",
    "    ax.set_ylabel('Number of HC clusters', fontsize=label_fontsize)\n",
    "    ax.set_xlabel('Social network size', fontsize=label_fontsize)\n",
    "    ax.annotate(get_stars(p), xy=(.5, .925), xycoords='axes fraction', fontsize=25, ha='center', va='center')\n",
    "\n",
    "# #   ax = axs[1]\n",
    "# #   p = ols_res_df[ols_res_df['x']=='sni_network_div']['p'].values[0]\n",
    "# #   x = results_df_['sni_network_div']\n",
    "# #   sns.regplot(x=x, y=y, ax=ax, color=color, scatter_kws={'alpha': 1, 's': 50, 'edgecolor': 'k', 'linewidth': 1})\n",
    "# #   ax.set_ylabel('', fontsize=label_fontsize)\n",
    "# #   ax.set_xlabel('Social network diversity', fontsize=label_fontsize)\n",
    "# #   ax.annotate(get_stars(p), xy=(.5, .925), xycoords='axes fraction', fontsize=25, ha='center', va='center')\n",
    "\n",
    "#     plt.show()\n",
    "\n",
    "save_figure(fig, f'{fig_dir}/fig-5_cluster-number_network-size.png')"
   ]
  },
  {
   "cell_type": "code",
   "execution_count": 54,
   "metadata": {},
   "outputs": [
    {
     "data": {
      "application/vnd.plotly.v1+json": {
       "config": {
        "plotlyServerURL": "https://plot.ly"
       },
       "data": [
        {
         "marker": {
          "color": [
           5.2,
           4.2,
           5.2,
           3.8,
           3,
           3.8,
           4.2,
           3.6,
           4.6,
           4.6,
           4.8,
           5.2,
           5.2,
           5.2,
           4.4,
           6.2,
           5,
           3.6,
           5.4,
           4.8,
           3.4,
           3.6,
           4.4,
           3.6,
           6.4,
           3.4,
           5.8,
           4.6,
           4.4,
           3.8,
           4.4,
           4.4
          ],
          "colorscale": [
           [
            0,
            "#440154"
           ],
           [
            0.1111111111111111,
            "#482878"
           ],
           [
            0.2222222222222222,
            "#3e4989"
           ],
           [
            0.3333333333333333,
            "#31688e"
           ],
           [
            0.4444444444444444,
            "#26828e"
           ],
           [
            0.5555555555555556,
            "#1f9e89"
           ],
           [
            0.6666666666666666,
            "#35b779"
           ],
           [
            0.7777777777777778,
            "#6ece58"
           ],
           [
            0.8888888888888888,
            "#b5de2b"
           ],
           [
            1,
            "#fde725"
           ]
          ],
          "opacity": 0.8,
          "size": 5
         },
         "mode": "markers",
         "type": "scatter3d",
         "x": [
          2,
          12,
          19,
          10,
          16,
          14,
          6,
          2,
          25,
          4,
          7,
          22,
          16,
          5,
          6,
          4,
          13,
          6,
          37,
          8,
          4,
          17,
          6,
          5,
          36,
          11,
          19,
          19,
          11,
          7,
          3,
          4
         ],
         "y": [
          1,
          6,
          7,
          5,
          8,
          6,
          4,
          1,
          7,
          2,
          4,
          7,
          6,
          2,
          4,
          3,
          6,
          2,
          9,
          4,
          2,
          6,
          4,
          4,
          9,
          3,
          7,
          8,
          5,
          5,
          3,
          2
         ],
         "z": [
          5.2,
          4.2,
          5.2,
          3.8,
          3,
          3.8,
          4.2,
          3.6,
          4.6,
          4.6,
          4.8,
          5.2,
          5.2,
          5.2,
          4.4,
          6.2,
          5,
          3.6,
          5.4,
          4.8,
          3.4,
          3.6,
          4.4,
          3.6,
          6.4,
          3.4,
          5.8,
          4.6,
          4.4,
          3.8,
          4.4,
          4.4
         ]
        }
       ],
       "layout": {
        "scene": {
         "xaxis": {
          "title": {
           "text": "Number of people"
          }
         },
         "yaxis": {
          "title": {
           "text": "Network diversity"
          }
         },
         "zaxis": {
          "title": {
           "text": "Number of clusters"
          }
         }
        },
        "template": {
         "data": {
          "bar": [
           {
            "error_x": {
             "color": "#2a3f5f"
            },
            "error_y": {
             "color": "#2a3f5f"
            },
            "marker": {
             "line": {
              "color": "#E5ECF6",
              "width": 0.5
             },
             "pattern": {
              "fillmode": "overlay",
              "size": 10,
              "solidity": 0.2
             }
            },
            "type": "bar"
           }
          ],
          "barpolar": [
           {
            "marker": {
             "line": {
              "color": "#E5ECF6",
              "width": 0.5
             },
             "pattern": {
              "fillmode": "overlay",
              "size": 10,
              "solidity": 0.2
             }
            },
            "type": "barpolar"
           }
          ],
          "carpet": [
           {
            "aaxis": {
             "endlinecolor": "#2a3f5f",
             "gridcolor": "white",
             "linecolor": "white",
             "minorgridcolor": "white",
             "startlinecolor": "#2a3f5f"
            },
            "baxis": {
             "endlinecolor": "#2a3f5f",
             "gridcolor": "white",
             "linecolor": "white",
             "minorgridcolor": "white",
             "startlinecolor": "#2a3f5f"
            },
            "type": "carpet"
           }
          ],
          "choropleth": [
           {
            "colorbar": {
             "outlinewidth": 0,
             "ticks": ""
            },
            "type": "choropleth"
           }
          ],
          "contour": [
           {
            "colorbar": {
             "outlinewidth": 0,
             "ticks": ""
            },
            "colorscale": [
             [
              0,
              "#0d0887"
             ],
             [
              0.1111111111111111,
              "#46039f"
             ],
             [
              0.2222222222222222,
              "#7201a8"
             ],
             [
              0.3333333333333333,
              "#9c179e"
             ],
             [
              0.4444444444444444,
              "#bd3786"
             ],
             [
              0.5555555555555556,
              "#d8576b"
             ],
             [
              0.6666666666666666,
              "#ed7953"
             ],
             [
              0.7777777777777778,
              "#fb9f3a"
             ],
             [
              0.8888888888888888,
              "#fdca26"
             ],
             [
              1,
              "#f0f921"
             ]
            ],
            "type": "contour"
           }
          ],
          "contourcarpet": [
           {
            "colorbar": {
             "outlinewidth": 0,
             "ticks": ""
            },
            "type": "contourcarpet"
           }
          ],
          "heatmap": [
           {
            "colorbar": {
             "outlinewidth": 0,
             "ticks": ""
            },
            "colorscale": [
             [
              0,
              "#0d0887"
             ],
             [
              0.1111111111111111,
              "#46039f"
             ],
             [
              0.2222222222222222,
              "#7201a8"
             ],
             [
              0.3333333333333333,
              "#9c179e"
             ],
             [
              0.4444444444444444,
              "#bd3786"
             ],
             [
              0.5555555555555556,
              "#d8576b"
             ],
             [
              0.6666666666666666,
              "#ed7953"
             ],
             [
              0.7777777777777778,
              "#fb9f3a"
             ],
             [
              0.8888888888888888,
              "#fdca26"
             ],
             [
              1,
              "#f0f921"
             ]
            ],
            "type": "heatmap"
           }
          ],
          "heatmapgl": [
           {
            "colorbar": {
             "outlinewidth": 0,
             "ticks": ""
            },
            "colorscale": [
             [
              0,
              "#0d0887"
             ],
             [
              0.1111111111111111,
              "#46039f"
             ],
             [
              0.2222222222222222,
              "#7201a8"
             ],
             [
              0.3333333333333333,
              "#9c179e"
             ],
             [
              0.4444444444444444,
              "#bd3786"
             ],
             [
              0.5555555555555556,
              "#d8576b"
             ],
             [
              0.6666666666666666,
              "#ed7953"
             ],
             [
              0.7777777777777778,
              "#fb9f3a"
             ],
             [
              0.8888888888888888,
              "#fdca26"
             ],
             [
              1,
              "#f0f921"
             ]
            ],
            "type": "heatmapgl"
           }
          ],
          "histogram": [
           {
            "marker": {
             "pattern": {
              "fillmode": "overlay",
              "size": 10,
              "solidity": 0.2
             }
            },
            "type": "histogram"
           }
          ],
          "histogram2d": [
           {
            "colorbar": {
             "outlinewidth": 0,
             "ticks": ""
            },
            "colorscale": [
             [
              0,
              "#0d0887"
             ],
             [
              0.1111111111111111,
              "#46039f"
             ],
             [
              0.2222222222222222,
              "#7201a8"
             ],
             [
              0.3333333333333333,
              "#9c179e"
             ],
             [
              0.4444444444444444,
              "#bd3786"
             ],
             [
              0.5555555555555556,
              "#d8576b"
             ],
             [
              0.6666666666666666,
              "#ed7953"
             ],
             [
              0.7777777777777778,
              "#fb9f3a"
             ],
             [
              0.8888888888888888,
              "#fdca26"
             ],
             [
              1,
              "#f0f921"
             ]
            ],
            "type": "histogram2d"
           }
          ],
          "histogram2dcontour": [
           {
            "colorbar": {
             "outlinewidth": 0,
             "ticks": ""
            },
            "colorscale": [
             [
              0,
              "#0d0887"
             ],
             [
              0.1111111111111111,
              "#46039f"
             ],
             [
              0.2222222222222222,
              "#7201a8"
             ],
             [
              0.3333333333333333,
              "#9c179e"
             ],
             [
              0.4444444444444444,
              "#bd3786"
             ],
             [
              0.5555555555555556,
              "#d8576b"
             ],
             [
              0.6666666666666666,
              "#ed7953"
             ],
             [
              0.7777777777777778,
              "#fb9f3a"
             ],
             [
              0.8888888888888888,
              "#fdca26"
             ],
             [
              1,
              "#f0f921"
             ]
            ],
            "type": "histogram2dcontour"
           }
          ],
          "mesh3d": [
           {
            "colorbar": {
             "outlinewidth": 0,
             "ticks": ""
            },
            "type": "mesh3d"
           }
          ],
          "parcoords": [
           {
            "line": {
             "colorbar": {
              "outlinewidth": 0,
              "ticks": ""
             }
            },
            "type": "parcoords"
           }
          ],
          "pie": [
           {
            "automargin": true,
            "type": "pie"
           }
          ],
          "scatter": [
           {
            "fillpattern": {
             "fillmode": "overlay",
             "size": 10,
             "solidity": 0.2
            },
            "type": "scatter"
           }
          ],
          "scatter3d": [
           {
            "line": {
             "colorbar": {
              "outlinewidth": 0,
              "ticks": ""
             }
            },
            "marker": {
             "colorbar": {
              "outlinewidth": 0,
              "ticks": ""
             }
            },
            "type": "scatter3d"
           }
          ],
          "scattercarpet": [
           {
            "marker": {
             "colorbar": {
              "outlinewidth": 0,
              "ticks": ""
             }
            },
            "type": "scattercarpet"
           }
          ],
          "scattergeo": [
           {
            "marker": {
             "colorbar": {
              "outlinewidth": 0,
              "ticks": ""
             }
            },
            "type": "scattergeo"
           }
          ],
          "scattergl": [
           {
            "marker": {
             "colorbar": {
              "outlinewidth": 0,
              "ticks": ""
             }
            },
            "type": "scattergl"
           }
          ],
          "scattermapbox": [
           {
            "marker": {
             "colorbar": {
              "outlinewidth": 0,
              "ticks": ""
             }
            },
            "type": "scattermapbox"
           }
          ],
          "scatterpolar": [
           {
            "marker": {
             "colorbar": {
              "outlinewidth": 0,
              "ticks": ""
             }
            },
            "type": "scatterpolar"
           }
          ],
          "scatterpolargl": [
           {
            "marker": {
             "colorbar": {
              "outlinewidth": 0,
              "ticks": ""
             }
            },
            "type": "scatterpolargl"
           }
          ],
          "scatterternary": [
           {
            "marker": {
             "colorbar": {
              "outlinewidth": 0,
              "ticks": ""
             }
            },
            "type": "scatterternary"
           }
          ],
          "surface": [
           {
            "colorbar": {
             "outlinewidth": 0,
             "ticks": ""
            },
            "colorscale": [
             [
              0,
              "#0d0887"
             ],
             [
              0.1111111111111111,
              "#46039f"
             ],
             [
              0.2222222222222222,
              "#7201a8"
             ],
             [
              0.3333333333333333,
              "#9c179e"
             ],
             [
              0.4444444444444444,
              "#bd3786"
             ],
             [
              0.5555555555555556,
              "#d8576b"
             ],
             [
              0.6666666666666666,
              "#ed7953"
             ],
             [
              0.7777777777777778,
              "#fb9f3a"
             ],
             [
              0.8888888888888888,
              "#fdca26"
             ],
             [
              1,
              "#f0f921"
             ]
            ],
            "type": "surface"
           }
          ],
          "table": [
           {
            "cells": {
             "fill": {
              "color": "#EBF0F8"
             },
             "line": {
              "color": "white"
             }
            },
            "header": {
             "fill": {
              "color": "#C8D4E3"
             },
             "line": {
              "color": "white"
             }
            },
            "type": "table"
           }
          ]
         },
         "layout": {
          "annotationdefaults": {
           "arrowcolor": "#2a3f5f",
           "arrowhead": 0,
           "arrowwidth": 1
          },
          "autotypenumbers": "strict",
          "coloraxis": {
           "colorbar": {
            "outlinewidth": 0,
            "ticks": ""
           }
          },
          "colorscale": {
           "diverging": [
            [
             0,
             "#8e0152"
            ],
            [
             0.1,
             "#c51b7d"
            ],
            [
             0.2,
             "#de77ae"
            ],
            [
             0.3,
             "#f1b6da"
            ],
            [
             0.4,
             "#fde0ef"
            ],
            [
             0.5,
             "#f7f7f7"
            ],
            [
             0.6,
             "#e6f5d0"
            ],
            [
             0.7,
             "#b8e186"
            ],
            [
             0.8,
             "#7fbc41"
            ],
            [
             0.9,
             "#4d9221"
            ],
            [
             1,
             "#276419"
            ]
           ],
           "sequential": [
            [
             0,
             "#0d0887"
            ],
            [
             0.1111111111111111,
             "#46039f"
            ],
            [
             0.2222222222222222,
             "#7201a8"
            ],
            [
             0.3333333333333333,
             "#9c179e"
            ],
            [
             0.4444444444444444,
             "#bd3786"
            ],
            [
             0.5555555555555556,
             "#d8576b"
            ],
            [
             0.6666666666666666,
             "#ed7953"
            ],
            [
             0.7777777777777778,
             "#fb9f3a"
            ],
            [
             0.8888888888888888,
             "#fdca26"
            ],
            [
             1,
             "#f0f921"
            ]
           ],
           "sequentialminus": [
            [
             0,
             "#0d0887"
            ],
            [
             0.1111111111111111,
             "#46039f"
            ],
            [
             0.2222222222222222,
             "#7201a8"
            ],
            [
             0.3333333333333333,
             "#9c179e"
            ],
            [
             0.4444444444444444,
             "#bd3786"
            ],
            [
             0.5555555555555556,
             "#d8576b"
            ],
            [
             0.6666666666666666,
             "#ed7953"
            ],
            [
             0.7777777777777778,
             "#fb9f3a"
            ],
            [
             0.8888888888888888,
             "#fdca26"
            ],
            [
             1,
             "#f0f921"
            ]
           ]
          },
          "colorway": [
           "#636efa",
           "#EF553B",
           "#00cc96",
           "#ab63fa",
           "#FFA15A",
           "#19d3f3",
           "#FF6692",
           "#B6E880",
           "#FF97FF",
           "#FECB52"
          ],
          "font": {
           "color": "#2a3f5f"
          },
          "geo": {
           "bgcolor": "white",
           "lakecolor": "white",
           "landcolor": "#E5ECF6",
           "showlakes": true,
           "showland": true,
           "subunitcolor": "white"
          },
          "hoverlabel": {
           "align": "left"
          },
          "hovermode": "closest",
          "mapbox": {
           "style": "light"
          },
          "paper_bgcolor": "white",
          "plot_bgcolor": "#E5ECF6",
          "polar": {
           "angularaxis": {
            "gridcolor": "white",
            "linecolor": "white",
            "ticks": ""
           },
           "bgcolor": "#E5ECF6",
           "radialaxis": {
            "gridcolor": "white",
            "linecolor": "white",
            "ticks": ""
           }
          },
          "scene": {
           "xaxis": {
            "backgroundcolor": "#E5ECF6",
            "gridcolor": "white",
            "gridwidth": 2,
            "linecolor": "white",
            "showbackground": true,
            "ticks": "",
            "zerolinecolor": "white"
           },
           "yaxis": {
            "backgroundcolor": "#E5ECF6",
            "gridcolor": "white",
            "gridwidth": 2,
            "linecolor": "white",
            "showbackground": true,
            "ticks": "",
            "zerolinecolor": "white"
           },
           "zaxis": {
            "backgroundcolor": "#E5ECF6",
            "gridcolor": "white",
            "gridwidth": 2,
            "linecolor": "white",
            "showbackground": true,
            "ticks": "",
            "zerolinecolor": "white"
           }
          },
          "shapedefaults": {
           "line": {
            "color": "#2a3f5f"
           }
          },
          "ternary": {
           "aaxis": {
            "gridcolor": "white",
            "linecolor": "white",
            "ticks": ""
           },
           "baxis": {
            "gridcolor": "white",
            "linecolor": "white",
            "ticks": ""
           },
           "bgcolor": "#E5ECF6",
           "caxis": {
            "gridcolor": "white",
            "linecolor": "white",
            "ticks": ""
           }
          },
          "title": {
           "x": 0.05
          },
          "xaxis": {
           "automargin": true,
           "gridcolor": "white",
           "linecolor": "white",
           "ticks": "",
           "title": {
            "standoff": 15
           },
           "zerolinecolor": "white",
           "zerolinewidth": 2
          },
          "yaxis": {
           "automargin": true,
           "gridcolor": "white",
           "linecolor": "white",
           "ticks": "",
           "title": {
            "standoff": 15
           },
           "zerolinecolor": "white",
           "zerolinewidth": 2
          }
         }
        }
       }
      }
     },
     "metadata": {},
     "output_type": "display_data"
    }
   ],
   "source": [
    "x, y, z = results_df_['sni_num_ppl'], results_df_['sni_network_div'], results_df_['n_test_states']\n",
    "fig = go.Figure(data=[go.Scatter3d(x=x, y=y, z=z, mode='markers', marker=dict(size=5, color=z, colorscale='Viridis', opacity=0.8))])\n",
    "fig.update_layout(scene=dict(xaxis_title='Number of people', yaxis_title='Network diversity', zaxis_title='Number of clusters'))\n",
    "fig.show()"
   ]
  },
  {
   "cell_type": "markdown",
   "metadata": {},
   "source": [
    "# Transition probabilities\n",
    "\n",
    "maybe: convert the transition probabilities to distances, then ask: do these cluster distances track with the embedding distances and the behavioral social distances?\n",
    "- what does this add? suggests the transitions between the clusters is a function of the manifold (not surprising) and social coordinates\n",
    "- but I use the behavior to select the clusters... so would need to do this in a cross-validated way..."
   ]
  },
  {
   "cell_type": "code",
   "execution_count": null,
   "metadata": {},
   "outputs": [],
   "source": [
    "from collections import defaultdict\n",
    "\n",
    "def convert_transition_probs_to_dists(T):\n",
    "    \n",
    "    # adapted from Nieh et al 2021:\n",
    "        # The random forest model provides us with a set of transition probabilities p(s(t + Δt)|s(t)) that \n",
    "        # can be translated into a local distance δ(s(t + Δt), s(t)) under a diffusion approximation, \n",
    "        # in which the transition probability p decreases with distance δ as p ∝ exp(−δ^2). \n",
    "        # Similar to isomap45, we then calculated the global distance between two states \n",
    "        # as the length of the shortest path from one to the other via any intermediate, \n",
    "        # connected states. The pairwise geodesic distances of l points ρ(i,j), in which 0 < i, j ≤ l, \n",
    "        # then yields a matrix of size l × l that was embedded using multidimensional scaling with \n",
    "        # Sammon’s nonlinear mapping. This yielded latent variables to describe population data. \n",
    "        # The mapping from latent space to neural activity and back was then achieved with LLE\n",
    "\n",
    "    # convert to local distances\n",
    "    local_distances = np.sqrt(-np.log(T+1e-10)) # using diffusion process approx.: transition probability ∝ exp(−distance^2)\n",
    "\n",
    "    # calculate global geodesic distances using Dijkstra's algorithm\n",
    "    graph = nx.DiGraph(local_distances) # weighted, directed graph from delta\n",
    "    global_distances = dict(nx.all_pairs_dijkstra_path_length(graph))\n",
    "\n",
    "    # sort & symmetrize\n",
    "    distance_df = pd.DataFrame(global_distances).sort_index(axis=0).sort_index(axis=1)\n",
    "    distance_df = distance_df + distance_df.T \n",
    "    return distance_df\n",
    "\n",
    "def calculate_avg_dwell_time(sequence):\n",
    "\n",
    "    state_dwell_times = defaultdict(int)\n",
    "    state_counts = defaultdict(int)\n",
    "\n",
    "    current_state = None\n",
    "    current_dwell_time = 0\n",
    "\n",
    "    # calculate dwell times\n",
    "    for state in sequence:\n",
    "        if state != current_state: # state transition has occurred\n",
    "            if current_state is not None:\n",
    "                state_dwell_times[current_state] += current_dwell_time\n",
    "                state_counts[current_state] += 1\n",
    "            current_state = state\n",
    "            current_dwell_time = 1\n",
    "        else: # increment the dwell time\n",
    "            current_dwell_time += 1\n",
    "\n",
    "    # Handle the last state in the sequence\n",
    "    if current_state is not None:\n",
    "        state_dwell_times[current_state] += current_dwell_time\n",
    "        state_counts[current_state] += 1\n",
    "\n",
    "    return {state: state_dwell_times[state] / state_counts[state] for state in state_dwell_times}\n"
   ]
  },
  {
   "cell_type": "code",
   "execution_count": null,
   "metadata": {},
   "outputs": [],
   "source": [
    "emb_fnames, _ = get_fnames('lle', ftype='Embeddings')\n",
    "res_df = pd.DataFrame(columns=['sub_id', 'avg_dwell_time', 'embedding_tau', 'behav_embedding_tau'])\n",
    "for emb_fname in emb_fnames:\n",
    "\n",
    "    #----------------------------------------------------------------------------------------------\n",
    "    # get data\n",
    "    #----------------------------------------------------------------------------------------------\n",
    "\n",
    "    sub_id = emb_fname.split('/')[-1].split('_')[0]\n",
    "    emb_dict = pd.read_pickle(emb_fname)\n",
    "    embedding = emb_dict['L_HPC_thr25']['5d']['10nn']['embedding']\n",
    "    \n",
    "    #----------------------------------------------------------------------------------------------\n",
    "    # maximize mutual information with the behavioral social locations\n",
    "    # OR take the avg. number of clusters from the previous analysis...\n",
    "    #----------------------------------------------------------------------------------------------\n",
    "\n",
    "    cluster_clf = ClusterClassifier(n_clusters=5)\n",
    "    cluster_clf.fit(embedding, behav.values[:, 1:])\n",
    "    state_sequence = cluster_clf.labels_\n",
    "    \n",
    "    # transition probabilities --> distances --> MDS embedding\n",
    "    transition_probs = calc_transition_matrix(state_sequence)\n",
    "    cluster_dists = convert_transition_probs_to_dists(transition_probs).values # convert to distances\n",
    "    mds_embedding = MDS(n_components=2, dissimilarity='precomputed').fit_transform(cluster_dists) # embed distances into 2D\n",
    "\n",
    "    #----------------------------------------------------------------------------------------------\n",
    "    # tryna come up with new measures of the manifold...\n",
    "    #----------------------------------------------------------------------------------------------\n",
    "\n",
    "    # average dwell time in each state\n",
    "    dwell_times = calculate_avg_dwell_time(state_sequence)\n",
    "    avg_dwell_time = np.mean(list(dwell_times.values()))\n",
    "\n",
    "    #----------------------------------------------------------------------------------------------\n",
    "    # compare distances\n",
    "    #----------------------------------------------------------------------------------------------\n",
    "    \n",
    "    behav_xy = load_behavior(sub_id)[['char_decision_num', 'affil_coord', 'power_coord']]\n",
    "    behav_xy.insert(3, 'cluster', state_sequence)\n",
    "    behav_xy_avg = behav_xy.groupby('cluster').mean().reset_index()\n",
    "    behav_dists = pairwise_distances(behav_xy_avg[['affil_coord', 'power_coord']].values)\n",
    "\n",
    "    embedding = pd.DataFrame(embedding)\n",
    "    embedding.insert(5, 'cluster', state_sequence)\n",
    "    embedding_avg = embedding.groupby('cluster').mean().reset_index()\n",
    "    embedding_dists = pairwise_distances(embedding_avg.values[:, :5])\n",
    "\n",
    "    behav_rdv = symm_mat_to_ut_vec(behav_dists)\n",
    "    embedding_rdv = symm_mat_to_ut_vec(embedding_dists)\n",
    "    neural_rdv = symm_mat_to_ut_vec(cluster_dists)\n",
    "\n",
    "    # behav_tau = kendalltau(neural_rdv, behav_rdv)[0]\n",
    "    embedding_tau = kendalltau(neural_rdv, embedding_rdv)[0]\n",
    "    behav_embedding_tau = kendalltau(behav_rdv, embedding_rdv)[0]\n",
    "\n",
    "    res_df.loc[len(res_df)] = [int(sub_id), avg_dwell_time, embedding_tau, behav_embedding_tau]\n",
    "\n",
    "    # #----------------------------------------------------------------------------------------------\n",
    "    # # plot the state sequences\n",
    "    # #----------------------------------------------------------------------------------------------\n",
    "\n",
    "    # fig, ax = plt.subplots(1, 1, figsize=(30, 1))\n",
    "    # sns.heatmap(state_sequence.reshape(1,-1), ax=ax)\n",
    "    # ax.set_yticks([])\n",
    "    # plt.show()\n",
    "\n",
    "    # #----------------------------------------------------------------------------------------------\n",
    "    # # plot transition matrix & distance matrix\n",
    "    # #----------------------------------------------------------------------------------------------\n",
    "\n",
    "    # fig, axs = plt.subplots(1, 3, figsize=(13, 4))\n",
    "    # ax = axs[0]\n",
    "    # plot_state_matrix(T, cbar_label='Probability', cmap='magma_r', ax=ax)\n",
    "    # ax.set_title('Transition probabilities', fontsize=title_fontsize)\n",
    "    # ax = axs[1]\n",
    "    # plot_state_matrix(digitize_matrix(cluster_dists), cbar_label='Distance', ax=ax)\n",
    "    # ax.set_title('Geodesic distances (digitized)', fontsize=title_fontsize)\n",
    "    # ax = axs[2]\n",
    "    # ax.set_title('Embedded states', fontsize=title_fontsize)\n",
    "    # sns.scatterplot(x=mds_embedding[:,0], y=mds_embedding[:,1], s=100, \n",
    "    #                 color='grey', edgecolor='black', linewidth=1, ax=ax)\n",
    "    # plt.tight_layout()\n",
    "\n",
    "results_df_ = results_df[(results_df['roi'] == 'L_HPC_thr25') & (results_df['dim'] == '5d')]\n",
    "res_df =  res_df.merge(results_df_, on='sub_id')\n",
    "# sns.histplot(res_df['avg_dwell_time'])\n",
    "# plt.show()"
   ]
  },
  {
   "cell_type": "code",
   "execution_count": null,
   "metadata": {},
   "outputs": [],
   "source": [
    "res_df_  = res_df[res_df['roi'] == 'L_HPC_thr25']\n",
    "corr_df_ = res_df_[['n_train_states', 'n_test_states', 'avg_dwell_time'] + \n",
    "                   ['sni_num_close_friends', 'sni_num_ppl', 'sni_network_div', \n",
    "                    'lsas_fear_score2', 'lsas_av_score2', 'lsas_total_score', 'ctq_score'] + \n",
    "                   ['volume', 'consistency_mean'] + ['dots_avg_pw_dist', 'dots_area']]\n",
    "cm = corr_df_.corr()\n",
    "cm = cm[np.abs(cm) > 0.33]\n",
    "sns.heatmap(cm)\n",
    "plt.show()"
   ]
  },
  {
   "attachments": {},
   "cell_type": "markdown",
   "metadata": {},
   "source": [
    "# DISCARD"
   ]
  },
  {
   "attachments": {},
   "cell_type": "markdown",
   "metadata": {},
   "source": [
    "# Trajectory prediction better than permutation null?\n",
    "Permute the training labels before paramterizing clusters: maintain cluster assignment for test data, circle shift which behavior is in which so break relationship between behavioral parameterization & brain states\n",
    "\n",
    "Better in euclidean distance, not better in cosine distance: so angle is ~same as permuting the data (general directional tendency) but the magnitude is lost"
   ]
  },
  {
   "cell_type": "code",
   "execution_count": null,
   "metadata": {},
   "outputs": [],
   "source": [
    "perm_results_df = pd.DataFrame(columns=['sample', 'n', 'roi', 'metric', 't', 'p'])\n",
    "for metric in ['eucl', 'cos']:\n",
    "    for roi in np.unique(results_df['roi']):\n",
    "        results_df_  = results_df.dropna(subset=[f'{metric}_dist', f'null_{metric}_dist']) # drop any subject with nans\n",
    "        roi_errors   = results_df_[results_df_['roi'] == roi][f'{metric}_dist']\n",
    "        null_errors  = results_df_[results_df_['roi'] == roi][f'null_{metric}_dist']\n",
    "        diffs        = null_errors - roi_errors\n",
    "        diffs        = results_df_[results_df_['roi'] == roi][f'{metric}_dist_diff']\n",
    "\n",
    "        # t-tests: null errors - roi errors: expect positive values if roi is better than null\n",
    "        for sample in ['Initial', 'Validation', 'Both']:\n",
    "            if sample == 'Both':\n",
    "                sample_mask = results_df_['sample'].isin(['Initial', 'Validation'])\n",
    "            else:\n",
    "                sample_mask = results_df_['sample'] == sample\n",
    "            t, p = scipy.stats.ttest_1samp(diffs[sample_mask], popmean=0, alternative='greater')\n",
    "            perm_results_df.loc[len(perm_results_df)] = [sample, len(diffs[sample_mask]), roi, metric, t, p]\n",
    "\n",
    "print_df(perm_results_df)"
   ]
  },
  {
   "attachments": {},
   "cell_type": "markdown",
   "metadata": {},
   "source": [
    "### Better than other ROIs? Yes for Validation sample, no for Initial sample (strong M1 effect)"
   ]
  },
  {
   "cell_type": "code",
   "execution_count": null,
   "metadata": {},
   "outputs": [],
   "source": [
    "ctl_rois = ['M1-p_thr25']\n",
    "roi_results_df = pd.DataFrame(columns=['sample', 'n', 'roi', 'hemi', 'metric', 't', 'p'])\n",
    "for ctl_roi in ctl_rois:\n",
    "    for metric in ['eucl', 'cos']:\n",
    "        for hemi in ['L']:\n",
    "            \n",
    "            ctl_roi_df = results_df[results_df['roi'] == f'{hemi}_{ctl_roi}']\n",
    "            hpc_roi_df = results_df[results_df['roi'] == f'{hemi}_HPC_thr25']\n",
    "\n",
    "            # find sub_ids in both and subset both for them\n",
    "            ctl_sub_ids = set(ctl_roi_df['sub_id'].values)\n",
    "            hpc_sub_ids = set(hpc_roi_df['sub_id'].values)\n",
    "            common_sub_ids = ctl_sub_ids.intersection(hpc_sub_ids)\n",
    "            ctl_roi_df = ctl_roi_df[ctl_roi_df['sub_id'].isin(common_sub_ids)]\n",
    "            hpc_roi_df = hpc_roi_df[hpc_roi_df['sub_id'].isin(common_sub_ids)]\n",
    "            diffs = ctl_roi_df[f'{metric}_dist'].values - hpc_roi_df[f'{metric}_dist'].values\n",
    "\n",
    "            for sample in ['Initial', 'Validation']:\n",
    "                sample_mask = ctl_roi_df['sample'] == sample\n",
    "                t, p = scipy.stats.ttest_1samp(diffs[sample_mask], popmean=0, alternative='greater') # paired samples t-test\n",
    "                roi_results_df.loc[len(roi_results_df)] = [sample, np.sum(sample_mask), ctl_roi, hemi, metric, t, p]\n",
    "            \n",
    "print_df(roi_results_df)"
   ]
  },
  {
   "attachments": {},
   "cell_type": "markdown",
   "metadata": {},
   "source": [
    "### Better than behavior only? No lol"
   ]
  },
  {
   "cell_type": "code",
   "execution_count": null,
   "metadata": {},
   "outputs": [],
   "source": [
    "beh_results_df = pd.DataFrame(columns=['n', 'roi', 'metric', 't', 'p'])\n",
    "for metric in ['cos', 'eucl']:\n",
    "    for roi in np.unique(results_df['roi']):\n",
    "        roi_values = results_df[results_df['roi'] == roi][f'{metric}_dist'].values\n",
    "        beh_values = results_df[results_df['roi'] == roi][f'beh_{metric}_dist'].values\n",
    "        diffs = beh_values - roi_values\n",
    "        t, p = scipy.stats.ttest_1samp(diffs, popmean=0, alternative='greater')\n",
    "        beh_results_df.loc[len(beh_results_df)] = [len(diffs), roi, metric, t, p]\n",
    "        \n",
    "print_df(beh_results_df)"
   ]
  },
  {
   "attachments": {},
   "cell_type": "markdown",
   "metadata": {},
   "source": [
    "# Behavioral trajectories"
   ]
  },
  {
   "cell_type": "code",
   "execution_count": null,
   "metadata": {},
   "outputs": [],
   "source": [
    "beh_trajs = get_behav_trajectories()\n",
    "beh_traj_rdvs = [symm_mat_to_ut_vec(pairwise_trajectory_distances(bt, metric='frechet')) for bt in beh_trajs] # frechet,  hausdorff, or dtw\n",
    "beh_traj_dist = [np.mean(x) for x in beh_traj_rdvs] # average distance/dissimilarity between\n",
    "\n",
    "data['beh_traj_dist'] = beh_traj_dist\n",
    "results_df_ = results_df[results_df['roi'] == 'L_HPC_thr25']\n",
    "results_df_ = results_df_.merge(data[['sub_id', 'beh_traj_dist']], on='sub_id', how='left')\n",
    "print(f'n={len(results_df_)}')\n",
    "\n",
    "# plot mean...\n",
    "# rdm = ut_vec_to_symm_mat(np.mean(beh_traj_rdvs, 0))\n",
    "# print(np.round(rdm, 3))\n",
    "# plot_rdm(rdm, figsize=(4, 4))\n",
    "# plt.show()"
   ]
  },
  {
   "attachments": {},
   "cell_type": "markdown",
   "metadata": {},
   "source": [
    "## Change over task"
   ]
  },
  {
   "cell_type": "code",
   "execution_count": null,
   "metadata": {},
   "outputs": [],
   "source": [
    "# results_df = pd.DataFrame(columns=['sub_id', 'roi', 'dim', 'nn', 'n_states_train', 'n_states_test', 'n_states'] + \n",
    "#                                   ['n_states_half1', 'n_states_half2'] +\n",
    "#                                   [f'n_states_{role}' for role in character_roles[:5]] +\n",
    "#                                   [f'char_states_win{c}' for c in range(1, n_windows+1)])\n",
    "\n",
    "# for sub_id in states.keys():\n",
    "#     states_sub = states[sub_id]\n",
    "\n",
    "#     # cross-validated number of states....\n",
    "#     n_states_train = np.mean([len(np.unique(states_sub[c]['train'])) for c in range(1,6)])\n",
    "#     n_states_test = np.mean([len(np.unique(states_sub[c]['test'])) for c in range(1,6)])\n",
    "\n",
    "#     # overall number of states\n",
    "#     states_sub = states_sub['all']\n",
    "\n",
    "#     # number of unique states\n",
    "#     states_  = remove_neutrals(states_sub)\n",
    "#     n_states = len(np.unique(states_)) # overall number of states\n",
    "#     n_states_h1, n_states_h2 = len(np.unique(states_[:30])), len(np.unique(states_[30:]))\n",
    "\n",
    "#     # states by character\n",
    "#     states_char   = organize_by_character(states_sub)    \n",
    "#     n_states_char = [number_unique_states(states_char[c]) for c in range(5)] # unique states per character\n",
    "#     n_states_sw   = [sliding_window(states_char[c], n_windows, number_unique_states) for c in range(5)] # unique states per character per window\n",
    "#     n_states_sw   = np.mean(n_states_sw, axis=0) # window averages across characters\n",
    "\n",
    "#     # # shannon entropy\n",
    "#     # entropy      = calc_shannon_entropy(states_) # overall entropy\n",
    "#     # entropy_char = [calc_shannon_entropy(states_char[c]) for c in range(5)] # entropy per character\n",
    "#     # entropy_sw   = [sliding_window(states_char[c], n_windows, calc_shannon_entropy) for c in range(5)] # entropy per character per window\n",
    "#     # entropy_sw   = np.mean(entropy_sw, axis=0) # window averages across characters\n",
    "\n",
    "#     # output\n",
    "#     results_df.loc[len(results_df), :] = [sub_id, roi, d, nn, n_states_train, n_states_test, \n",
    "#                                           n_states, n_states_h1, n_states_h2, \n",
    "#                                           *n_states_char, *n_states_sw]\n",
    "\n",
    "# float_cols = [c for c in results_df.columns if ('states' in c) or ('entropy' in c)]\n",
    "# results_df[float_cols] = results_df[float_cols].astype(float)\n",
    "# results_df['sub_id']   = results_df['sub_id'].astype(int)\n",
    "\n",
    "# results_df['n_states_half_diff']    = (results_df['n_states_half2'] - results_df['n_states_half1']) / results_df['n_states_half1']\n",
    "# results_df['char_states_win_diff']  = (results_df[f'char_states_win{n_windows}'] - results_df['char_states_win1']) / results_df['char_states_win1']\n",
    "\n",
    "# results_df = results_df.merge(data, on=['sub_id'])\n",
    "# # print_df(results_df.head(4))"
   ]
  }
 ],
 "metadata": {
  "kernelspec": {
   "display_name": "social_navigation_analysis",
   "language": "python",
   "name": "python3"
  },
  "language_info": {
   "codemirror_mode": {
    "name": "ipython",
    "version": 3
   },
   "file_extension": ".py",
   "mimetype": "text/x-python",
   "name": "python",
   "nbconvert_exporter": "python",
   "pygments_lexer": "ipython3",
   "version": "3.9.17"
  },
  "orig_nbformat": 4,
  "vscode": {
   "interpreter": {
    "hash": "afb432af2a6d4e683b6deca85d226b121832fa8b450f98b144295a2f52816835"
   }
  }
 },
 "nbformat": 4,
 "nbformat_minor": 2
}
